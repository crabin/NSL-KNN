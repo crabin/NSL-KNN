{
 "cells": [
  {
   "cell_type": "code",
   "execution_count": 1,
   "id": "11d12541-0f25-4d78-b039-749f7ac60282",
   "metadata": {},
   "outputs": [
    {
     "data": {
      "text/html": [
       "        <script type=\"text/javascript\">\n",
       "        window.PlotlyConfig = {MathJaxConfig: 'local'};\n",
       "        if (window.MathJax && window.MathJax.Hub && window.MathJax.Hub.Config) {window.MathJax.Hub.Config({SVG: {font: \"STIX-Web\"}});}\n",
       "        if (typeof require !== 'undefined') {\n",
       "        require.undef(\"plotly\");\n",
       "        requirejs.config({\n",
       "            paths: {\n",
       "                'plotly': ['https://cdn.plot.ly/plotly-2.30.0.min']\n",
       "            }\n",
       "        });\n",
       "        require(['plotly'], function(Plotly) {\n",
       "            window._Plotly = Plotly;\n",
       "        });\n",
       "        }\n",
       "        </script>\n",
       "        "
      ]
     },
     "metadata": {},
     "output_type": "display_data"
    }
   ],
   "source": [
    "import numpy as np\n",
    "import pandas as pd\n",
    "import seaborn as sns\n",
    "import joblib\n",
    "import matplotlib.pyplot as plt\n",
    "import plotly.express as px\n",
    "\n",
    "import warnings\n",
    "warnings.filterwarnings('ignore')\n",
    "\n",
    "import lime\n",
    "import lime.lime_tabular\n",
    "import shap\n",
    "\n",
    "from plotly.offline import init_notebook_mode, iplot, plot\n",
    "import plotly as py\n",
    "import plotly.express as px\n",
    "init_notebook_mode(connected=True)\n",
    "import plotly.graph_objs as go"
   ]
  },
  {
   "cell_type": "code",
   "execution_count": 2,
   "id": "af534805-6060-48f6-b07d-3445183e3182",
   "metadata": {},
   "outputs": [
    {
     "data": {
      "text/html": [
       "<div>\n",
       "<style scoped>\n",
       "    .dataframe tbody tr th:only-of-type {\n",
       "        vertical-align: middle;\n",
       "    }\n",
       "\n",
       "    .dataframe tbody tr th {\n",
       "        vertical-align: top;\n",
       "    }\n",
       "\n",
       "    .dataframe thead th {\n",
       "        text-align: right;\n",
       "    }\n",
       "</style>\n",
       "<table border=\"1\" class=\"dataframe\">\n",
       "  <thead>\n",
       "    <tr style=\"text-align: right;\">\n",
       "      <th></th>\n",
       "      <th>duration</th>\n",
       "      <th>protocol_type</th>\n",
       "      <th>service</th>\n",
       "      <th>flag</th>\n",
       "      <th>src_bytes</th>\n",
       "      <th>dst_bytes</th>\n",
       "      <th>land</th>\n",
       "      <th>wrong_fragment</th>\n",
       "      <th>urgent</th>\n",
       "      <th>hot</th>\n",
       "      <th>...</th>\n",
       "      <th>dst_host_same_srv_rate</th>\n",
       "      <th>dst_host_diff_srv_rate</th>\n",
       "      <th>dst_host_same_src_port_rate</th>\n",
       "      <th>dst_host_srv_diff_host_rate</th>\n",
       "      <th>dst_host_serror_rate</th>\n",
       "      <th>dst_host_srv_serror_rate</th>\n",
       "      <th>dst_host_rerror_rate</th>\n",
       "      <th>dst_host_srv_rerror_rate</th>\n",
       "      <th>attack</th>\n",
       "      <th>level</th>\n",
       "    </tr>\n",
       "  </thead>\n",
       "  <tbody>\n",
       "    <tr>\n",
       "      <th>0</th>\n",
       "      <td>0</td>\n",
       "      <td>udp</td>\n",
       "      <td>other</td>\n",
       "      <td>SF</td>\n",
       "      <td>146</td>\n",
       "      <td>0</td>\n",
       "      <td>0</td>\n",
       "      <td>0</td>\n",
       "      <td>0</td>\n",
       "      <td>0</td>\n",
       "      <td>...</td>\n",
       "      <td>0.00</td>\n",
       "      <td>0.60</td>\n",
       "      <td>0.88</td>\n",
       "      <td>0.00</td>\n",
       "      <td>0.00</td>\n",
       "      <td>0.00</td>\n",
       "      <td>0.0</td>\n",
       "      <td>0.00</td>\n",
       "      <td>normal</td>\n",
       "      <td>15</td>\n",
       "    </tr>\n",
       "    <tr>\n",
       "      <th>1</th>\n",
       "      <td>0</td>\n",
       "      <td>tcp</td>\n",
       "      <td>private</td>\n",
       "      <td>S0</td>\n",
       "      <td>0</td>\n",
       "      <td>0</td>\n",
       "      <td>0</td>\n",
       "      <td>0</td>\n",
       "      <td>0</td>\n",
       "      <td>0</td>\n",
       "      <td>...</td>\n",
       "      <td>0.10</td>\n",
       "      <td>0.05</td>\n",
       "      <td>0.00</td>\n",
       "      <td>0.00</td>\n",
       "      <td>1.00</td>\n",
       "      <td>1.00</td>\n",
       "      <td>0.0</td>\n",
       "      <td>0.00</td>\n",
       "      <td>neptune</td>\n",
       "      <td>19</td>\n",
       "    </tr>\n",
       "    <tr>\n",
       "      <th>2</th>\n",
       "      <td>0</td>\n",
       "      <td>tcp</td>\n",
       "      <td>http</td>\n",
       "      <td>SF</td>\n",
       "      <td>232</td>\n",
       "      <td>8153</td>\n",
       "      <td>0</td>\n",
       "      <td>0</td>\n",
       "      <td>0</td>\n",
       "      <td>0</td>\n",
       "      <td>...</td>\n",
       "      <td>1.00</td>\n",
       "      <td>0.00</td>\n",
       "      <td>0.03</td>\n",
       "      <td>0.04</td>\n",
       "      <td>0.03</td>\n",
       "      <td>0.01</td>\n",
       "      <td>0.0</td>\n",
       "      <td>0.01</td>\n",
       "      <td>normal</td>\n",
       "      <td>21</td>\n",
       "    </tr>\n",
       "    <tr>\n",
       "      <th>3</th>\n",
       "      <td>0</td>\n",
       "      <td>tcp</td>\n",
       "      <td>http</td>\n",
       "      <td>SF</td>\n",
       "      <td>199</td>\n",
       "      <td>420</td>\n",
       "      <td>0</td>\n",
       "      <td>0</td>\n",
       "      <td>0</td>\n",
       "      <td>0</td>\n",
       "      <td>...</td>\n",
       "      <td>1.00</td>\n",
       "      <td>0.00</td>\n",
       "      <td>0.00</td>\n",
       "      <td>0.00</td>\n",
       "      <td>0.00</td>\n",
       "      <td>0.00</td>\n",
       "      <td>0.0</td>\n",
       "      <td>0.00</td>\n",
       "      <td>normal</td>\n",
       "      <td>21</td>\n",
       "    </tr>\n",
       "    <tr>\n",
       "      <th>4</th>\n",
       "      <td>0</td>\n",
       "      <td>tcp</td>\n",
       "      <td>private</td>\n",
       "      <td>REJ</td>\n",
       "      <td>0</td>\n",
       "      <td>0</td>\n",
       "      <td>0</td>\n",
       "      <td>0</td>\n",
       "      <td>0</td>\n",
       "      <td>0</td>\n",
       "      <td>...</td>\n",
       "      <td>0.07</td>\n",
       "      <td>0.07</td>\n",
       "      <td>0.00</td>\n",
       "      <td>0.00</td>\n",
       "      <td>0.00</td>\n",
       "      <td>0.00</td>\n",
       "      <td>1.0</td>\n",
       "      <td>1.00</td>\n",
       "      <td>neptune</td>\n",
       "      <td>21</td>\n",
       "    </tr>\n",
       "  </tbody>\n",
       "</table>\n",
       "<p>5 rows × 43 columns</p>\n",
       "</div>"
      ],
      "text/plain": [
       "   duration protocol_type  service flag  src_bytes  dst_bytes  land  \\\n",
       "0         0           udp    other   SF        146          0     0   \n",
       "1         0           tcp  private   S0          0          0     0   \n",
       "2         0           tcp     http   SF        232       8153     0   \n",
       "3         0           tcp     http   SF        199        420     0   \n",
       "4         0           tcp  private  REJ          0          0     0   \n",
       "\n",
       "   wrong_fragment  urgent  hot  ...  dst_host_same_srv_rate  \\\n",
       "0               0       0    0  ...                    0.00   \n",
       "1               0       0    0  ...                    0.10   \n",
       "2               0       0    0  ...                    1.00   \n",
       "3               0       0    0  ...                    1.00   \n",
       "4               0       0    0  ...                    0.07   \n",
       "\n",
       "   dst_host_diff_srv_rate  dst_host_same_src_port_rate  \\\n",
       "0                    0.60                         0.88   \n",
       "1                    0.05                         0.00   \n",
       "2                    0.00                         0.03   \n",
       "3                    0.00                         0.00   \n",
       "4                    0.07                         0.00   \n",
       "\n",
       "   dst_host_srv_diff_host_rate  dst_host_serror_rate  \\\n",
       "0                         0.00                  0.00   \n",
       "1                         0.00                  1.00   \n",
       "2                         0.04                  0.03   \n",
       "3                         0.00                  0.00   \n",
       "4                         0.00                  0.00   \n",
       "\n",
       "   dst_host_srv_serror_rate  dst_host_rerror_rate  dst_host_srv_rerror_rate  \\\n",
       "0                      0.00                   0.0                      0.00   \n",
       "1                      1.00                   0.0                      0.00   \n",
       "2                      0.01                   0.0                      0.01   \n",
       "3                      0.00                   0.0                      0.00   \n",
       "4                      0.00                   1.0                      1.00   \n",
       "\n",
       "    attack  level  \n",
       "0   normal     15  \n",
       "1  neptune     19  \n",
       "2   normal     21  \n",
       "3   normal     21  \n",
       "4  neptune     21  \n",
       "\n",
       "[5 rows x 43 columns]"
      ]
     },
     "execution_count": 2,
     "metadata": {},
     "output_type": "execute_result"
    }
   ],
   "source": [
    "df = pd.read_csv(\"DATA/KDDTrain+.txt\")\n",
    "\n",
    "columns = (['duration','protocol_type','service','flag','src_bytes','dst_bytes','land','wrong_fragment','urgent','hot'\n",
    ",'num_failed_logins','logged_in','num_compromised','root_shell','su_attempted','num_root','num_file_creations'\n",
    ",'num_shells','num_access_files','num_outbound_cmds','is_host_login','is_guest_login','count','srv_count','serror_rate'\n",
    ",'srv_serror_rate','rerror_rate','srv_rerror_rate','same_srv_rate','diff_srv_rate','srv_diff_host_rate','dst_host_count','dst_host_srv_count'\n",
    ",'dst_host_same_srv_rate','dst_host_diff_srv_rate','dst_host_same_src_port_rate','dst_host_srv_diff_host_rate','dst_host_serror_rate'\n",
    ",'dst_host_srv_serror_rate','dst_host_rerror_rate','dst_host_srv_rerror_rate','attack','level'])\n",
    "\n",
    "df.columns = columns\n",
    "df.head()"
   ]
  },
  {
   "cell_type": "code",
   "execution_count": 3,
   "id": "254de0ae-2390-4acc-869e-f0b851b1a51b",
   "metadata": {},
   "outputs": [
    {
     "name": "stdout",
     "output_type": "stream",
     "text": [
      "<class 'pandas.core.frame.DataFrame'>\n",
      "RangeIndex: 125972 entries, 0 to 125971\n",
      "Data columns (total 43 columns):\n",
      " #   Column                       Non-Null Count   Dtype  \n",
      "---  ------                       --------------   -----  \n",
      " 0   duration                     125972 non-null  int64  \n",
      " 1   protocol_type                125972 non-null  object \n",
      " 2   service                      125972 non-null  object \n",
      " 3   flag                         125972 non-null  object \n",
      " 4   src_bytes                    125972 non-null  int64  \n",
      " 5   dst_bytes                    125972 non-null  int64  \n",
      " 6   land                         125972 non-null  int64  \n",
      " 7   wrong_fragment               125972 non-null  int64  \n",
      " 8   urgent                       125972 non-null  int64  \n",
      " 9   hot                          125972 non-null  int64  \n",
      " 10  num_failed_logins            125972 non-null  int64  \n",
      " 11  logged_in                    125972 non-null  int64  \n",
      " 12  num_compromised              125972 non-null  int64  \n",
      " 13  root_shell                   125972 non-null  int64  \n",
      " 14  su_attempted                 125972 non-null  int64  \n",
      " 15  num_root                     125972 non-null  int64  \n",
      " 16  num_file_creations           125972 non-null  int64  \n",
      " 17  num_shells                   125972 non-null  int64  \n",
      " 18  num_access_files             125972 non-null  int64  \n",
      " 19  num_outbound_cmds            125972 non-null  int64  \n",
      " 20  is_host_login                125972 non-null  int64  \n",
      " 21  is_guest_login               125972 non-null  int64  \n",
      " 22  count                        125972 non-null  int64  \n",
      " 23  srv_count                    125972 non-null  int64  \n",
      " 24  serror_rate                  125972 non-null  float64\n",
      " 25  srv_serror_rate              125972 non-null  float64\n",
      " 26  rerror_rate                  125972 non-null  float64\n",
      " 27  srv_rerror_rate              125972 non-null  float64\n",
      " 28  same_srv_rate                125972 non-null  float64\n",
      " 29  diff_srv_rate                125972 non-null  float64\n",
      " 30  srv_diff_host_rate           125972 non-null  float64\n",
      " 31  dst_host_count               125972 non-null  int64  \n",
      " 32  dst_host_srv_count           125972 non-null  int64  \n",
      " 33  dst_host_same_srv_rate       125972 non-null  float64\n",
      " 34  dst_host_diff_srv_rate       125972 non-null  float64\n",
      " 35  dst_host_same_src_port_rate  125972 non-null  float64\n",
      " 36  dst_host_srv_diff_host_rate  125972 non-null  float64\n",
      " 37  dst_host_serror_rate         125972 non-null  float64\n",
      " 38  dst_host_srv_serror_rate     125972 non-null  float64\n",
      " 39  dst_host_rerror_rate         125972 non-null  float64\n",
      " 40  dst_host_srv_rerror_rate     125972 non-null  float64\n",
      " 41  attack                       125972 non-null  object \n",
      " 42  level                        125972 non-null  int64  \n",
      "dtypes: float64(15), int64(24), object(4)\n",
      "memory usage: 41.3+ MB\n"
     ]
    }
   ],
   "source": [
    "df.info()"
   ]
  },
  {
   "cell_type": "code",
   "execution_count": 4,
   "id": "e00028b4-b841-4e29-b9b1-2068285610ab",
   "metadata": {},
   "outputs": [
    {
     "data": {
      "text/html": [
       "<div>\n",
       "<style scoped>\n",
       "    .dataframe tbody tr th:only-of-type {\n",
       "        vertical-align: middle;\n",
       "    }\n",
       "\n",
       "    .dataframe tbody tr th {\n",
       "        vertical-align: top;\n",
       "    }\n",
       "\n",
       "    .dataframe thead th {\n",
       "        text-align: right;\n",
       "    }\n",
       "</style>\n",
       "<table border=\"1\" class=\"dataframe\">\n",
       "  <thead>\n",
       "    <tr style=\"text-align: right;\">\n",
       "      <th></th>\n",
       "      <th>count</th>\n",
       "      <th>mean</th>\n",
       "      <th>std</th>\n",
       "      <th>min</th>\n",
       "      <th>25%</th>\n",
       "      <th>50%</th>\n",
       "      <th>75%</th>\n",
       "      <th>max</th>\n",
       "    </tr>\n",
       "  </thead>\n",
       "  <tbody>\n",
       "    <tr>\n",
       "      <th>duration</th>\n",
       "      <td>125972.0</td>\n",
       "      <td>287.146929</td>\n",
       "      <td>2.604526e+03</td>\n",
       "      <td>0.0</td>\n",
       "      <td>0.00</td>\n",
       "      <td>0.00</td>\n",
       "      <td>0.00</td>\n",
       "      <td>4.290800e+04</td>\n",
       "    </tr>\n",
       "    <tr>\n",
       "      <th>src_bytes</th>\n",
       "      <td>125972.0</td>\n",
       "      <td>45567.100824</td>\n",
       "      <td>5.870354e+06</td>\n",
       "      <td>0.0</td>\n",
       "      <td>0.00</td>\n",
       "      <td>44.00</td>\n",
       "      <td>276.00</td>\n",
       "      <td>1.379964e+09</td>\n",
       "    </tr>\n",
       "    <tr>\n",
       "      <th>dst_bytes</th>\n",
       "      <td>125972.0</td>\n",
       "      <td>19779.271433</td>\n",
       "      <td>4.021285e+06</td>\n",
       "      <td>0.0</td>\n",
       "      <td>0.00</td>\n",
       "      <td>0.00</td>\n",
       "      <td>516.00</td>\n",
       "      <td>1.309937e+09</td>\n",
       "    </tr>\n",
       "    <tr>\n",
       "      <th>land</th>\n",
       "      <td>125972.0</td>\n",
       "      <td>0.000198</td>\n",
       "      <td>1.408613e-02</td>\n",
       "      <td>0.0</td>\n",
       "      <td>0.00</td>\n",
       "      <td>0.00</td>\n",
       "      <td>0.00</td>\n",
       "      <td>1.000000e+00</td>\n",
       "    </tr>\n",
       "    <tr>\n",
       "      <th>wrong_fragment</th>\n",
       "      <td>125972.0</td>\n",
       "      <td>0.022688</td>\n",
       "      <td>2.535310e-01</td>\n",
       "      <td>0.0</td>\n",
       "      <td>0.00</td>\n",
       "      <td>0.00</td>\n",
       "      <td>0.00</td>\n",
       "      <td>3.000000e+00</td>\n",
       "    </tr>\n",
       "    <tr>\n",
       "      <th>urgent</th>\n",
       "      <td>125972.0</td>\n",
       "      <td>0.000111</td>\n",
       "      <td>1.436608e-02</td>\n",
       "      <td>0.0</td>\n",
       "      <td>0.00</td>\n",
       "      <td>0.00</td>\n",
       "      <td>0.00</td>\n",
       "      <td>3.000000e+00</td>\n",
       "    </tr>\n",
       "    <tr>\n",
       "      <th>hot</th>\n",
       "      <td>125972.0</td>\n",
       "      <td>0.204411</td>\n",
       "      <td>2.149977e+00</td>\n",
       "      <td>0.0</td>\n",
       "      <td>0.00</td>\n",
       "      <td>0.00</td>\n",
       "      <td>0.00</td>\n",
       "      <td>7.700000e+01</td>\n",
       "    </tr>\n",
       "    <tr>\n",
       "      <th>num_failed_logins</th>\n",
       "      <td>125972.0</td>\n",
       "      <td>0.001222</td>\n",
       "      <td>4.523932e-02</td>\n",
       "      <td>0.0</td>\n",
       "      <td>0.00</td>\n",
       "      <td>0.00</td>\n",
       "      <td>0.00</td>\n",
       "      <td>5.000000e+00</td>\n",
       "    </tr>\n",
       "    <tr>\n",
       "      <th>logged_in</th>\n",
       "      <td>125972.0</td>\n",
       "      <td>0.395739</td>\n",
       "      <td>4.890107e-01</td>\n",
       "      <td>0.0</td>\n",
       "      <td>0.00</td>\n",
       "      <td>0.00</td>\n",
       "      <td>1.00</td>\n",
       "      <td>1.000000e+00</td>\n",
       "    </tr>\n",
       "    <tr>\n",
       "      <th>num_compromised</th>\n",
       "      <td>125972.0</td>\n",
       "      <td>0.279253</td>\n",
       "      <td>2.394214e+01</td>\n",
       "      <td>0.0</td>\n",
       "      <td>0.00</td>\n",
       "      <td>0.00</td>\n",
       "      <td>0.00</td>\n",
       "      <td>7.479000e+03</td>\n",
       "    </tr>\n",
       "    <tr>\n",
       "      <th>root_shell</th>\n",
       "      <td>125972.0</td>\n",
       "      <td>0.001342</td>\n",
       "      <td>3.660299e-02</td>\n",
       "      <td>0.0</td>\n",
       "      <td>0.00</td>\n",
       "      <td>0.00</td>\n",
       "      <td>0.00</td>\n",
       "      <td>1.000000e+00</td>\n",
       "    </tr>\n",
       "    <tr>\n",
       "      <th>su_attempted</th>\n",
       "      <td>125972.0</td>\n",
       "      <td>0.001103</td>\n",
       "      <td>4.515456e-02</td>\n",
       "      <td>0.0</td>\n",
       "      <td>0.00</td>\n",
       "      <td>0.00</td>\n",
       "      <td>0.00</td>\n",
       "      <td>2.000000e+00</td>\n",
       "    </tr>\n",
       "    <tr>\n",
       "      <th>num_root</th>\n",
       "      <td>125972.0</td>\n",
       "      <td>0.302194</td>\n",
       "      <td>2.439971e+01</td>\n",
       "      <td>0.0</td>\n",
       "      <td>0.00</td>\n",
       "      <td>0.00</td>\n",
       "      <td>0.00</td>\n",
       "      <td>7.468000e+03</td>\n",
       "    </tr>\n",
       "    <tr>\n",
       "      <th>num_file_creations</th>\n",
       "      <td>125972.0</td>\n",
       "      <td>0.012669</td>\n",
       "      <td>4.839370e-01</td>\n",
       "      <td>0.0</td>\n",
       "      <td>0.00</td>\n",
       "      <td>0.00</td>\n",
       "      <td>0.00</td>\n",
       "      <td>4.300000e+01</td>\n",
       "    </tr>\n",
       "    <tr>\n",
       "      <th>num_shells</th>\n",
       "      <td>125972.0</td>\n",
       "      <td>0.000413</td>\n",
       "      <td>2.218122e-02</td>\n",
       "      <td>0.0</td>\n",
       "      <td>0.00</td>\n",
       "      <td>0.00</td>\n",
       "      <td>0.00</td>\n",
       "      <td>2.000000e+00</td>\n",
       "    </tr>\n",
       "    <tr>\n",
       "      <th>num_access_files</th>\n",
       "      <td>125972.0</td>\n",
       "      <td>0.004096</td>\n",
       "      <td>9.936995e-02</td>\n",
       "      <td>0.0</td>\n",
       "      <td>0.00</td>\n",
       "      <td>0.00</td>\n",
       "      <td>0.00</td>\n",
       "      <td>9.000000e+00</td>\n",
       "    </tr>\n",
       "    <tr>\n",
       "      <th>num_outbound_cmds</th>\n",
       "      <td>125972.0</td>\n",
       "      <td>0.000000</td>\n",
       "      <td>0.000000e+00</td>\n",
       "      <td>0.0</td>\n",
       "      <td>0.00</td>\n",
       "      <td>0.00</td>\n",
       "      <td>0.00</td>\n",
       "      <td>0.000000e+00</td>\n",
       "    </tr>\n",
       "    <tr>\n",
       "      <th>is_host_login</th>\n",
       "      <td>125972.0</td>\n",
       "      <td>0.000008</td>\n",
       "      <td>2.817494e-03</td>\n",
       "      <td>0.0</td>\n",
       "      <td>0.00</td>\n",
       "      <td>0.00</td>\n",
       "      <td>0.00</td>\n",
       "      <td>1.000000e+00</td>\n",
       "    </tr>\n",
       "    <tr>\n",
       "      <th>is_guest_login</th>\n",
       "      <td>125972.0</td>\n",
       "      <td>0.009423</td>\n",
       "      <td>9.661271e-02</td>\n",
       "      <td>0.0</td>\n",
       "      <td>0.00</td>\n",
       "      <td>0.00</td>\n",
       "      <td>0.00</td>\n",
       "      <td>1.000000e+00</td>\n",
       "    </tr>\n",
       "    <tr>\n",
       "      <th>count</th>\n",
       "      <td>125972.0</td>\n",
       "      <td>84.108207</td>\n",
       "      <td>1.145088e+02</td>\n",
       "      <td>0.0</td>\n",
       "      <td>2.00</td>\n",
       "      <td>14.00</td>\n",
       "      <td>143.00</td>\n",
       "      <td>5.110000e+02</td>\n",
       "    </tr>\n",
       "    <tr>\n",
       "      <th>srv_count</th>\n",
       "      <td>125972.0</td>\n",
       "      <td>27.738093</td>\n",
       "      <td>7.263609e+01</td>\n",
       "      <td>0.0</td>\n",
       "      <td>2.00</td>\n",
       "      <td>8.00</td>\n",
       "      <td>18.00</td>\n",
       "      <td>5.110000e+02</td>\n",
       "    </tr>\n",
       "    <tr>\n",
       "      <th>serror_rate</th>\n",
       "      <td>125972.0</td>\n",
       "      <td>0.284487</td>\n",
       "      <td>4.464567e-01</td>\n",
       "      <td>0.0</td>\n",
       "      <td>0.00</td>\n",
       "      <td>0.00</td>\n",
       "      <td>1.00</td>\n",
       "      <td>1.000000e+00</td>\n",
       "    </tr>\n",
       "    <tr>\n",
       "      <th>srv_serror_rate</th>\n",
       "      <td>125972.0</td>\n",
       "      <td>0.282488</td>\n",
       "      <td>4.470236e-01</td>\n",
       "      <td>0.0</td>\n",
       "      <td>0.00</td>\n",
       "      <td>0.00</td>\n",
       "      <td>1.00</td>\n",
       "      <td>1.000000e+00</td>\n",
       "    </tr>\n",
       "    <tr>\n",
       "      <th>rerror_rate</th>\n",
       "      <td>125972.0</td>\n",
       "      <td>0.119959</td>\n",
       "      <td>3.204366e-01</td>\n",
       "      <td>0.0</td>\n",
       "      <td>0.00</td>\n",
       "      <td>0.00</td>\n",
       "      <td>0.00</td>\n",
       "      <td>1.000000e+00</td>\n",
       "    </tr>\n",
       "    <tr>\n",
       "      <th>srv_rerror_rate</th>\n",
       "      <td>125972.0</td>\n",
       "      <td>0.121184</td>\n",
       "      <td>3.236483e-01</td>\n",
       "      <td>0.0</td>\n",
       "      <td>0.00</td>\n",
       "      <td>0.00</td>\n",
       "      <td>0.00</td>\n",
       "      <td>1.000000e+00</td>\n",
       "    </tr>\n",
       "    <tr>\n",
       "      <th>same_srv_rate</th>\n",
       "      <td>125972.0</td>\n",
       "      <td>0.660925</td>\n",
       "      <td>4.396236e-01</td>\n",
       "      <td>0.0</td>\n",
       "      <td>0.09</td>\n",
       "      <td>1.00</td>\n",
       "      <td>1.00</td>\n",
       "      <td>1.000000e+00</td>\n",
       "    </tr>\n",
       "    <tr>\n",
       "      <th>diff_srv_rate</th>\n",
       "      <td>125972.0</td>\n",
       "      <td>0.063053</td>\n",
       "      <td>1.803150e-01</td>\n",
       "      <td>0.0</td>\n",
       "      <td>0.00</td>\n",
       "      <td>0.00</td>\n",
       "      <td>0.06</td>\n",
       "      <td>1.000000e+00</td>\n",
       "    </tr>\n",
       "    <tr>\n",
       "      <th>srv_diff_host_rate</th>\n",
       "      <td>125972.0</td>\n",
       "      <td>0.097322</td>\n",
       "      <td>2.598314e-01</td>\n",
       "      <td>0.0</td>\n",
       "      <td>0.00</td>\n",
       "      <td>0.00</td>\n",
       "      <td>0.00</td>\n",
       "      <td>1.000000e+00</td>\n",
       "    </tr>\n",
       "    <tr>\n",
       "      <th>dst_host_count</th>\n",
       "      <td>125972.0</td>\n",
       "      <td>182.149200</td>\n",
       "      <td>9.920657e+01</td>\n",
       "      <td>0.0</td>\n",
       "      <td>82.00</td>\n",
       "      <td>255.00</td>\n",
       "      <td>255.00</td>\n",
       "      <td>2.550000e+02</td>\n",
       "    </tr>\n",
       "    <tr>\n",
       "      <th>dst_host_srv_count</th>\n",
       "      <td>125972.0</td>\n",
       "      <td>115.653725</td>\n",
       "      <td>1.107029e+02</td>\n",
       "      <td>0.0</td>\n",
       "      <td>10.00</td>\n",
       "      <td>63.00</td>\n",
       "      <td>255.00</td>\n",
       "      <td>2.550000e+02</td>\n",
       "    </tr>\n",
       "    <tr>\n",
       "      <th>dst_host_same_srv_rate</th>\n",
       "      <td>125972.0</td>\n",
       "      <td>0.521244</td>\n",
       "      <td>4.489501e-01</td>\n",
       "      <td>0.0</td>\n",
       "      <td>0.05</td>\n",
       "      <td>0.51</td>\n",
       "      <td>1.00</td>\n",
       "      <td>1.000000e+00</td>\n",
       "    </tr>\n",
       "    <tr>\n",
       "      <th>dst_host_diff_srv_rate</th>\n",
       "      <td>125972.0</td>\n",
       "      <td>0.082952</td>\n",
       "      <td>1.889225e-01</td>\n",
       "      <td>0.0</td>\n",
       "      <td>0.00</td>\n",
       "      <td>0.02</td>\n",
       "      <td>0.07</td>\n",
       "      <td>1.000000e+00</td>\n",
       "    </tr>\n",
       "    <tr>\n",
       "      <th>dst_host_same_src_port_rate</th>\n",
       "      <td>125972.0</td>\n",
       "      <td>0.148379</td>\n",
       "      <td>3.089984e-01</td>\n",
       "      <td>0.0</td>\n",
       "      <td>0.00</td>\n",
       "      <td>0.00</td>\n",
       "      <td>0.06</td>\n",
       "      <td>1.000000e+00</td>\n",
       "    </tr>\n",
       "    <tr>\n",
       "      <th>dst_host_srv_diff_host_rate</th>\n",
       "      <td>125972.0</td>\n",
       "      <td>0.032543</td>\n",
       "      <td>1.125642e-01</td>\n",
       "      <td>0.0</td>\n",
       "      <td>0.00</td>\n",
       "      <td>0.00</td>\n",
       "      <td>0.02</td>\n",
       "      <td>1.000000e+00</td>\n",
       "    </tr>\n",
       "    <tr>\n",
       "      <th>dst_host_serror_rate</th>\n",
       "      <td>125972.0</td>\n",
       "      <td>0.284455</td>\n",
       "      <td>4.447851e-01</td>\n",
       "      <td>0.0</td>\n",
       "      <td>0.00</td>\n",
       "      <td>0.00</td>\n",
       "      <td>1.00</td>\n",
       "      <td>1.000000e+00</td>\n",
       "    </tr>\n",
       "    <tr>\n",
       "      <th>dst_host_srv_serror_rate</th>\n",
       "      <td>125972.0</td>\n",
       "      <td>0.278487</td>\n",
       "      <td>4.456702e-01</td>\n",
       "      <td>0.0</td>\n",
       "      <td>0.00</td>\n",
       "      <td>0.00</td>\n",
       "      <td>1.00</td>\n",
       "      <td>1.000000e+00</td>\n",
       "    </tr>\n",
       "    <tr>\n",
       "      <th>dst_host_rerror_rate</th>\n",
       "      <td>125972.0</td>\n",
       "      <td>0.118832</td>\n",
       "      <td>3.065586e-01</td>\n",
       "      <td>0.0</td>\n",
       "      <td>0.00</td>\n",
       "      <td>0.00</td>\n",
       "      <td>0.00</td>\n",
       "      <td>1.000000e+00</td>\n",
       "    </tr>\n",
       "    <tr>\n",
       "      <th>dst_host_srv_rerror_rate</th>\n",
       "      <td>125972.0</td>\n",
       "      <td>0.120241</td>\n",
       "      <td>3.194605e-01</td>\n",
       "      <td>0.0</td>\n",
       "      <td>0.00</td>\n",
       "      <td>0.00</td>\n",
       "      <td>0.00</td>\n",
       "      <td>1.000000e+00</td>\n",
       "    </tr>\n",
       "    <tr>\n",
       "      <th>level</th>\n",
       "      <td>125972.0</td>\n",
       "      <td>19.504056</td>\n",
       "      <td>2.291512e+00</td>\n",
       "      <td>0.0</td>\n",
       "      <td>18.00</td>\n",
       "      <td>20.00</td>\n",
       "      <td>21.00</td>\n",
       "      <td>2.100000e+01</td>\n",
       "    </tr>\n",
       "  </tbody>\n",
       "</table>\n",
       "</div>"
      ],
      "text/plain": [
       "                                count          mean           std  min    25%  \\\n",
       "duration                     125972.0    287.146929  2.604526e+03  0.0   0.00   \n",
       "src_bytes                    125972.0  45567.100824  5.870354e+06  0.0   0.00   \n",
       "dst_bytes                    125972.0  19779.271433  4.021285e+06  0.0   0.00   \n",
       "land                         125972.0      0.000198  1.408613e-02  0.0   0.00   \n",
       "wrong_fragment               125972.0      0.022688  2.535310e-01  0.0   0.00   \n",
       "urgent                       125972.0      0.000111  1.436608e-02  0.0   0.00   \n",
       "hot                          125972.0      0.204411  2.149977e+00  0.0   0.00   \n",
       "num_failed_logins            125972.0      0.001222  4.523932e-02  0.0   0.00   \n",
       "logged_in                    125972.0      0.395739  4.890107e-01  0.0   0.00   \n",
       "num_compromised              125972.0      0.279253  2.394214e+01  0.0   0.00   \n",
       "root_shell                   125972.0      0.001342  3.660299e-02  0.0   0.00   \n",
       "su_attempted                 125972.0      0.001103  4.515456e-02  0.0   0.00   \n",
       "num_root                     125972.0      0.302194  2.439971e+01  0.0   0.00   \n",
       "num_file_creations           125972.0      0.012669  4.839370e-01  0.0   0.00   \n",
       "num_shells                   125972.0      0.000413  2.218122e-02  0.0   0.00   \n",
       "num_access_files             125972.0      0.004096  9.936995e-02  0.0   0.00   \n",
       "num_outbound_cmds            125972.0      0.000000  0.000000e+00  0.0   0.00   \n",
       "is_host_login                125972.0      0.000008  2.817494e-03  0.0   0.00   \n",
       "is_guest_login               125972.0      0.009423  9.661271e-02  0.0   0.00   \n",
       "count                        125972.0     84.108207  1.145088e+02  0.0   2.00   \n",
       "srv_count                    125972.0     27.738093  7.263609e+01  0.0   2.00   \n",
       "serror_rate                  125972.0      0.284487  4.464567e-01  0.0   0.00   \n",
       "srv_serror_rate              125972.0      0.282488  4.470236e-01  0.0   0.00   \n",
       "rerror_rate                  125972.0      0.119959  3.204366e-01  0.0   0.00   \n",
       "srv_rerror_rate              125972.0      0.121184  3.236483e-01  0.0   0.00   \n",
       "same_srv_rate                125972.0      0.660925  4.396236e-01  0.0   0.09   \n",
       "diff_srv_rate                125972.0      0.063053  1.803150e-01  0.0   0.00   \n",
       "srv_diff_host_rate           125972.0      0.097322  2.598314e-01  0.0   0.00   \n",
       "dst_host_count               125972.0    182.149200  9.920657e+01  0.0  82.00   \n",
       "dst_host_srv_count           125972.0    115.653725  1.107029e+02  0.0  10.00   \n",
       "dst_host_same_srv_rate       125972.0      0.521244  4.489501e-01  0.0   0.05   \n",
       "dst_host_diff_srv_rate       125972.0      0.082952  1.889225e-01  0.0   0.00   \n",
       "dst_host_same_src_port_rate  125972.0      0.148379  3.089984e-01  0.0   0.00   \n",
       "dst_host_srv_diff_host_rate  125972.0      0.032543  1.125642e-01  0.0   0.00   \n",
       "dst_host_serror_rate         125972.0      0.284455  4.447851e-01  0.0   0.00   \n",
       "dst_host_srv_serror_rate     125972.0      0.278487  4.456702e-01  0.0   0.00   \n",
       "dst_host_rerror_rate         125972.0      0.118832  3.065586e-01  0.0   0.00   \n",
       "dst_host_srv_rerror_rate     125972.0      0.120241  3.194605e-01  0.0   0.00   \n",
       "level                        125972.0     19.504056  2.291512e+00  0.0  18.00   \n",
       "\n",
       "                                50%     75%           max  \n",
       "duration                       0.00    0.00  4.290800e+04  \n",
       "src_bytes                     44.00  276.00  1.379964e+09  \n",
       "dst_bytes                      0.00  516.00  1.309937e+09  \n",
       "land                           0.00    0.00  1.000000e+00  \n",
       "wrong_fragment                 0.00    0.00  3.000000e+00  \n",
       "urgent                         0.00    0.00  3.000000e+00  \n",
       "hot                            0.00    0.00  7.700000e+01  \n",
       "num_failed_logins              0.00    0.00  5.000000e+00  \n",
       "logged_in                      0.00    1.00  1.000000e+00  \n",
       "num_compromised                0.00    0.00  7.479000e+03  \n",
       "root_shell                     0.00    0.00  1.000000e+00  \n",
       "su_attempted                   0.00    0.00  2.000000e+00  \n",
       "num_root                       0.00    0.00  7.468000e+03  \n",
       "num_file_creations             0.00    0.00  4.300000e+01  \n",
       "num_shells                     0.00    0.00  2.000000e+00  \n",
       "num_access_files               0.00    0.00  9.000000e+00  \n",
       "num_outbound_cmds              0.00    0.00  0.000000e+00  \n",
       "is_host_login                  0.00    0.00  1.000000e+00  \n",
       "is_guest_login                 0.00    0.00  1.000000e+00  \n",
       "count                         14.00  143.00  5.110000e+02  \n",
       "srv_count                      8.00   18.00  5.110000e+02  \n",
       "serror_rate                    0.00    1.00  1.000000e+00  \n",
       "srv_serror_rate                0.00    1.00  1.000000e+00  \n",
       "rerror_rate                    0.00    0.00  1.000000e+00  \n",
       "srv_rerror_rate                0.00    0.00  1.000000e+00  \n",
       "same_srv_rate                  1.00    1.00  1.000000e+00  \n",
       "diff_srv_rate                  0.00    0.06  1.000000e+00  \n",
       "srv_diff_host_rate             0.00    0.00  1.000000e+00  \n",
       "dst_host_count               255.00  255.00  2.550000e+02  \n",
       "dst_host_srv_count            63.00  255.00  2.550000e+02  \n",
       "dst_host_same_srv_rate         0.51    1.00  1.000000e+00  \n",
       "dst_host_diff_srv_rate         0.02    0.07  1.000000e+00  \n",
       "dst_host_same_src_port_rate    0.00    0.06  1.000000e+00  \n",
       "dst_host_srv_diff_host_rate    0.00    0.02  1.000000e+00  \n",
       "dst_host_serror_rate           0.00    1.00  1.000000e+00  \n",
       "dst_host_srv_serror_rate       0.00    1.00  1.000000e+00  \n",
       "dst_host_rerror_rate           0.00    0.00  1.000000e+00  \n",
       "dst_host_srv_rerror_rate       0.00    0.00  1.000000e+00  \n",
       "level                         20.00   21.00  2.100000e+01  "
      ]
     },
     "execution_count": 4,
     "metadata": {},
     "output_type": "execute_result"
    }
   ],
   "source": [
    "df.describe().T"
   ]
  },
  {
   "cell_type": "code",
   "execution_count": 5,
   "id": "c17ac965-95c9-44be-bf31-6069b2365616",
   "metadata": {},
   "outputs": [
    {
     "data": {
      "text/html": [
       "<div>\n",
       "<style scoped>\n",
       "    .dataframe tbody tr th:only-of-type {\n",
       "        vertical-align: middle;\n",
       "    }\n",
       "\n",
       "    .dataframe tbody tr th {\n",
       "        vertical-align: top;\n",
       "    }\n",
       "\n",
       "    .dataframe thead th {\n",
       "        text-align: right;\n",
       "    }\n",
       "</style>\n",
       "<table border=\"1\" class=\"dataframe\">\n",
       "  <thead>\n",
       "    <tr style=\"text-align: right;\">\n",
       "      <th></th>\n",
       "      <th>duration</th>\n",
       "      <th>protocol_type</th>\n",
       "      <th>service</th>\n",
       "      <th>flag</th>\n",
       "      <th>src_bytes</th>\n",
       "      <th>dst_bytes</th>\n",
       "      <th>land</th>\n",
       "      <th>wrong_fragment</th>\n",
       "      <th>urgent</th>\n",
       "      <th>hot</th>\n",
       "      <th>...</th>\n",
       "      <th>dst_host_srv_count</th>\n",
       "      <th>dst_host_same_srv_rate</th>\n",
       "      <th>dst_host_diff_srv_rate</th>\n",
       "      <th>dst_host_same_src_port_rate</th>\n",
       "      <th>dst_host_srv_diff_host_rate</th>\n",
       "      <th>dst_host_serror_rate</th>\n",
       "      <th>dst_host_srv_serror_rate</th>\n",
       "      <th>dst_host_rerror_rate</th>\n",
       "      <th>dst_host_srv_rerror_rate</th>\n",
       "      <th>attack</th>\n",
       "    </tr>\n",
       "  </thead>\n",
       "  <tbody>\n",
       "    <tr>\n",
       "      <th>0</th>\n",
       "      <td>0</td>\n",
       "      <td>udp</td>\n",
       "      <td>other</td>\n",
       "      <td>SF</td>\n",
       "      <td>146</td>\n",
       "      <td>0</td>\n",
       "      <td>0</td>\n",
       "      <td>0</td>\n",
       "      <td>0</td>\n",
       "      <td>0</td>\n",
       "      <td>...</td>\n",
       "      <td>1</td>\n",
       "      <td>0.00</td>\n",
       "      <td>0.60</td>\n",
       "      <td>0.88</td>\n",
       "      <td>0.00</td>\n",
       "      <td>0.00</td>\n",
       "      <td>0.00</td>\n",
       "      <td>0.00</td>\n",
       "      <td>0.00</td>\n",
       "      <td>normal</td>\n",
       "    </tr>\n",
       "    <tr>\n",
       "      <th>1</th>\n",
       "      <td>0</td>\n",
       "      <td>tcp</td>\n",
       "      <td>private</td>\n",
       "      <td>S0</td>\n",
       "      <td>0</td>\n",
       "      <td>0</td>\n",
       "      <td>0</td>\n",
       "      <td>0</td>\n",
       "      <td>0</td>\n",
       "      <td>0</td>\n",
       "      <td>...</td>\n",
       "      <td>26</td>\n",
       "      <td>0.10</td>\n",
       "      <td>0.05</td>\n",
       "      <td>0.00</td>\n",
       "      <td>0.00</td>\n",
       "      <td>1.00</td>\n",
       "      <td>1.00</td>\n",
       "      <td>0.00</td>\n",
       "      <td>0.00</td>\n",
       "      <td>neptune</td>\n",
       "    </tr>\n",
       "    <tr>\n",
       "      <th>2</th>\n",
       "      <td>0</td>\n",
       "      <td>tcp</td>\n",
       "      <td>http</td>\n",
       "      <td>SF</td>\n",
       "      <td>232</td>\n",
       "      <td>8153</td>\n",
       "      <td>0</td>\n",
       "      <td>0</td>\n",
       "      <td>0</td>\n",
       "      <td>0</td>\n",
       "      <td>...</td>\n",
       "      <td>255</td>\n",
       "      <td>1.00</td>\n",
       "      <td>0.00</td>\n",
       "      <td>0.03</td>\n",
       "      <td>0.04</td>\n",
       "      <td>0.03</td>\n",
       "      <td>0.01</td>\n",
       "      <td>0.00</td>\n",
       "      <td>0.01</td>\n",
       "      <td>normal</td>\n",
       "    </tr>\n",
       "    <tr>\n",
       "      <th>3</th>\n",
       "      <td>0</td>\n",
       "      <td>tcp</td>\n",
       "      <td>http</td>\n",
       "      <td>SF</td>\n",
       "      <td>199</td>\n",
       "      <td>420</td>\n",
       "      <td>0</td>\n",
       "      <td>0</td>\n",
       "      <td>0</td>\n",
       "      <td>0</td>\n",
       "      <td>...</td>\n",
       "      <td>255</td>\n",
       "      <td>1.00</td>\n",
       "      <td>0.00</td>\n",
       "      <td>0.00</td>\n",
       "      <td>0.00</td>\n",
       "      <td>0.00</td>\n",
       "      <td>0.00</td>\n",
       "      <td>0.00</td>\n",
       "      <td>0.00</td>\n",
       "      <td>normal</td>\n",
       "    </tr>\n",
       "    <tr>\n",
       "      <th>4</th>\n",
       "      <td>0</td>\n",
       "      <td>tcp</td>\n",
       "      <td>private</td>\n",
       "      <td>REJ</td>\n",
       "      <td>0</td>\n",
       "      <td>0</td>\n",
       "      <td>0</td>\n",
       "      <td>0</td>\n",
       "      <td>0</td>\n",
       "      <td>0</td>\n",
       "      <td>...</td>\n",
       "      <td>19</td>\n",
       "      <td>0.07</td>\n",
       "      <td>0.07</td>\n",
       "      <td>0.00</td>\n",
       "      <td>0.00</td>\n",
       "      <td>0.00</td>\n",
       "      <td>0.00</td>\n",
       "      <td>1.00</td>\n",
       "      <td>1.00</td>\n",
       "      <td>neptune</td>\n",
       "    </tr>\n",
       "    <tr>\n",
       "      <th>...</th>\n",
       "      <td>...</td>\n",
       "      <td>...</td>\n",
       "      <td>...</td>\n",
       "      <td>...</td>\n",
       "      <td>...</td>\n",
       "      <td>...</td>\n",
       "      <td>...</td>\n",
       "      <td>...</td>\n",
       "      <td>...</td>\n",
       "      <td>...</td>\n",
       "      <td>...</td>\n",
       "      <td>...</td>\n",
       "      <td>...</td>\n",
       "      <td>...</td>\n",
       "      <td>...</td>\n",
       "      <td>...</td>\n",
       "      <td>...</td>\n",
       "      <td>...</td>\n",
       "      <td>...</td>\n",
       "      <td>...</td>\n",
       "      <td>...</td>\n",
       "    </tr>\n",
       "    <tr>\n",
       "      <th>125967</th>\n",
       "      <td>0</td>\n",
       "      <td>tcp</td>\n",
       "      <td>private</td>\n",
       "      <td>S0</td>\n",
       "      <td>0</td>\n",
       "      <td>0</td>\n",
       "      <td>0</td>\n",
       "      <td>0</td>\n",
       "      <td>0</td>\n",
       "      <td>0</td>\n",
       "      <td>...</td>\n",
       "      <td>25</td>\n",
       "      <td>0.10</td>\n",
       "      <td>0.06</td>\n",
       "      <td>0.00</td>\n",
       "      <td>0.00</td>\n",
       "      <td>1.00</td>\n",
       "      <td>1.00</td>\n",
       "      <td>0.00</td>\n",
       "      <td>0.00</td>\n",
       "      <td>neptune</td>\n",
       "    </tr>\n",
       "    <tr>\n",
       "      <th>125968</th>\n",
       "      <td>8</td>\n",
       "      <td>udp</td>\n",
       "      <td>private</td>\n",
       "      <td>SF</td>\n",
       "      <td>105</td>\n",
       "      <td>145</td>\n",
       "      <td>0</td>\n",
       "      <td>0</td>\n",
       "      <td>0</td>\n",
       "      <td>0</td>\n",
       "      <td>...</td>\n",
       "      <td>244</td>\n",
       "      <td>0.96</td>\n",
       "      <td>0.01</td>\n",
       "      <td>0.01</td>\n",
       "      <td>0.00</td>\n",
       "      <td>0.00</td>\n",
       "      <td>0.00</td>\n",
       "      <td>0.00</td>\n",
       "      <td>0.00</td>\n",
       "      <td>normal</td>\n",
       "    </tr>\n",
       "    <tr>\n",
       "      <th>125969</th>\n",
       "      <td>0</td>\n",
       "      <td>tcp</td>\n",
       "      <td>smtp</td>\n",
       "      <td>SF</td>\n",
       "      <td>2231</td>\n",
       "      <td>384</td>\n",
       "      <td>0</td>\n",
       "      <td>0</td>\n",
       "      <td>0</td>\n",
       "      <td>0</td>\n",
       "      <td>...</td>\n",
       "      <td>30</td>\n",
       "      <td>0.12</td>\n",
       "      <td>0.06</td>\n",
       "      <td>0.00</td>\n",
       "      <td>0.00</td>\n",
       "      <td>0.72</td>\n",
       "      <td>0.00</td>\n",
       "      <td>0.01</td>\n",
       "      <td>0.00</td>\n",
       "      <td>normal</td>\n",
       "    </tr>\n",
       "    <tr>\n",
       "      <th>125970</th>\n",
       "      <td>0</td>\n",
       "      <td>tcp</td>\n",
       "      <td>klogin</td>\n",
       "      <td>S0</td>\n",
       "      <td>0</td>\n",
       "      <td>0</td>\n",
       "      <td>0</td>\n",
       "      <td>0</td>\n",
       "      <td>0</td>\n",
       "      <td>0</td>\n",
       "      <td>...</td>\n",
       "      <td>8</td>\n",
       "      <td>0.03</td>\n",
       "      <td>0.05</td>\n",
       "      <td>0.00</td>\n",
       "      <td>0.00</td>\n",
       "      <td>1.00</td>\n",
       "      <td>1.00</td>\n",
       "      <td>0.00</td>\n",
       "      <td>0.00</td>\n",
       "      <td>neptune</td>\n",
       "    </tr>\n",
       "    <tr>\n",
       "      <th>125971</th>\n",
       "      <td>0</td>\n",
       "      <td>tcp</td>\n",
       "      <td>ftp_data</td>\n",
       "      <td>SF</td>\n",
       "      <td>151</td>\n",
       "      <td>0</td>\n",
       "      <td>0</td>\n",
       "      <td>0</td>\n",
       "      <td>0</td>\n",
       "      <td>0</td>\n",
       "      <td>...</td>\n",
       "      <td>77</td>\n",
       "      <td>0.30</td>\n",
       "      <td>0.03</td>\n",
       "      <td>0.30</td>\n",
       "      <td>0.00</td>\n",
       "      <td>0.00</td>\n",
       "      <td>0.00</td>\n",
       "      <td>0.00</td>\n",
       "      <td>0.00</td>\n",
       "      <td>normal</td>\n",
       "    </tr>\n",
       "  </tbody>\n",
       "</table>\n",
       "<p>125972 rows × 42 columns</p>\n",
       "</div>"
      ],
      "text/plain": [
       "        duration protocol_type   service flag  src_bytes  dst_bytes  land  \\\n",
       "0              0           udp     other   SF        146          0     0   \n",
       "1              0           tcp   private   S0          0          0     0   \n",
       "2              0           tcp      http   SF        232       8153     0   \n",
       "3              0           tcp      http   SF        199        420     0   \n",
       "4              0           tcp   private  REJ          0          0     0   \n",
       "...          ...           ...       ...  ...        ...        ...   ...   \n",
       "125967         0           tcp   private   S0          0          0     0   \n",
       "125968         8           udp   private   SF        105        145     0   \n",
       "125969         0           tcp      smtp   SF       2231        384     0   \n",
       "125970         0           tcp    klogin   S0          0          0     0   \n",
       "125971         0           tcp  ftp_data   SF        151          0     0   \n",
       "\n",
       "        wrong_fragment  urgent  hot  ...  dst_host_srv_count  \\\n",
       "0                    0       0    0  ...                   1   \n",
       "1                    0       0    0  ...                  26   \n",
       "2                    0       0    0  ...                 255   \n",
       "3                    0       0    0  ...                 255   \n",
       "4                    0       0    0  ...                  19   \n",
       "...                ...     ...  ...  ...                 ...   \n",
       "125967               0       0    0  ...                  25   \n",
       "125968               0       0    0  ...                 244   \n",
       "125969               0       0    0  ...                  30   \n",
       "125970               0       0    0  ...                   8   \n",
       "125971               0       0    0  ...                  77   \n",
       "\n",
       "        dst_host_same_srv_rate  dst_host_diff_srv_rate  \\\n",
       "0                         0.00                    0.60   \n",
       "1                         0.10                    0.05   \n",
       "2                         1.00                    0.00   \n",
       "3                         1.00                    0.00   \n",
       "4                         0.07                    0.07   \n",
       "...                        ...                     ...   \n",
       "125967                    0.10                    0.06   \n",
       "125968                    0.96                    0.01   \n",
       "125969                    0.12                    0.06   \n",
       "125970                    0.03                    0.05   \n",
       "125971                    0.30                    0.03   \n",
       "\n",
       "        dst_host_same_src_port_rate  dst_host_srv_diff_host_rate  \\\n",
       "0                              0.88                         0.00   \n",
       "1                              0.00                         0.00   \n",
       "2                              0.03                         0.04   \n",
       "3                              0.00                         0.00   \n",
       "4                              0.00                         0.00   \n",
       "...                             ...                          ...   \n",
       "125967                         0.00                         0.00   \n",
       "125968                         0.01                         0.00   \n",
       "125969                         0.00                         0.00   \n",
       "125970                         0.00                         0.00   \n",
       "125971                         0.30                         0.00   \n",
       "\n",
       "        dst_host_serror_rate  dst_host_srv_serror_rate  dst_host_rerror_rate  \\\n",
       "0                       0.00                      0.00                  0.00   \n",
       "1                       1.00                      1.00                  0.00   \n",
       "2                       0.03                      0.01                  0.00   \n",
       "3                       0.00                      0.00                  0.00   \n",
       "4                       0.00                      0.00                  1.00   \n",
       "...                      ...                       ...                   ...   \n",
       "125967                  1.00                      1.00                  0.00   \n",
       "125968                  0.00                      0.00                  0.00   \n",
       "125969                  0.72                      0.00                  0.01   \n",
       "125970                  1.00                      1.00                  0.00   \n",
       "125971                  0.00                      0.00                  0.00   \n",
       "\n",
       "        dst_host_srv_rerror_rate   attack  \n",
       "0                           0.00   normal  \n",
       "1                           0.00  neptune  \n",
       "2                           0.01   normal  \n",
       "3                           0.00   normal  \n",
       "4                           1.00  neptune  \n",
       "...                          ...      ...  \n",
       "125967                      0.00  neptune  \n",
       "125968                      0.00   normal  \n",
       "125969                      0.00   normal  \n",
       "125970                      0.00  neptune  \n",
       "125971                      0.00   normal  \n",
       "\n",
       "[125972 rows x 42 columns]"
      ]
     },
     "execution_count": 5,
     "metadata": {},
     "output_type": "execute_result"
    }
   ],
   "source": [
    "df.drop('level', axis=1)"
   ]
  },
  {
   "cell_type": "code",
   "execution_count": 6,
   "id": "976e7372-4122-4ab4-ac2a-856ba9723b95",
   "metadata": {},
   "outputs": [
    {
     "data": {
      "text/plain": [
       "array(['normal', 'neptune', 'warezclient', 'ipsweep', 'portsweep',\n",
       "       'teardrop', 'nmap', 'satan', 'smurf', 'pod', 'back',\n",
       "       'guess_passwd', 'ftp_write', 'multihop', 'rootkit',\n",
       "       'buffer_overflow', 'imap', 'warezmaster', 'phf', 'land',\n",
       "       'loadmodule', 'spy', 'perl'], dtype=object)"
      ]
     },
     "execution_count": 6,
     "metadata": {},
     "output_type": "execute_result"
    }
   ],
   "source": [
    "df['attack'].unique()"
   ]
  },
  {
   "cell_type": "code",
   "execution_count": 7,
   "id": "7a871a5d-18a7-426e-8c10-21a988fb5f3a",
   "metadata": {},
   "outputs": [],
   "source": [
    "# changing attack labels to their respective attack class\n",
    "def change_label(df):\n",
    "    df.attack.replace(['apache2','back','land','neptune','mailbomb','pod','processtable','smurf','teardrop','udpstorm','worm'],'Dos',inplace=True)\n",
    "    df.attack.replace(['ftp_write','guess_passwd','httptunnel','imap','multihop','named','phf','sendmail','snmpgetattack','snmpguess','spy','warezclient','warezmaster','xlock','xsnoop'],'R2L',inplace=True)      \n",
    "    df.attack.replace(['ipsweep','mscan','nmap','portsweep','saint','satan'],'Probe',inplace=True)\n",
    "    df.attack.replace(['buffer_overflow','loadmodule','perl','ps','rootkit','sqlattack','xterm'],'U2R',inplace=True)"
   ]
  },
  {
   "cell_type": "code",
   "execution_count": 8,
   "id": "a10cd067-3334-4a2f-a386-6c7773862641",
   "metadata": {},
   "outputs": [
    {
     "data": {
      "text/plain": [
       "array(['normal', 'Dos', 'R2L', 'Probe', 'U2R'], dtype=object)"
      ]
     },
     "execution_count": 8,
     "metadata": {},
     "output_type": "execute_result"
    }
   ],
   "source": [
    "change_label(df)\n",
    "df['attack'].unique()"
   ]
  },
  {
   "cell_type": "code",
   "execution_count": 9,
   "id": "b851d6d6-665a-49fa-8756-39e0624892d2",
   "metadata": {},
   "outputs": [
    {
     "data": {
      "text/plain": [
       "attack\n",
       "normal    67342\n",
       "Dos       45927\n",
       "Probe     11656\n",
       "R2L         995\n",
       "U2R          52\n",
       "Name: count, dtype: int64"
      ]
     },
     "execution_count": 9,
     "metadata": {},
     "output_type": "execute_result"
    }
   ],
   "source": [
    "df.attack.value_counts()"
   ]
  },
  {
   "cell_type": "code",
   "execution_count": 10,
   "id": "1eeee65a-6293-41f3-a883-cad47cee4f70",
   "metadata": {},
   "outputs": [
    {
     "data": {
      "application/vnd.plotly.v1+json": {
       "config": {
        "linkText": "Export to plot.ly",
        "plotlyServerURL": "https://plot.ly",
        "showLink": false
       },
       "data": [
        {
         "name": "normal",
         "orientation": "v",
         "text": [
          67342
         ],
         "textposition": "outside",
         "type": "bar",
         "x": [
          "normal"
         ],
         "y": [
          67342
         ]
        },
        {
         "name": "Dos",
         "orientation": "v",
         "text": [
          45927
         ],
         "textposition": "outside",
         "type": "bar",
         "x": [
          "Dos"
         ],
         "y": [
          45927
         ]
        },
        {
         "name": "Probe",
         "orientation": "v",
         "text": [
          11656
         ],
         "textposition": "outside",
         "type": "bar",
         "x": [
          "Probe"
         ],
         "y": [
          11656
         ]
        },
        {
         "name": "R2L",
         "orientation": "v",
         "text": [
          995
         ],
         "textposition": "outside",
         "type": "bar",
         "x": [
          "R2L"
         ],
         "y": [
          995
         ]
        },
        {
         "name": "U2R",
         "orientation": "v",
         "text": [
          52
         ],
         "textposition": "outside",
         "type": "bar",
         "x": [
          "U2R"
         ],
         "y": [
          52
         ]
        }
       ],
       "layout": {
        "height": 600,
        "template": {
         "data": {
          "bar": [
           {
            "error_x": {
             "color": "#2a3f5f"
            },
            "error_y": {
             "color": "#2a3f5f"
            },
            "marker": {
             "line": {
              "color": "#E5ECF6",
              "width": 0.5
             },
             "pattern": {
              "fillmode": "overlay",
              "size": 10,
              "solidity": 0.2
             }
            },
            "type": "bar"
           }
          ],
          "barpolar": [
           {
            "marker": {
             "line": {
              "color": "#E5ECF6",
              "width": 0.5
             },
             "pattern": {
              "fillmode": "overlay",
              "size": 10,
              "solidity": 0.2
             }
            },
            "type": "barpolar"
           }
          ],
          "carpet": [
           {
            "aaxis": {
             "endlinecolor": "#2a3f5f",
             "gridcolor": "white",
             "linecolor": "white",
             "minorgridcolor": "white",
             "startlinecolor": "#2a3f5f"
            },
            "baxis": {
             "endlinecolor": "#2a3f5f",
             "gridcolor": "white",
             "linecolor": "white",
             "minorgridcolor": "white",
             "startlinecolor": "#2a3f5f"
            },
            "type": "carpet"
           }
          ],
          "choropleth": [
           {
            "colorbar": {
             "outlinewidth": 0,
             "ticks": ""
            },
            "type": "choropleth"
           }
          ],
          "contour": [
           {
            "colorbar": {
             "outlinewidth": 0,
             "ticks": ""
            },
            "colorscale": [
             [
              0,
              "#0d0887"
             ],
             [
              0.1111111111111111,
              "#46039f"
             ],
             [
              0.2222222222222222,
              "#7201a8"
             ],
             [
              0.3333333333333333,
              "#9c179e"
             ],
             [
              0.4444444444444444,
              "#bd3786"
             ],
             [
              0.5555555555555556,
              "#d8576b"
             ],
             [
              0.6666666666666666,
              "#ed7953"
             ],
             [
              0.7777777777777778,
              "#fb9f3a"
             ],
             [
              0.8888888888888888,
              "#fdca26"
             ],
             [
              1,
              "#f0f921"
             ]
            ],
            "type": "contour"
           }
          ],
          "contourcarpet": [
           {
            "colorbar": {
             "outlinewidth": 0,
             "ticks": ""
            },
            "type": "contourcarpet"
           }
          ],
          "heatmap": [
           {
            "colorbar": {
             "outlinewidth": 0,
             "ticks": ""
            },
            "colorscale": [
             [
              0,
              "#0d0887"
             ],
             [
              0.1111111111111111,
              "#46039f"
             ],
             [
              0.2222222222222222,
              "#7201a8"
             ],
             [
              0.3333333333333333,
              "#9c179e"
             ],
             [
              0.4444444444444444,
              "#bd3786"
             ],
             [
              0.5555555555555556,
              "#d8576b"
             ],
             [
              0.6666666666666666,
              "#ed7953"
             ],
             [
              0.7777777777777778,
              "#fb9f3a"
             ],
             [
              0.8888888888888888,
              "#fdca26"
             ],
             [
              1,
              "#f0f921"
             ]
            ],
            "type": "heatmap"
           }
          ],
          "heatmapgl": [
           {
            "colorbar": {
             "outlinewidth": 0,
             "ticks": ""
            },
            "colorscale": [
             [
              0,
              "#0d0887"
             ],
             [
              0.1111111111111111,
              "#46039f"
             ],
             [
              0.2222222222222222,
              "#7201a8"
             ],
             [
              0.3333333333333333,
              "#9c179e"
             ],
             [
              0.4444444444444444,
              "#bd3786"
             ],
             [
              0.5555555555555556,
              "#d8576b"
             ],
             [
              0.6666666666666666,
              "#ed7953"
             ],
             [
              0.7777777777777778,
              "#fb9f3a"
             ],
             [
              0.8888888888888888,
              "#fdca26"
             ],
             [
              1,
              "#f0f921"
             ]
            ],
            "type": "heatmapgl"
           }
          ],
          "histogram": [
           {
            "marker": {
             "pattern": {
              "fillmode": "overlay",
              "size": 10,
              "solidity": 0.2
             }
            },
            "type": "histogram"
           }
          ],
          "histogram2d": [
           {
            "colorbar": {
             "outlinewidth": 0,
             "ticks": ""
            },
            "colorscale": [
             [
              0,
              "#0d0887"
             ],
             [
              0.1111111111111111,
              "#46039f"
             ],
             [
              0.2222222222222222,
              "#7201a8"
             ],
             [
              0.3333333333333333,
              "#9c179e"
             ],
             [
              0.4444444444444444,
              "#bd3786"
             ],
             [
              0.5555555555555556,
              "#d8576b"
             ],
             [
              0.6666666666666666,
              "#ed7953"
             ],
             [
              0.7777777777777778,
              "#fb9f3a"
             ],
             [
              0.8888888888888888,
              "#fdca26"
             ],
             [
              1,
              "#f0f921"
             ]
            ],
            "type": "histogram2d"
           }
          ],
          "histogram2dcontour": [
           {
            "colorbar": {
             "outlinewidth": 0,
             "ticks": ""
            },
            "colorscale": [
             [
              0,
              "#0d0887"
             ],
             [
              0.1111111111111111,
              "#46039f"
             ],
             [
              0.2222222222222222,
              "#7201a8"
             ],
             [
              0.3333333333333333,
              "#9c179e"
             ],
             [
              0.4444444444444444,
              "#bd3786"
             ],
             [
              0.5555555555555556,
              "#d8576b"
             ],
             [
              0.6666666666666666,
              "#ed7953"
             ],
             [
              0.7777777777777778,
              "#fb9f3a"
             ],
             [
              0.8888888888888888,
              "#fdca26"
             ],
             [
              1,
              "#f0f921"
             ]
            ],
            "type": "histogram2dcontour"
           }
          ],
          "mesh3d": [
           {
            "colorbar": {
             "outlinewidth": 0,
             "ticks": ""
            },
            "type": "mesh3d"
           }
          ],
          "parcoords": [
           {
            "line": {
             "colorbar": {
              "outlinewidth": 0,
              "ticks": ""
             }
            },
            "type": "parcoords"
           }
          ],
          "pie": [
           {
            "automargin": true,
            "type": "pie"
           }
          ],
          "scatter": [
           {
            "fillpattern": {
             "fillmode": "overlay",
             "size": 10,
             "solidity": 0.2
            },
            "type": "scatter"
           }
          ],
          "scatter3d": [
           {
            "line": {
             "colorbar": {
              "outlinewidth": 0,
              "ticks": ""
             }
            },
            "marker": {
             "colorbar": {
              "outlinewidth": 0,
              "ticks": ""
             }
            },
            "type": "scatter3d"
           }
          ],
          "scattercarpet": [
           {
            "marker": {
             "colorbar": {
              "outlinewidth": 0,
              "ticks": ""
             }
            },
            "type": "scattercarpet"
           }
          ],
          "scattergeo": [
           {
            "marker": {
             "colorbar": {
              "outlinewidth": 0,
              "ticks": ""
             }
            },
            "type": "scattergeo"
           }
          ],
          "scattergl": [
           {
            "marker": {
             "colorbar": {
              "outlinewidth": 0,
              "ticks": ""
             }
            },
            "type": "scattergl"
           }
          ],
          "scattermapbox": [
           {
            "marker": {
             "colorbar": {
              "outlinewidth": 0,
              "ticks": ""
             }
            },
            "type": "scattermapbox"
           }
          ],
          "scatterpolar": [
           {
            "marker": {
             "colorbar": {
              "outlinewidth": 0,
              "ticks": ""
             }
            },
            "type": "scatterpolar"
           }
          ],
          "scatterpolargl": [
           {
            "marker": {
             "colorbar": {
              "outlinewidth": 0,
              "ticks": ""
             }
            },
            "type": "scatterpolargl"
           }
          ],
          "scatterternary": [
           {
            "marker": {
             "colorbar": {
              "outlinewidth": 0,
              "ticks": ""
             }
            },
            "type": "scatterternary"
           }
          ],
          "surface": [
           {
            "colorbar": {
             "outlinewidth": 0,
             "ticks": ""
            },
            "colorscale": [
             [
              0,
              "#0d0887"
             ],
             [
              0.1111111111111111,
              "#46039f"
             ],
             [
              0.2222222222222222,
              "#7201a8"
             ],
             [
              0.3333333333333333,
              "#9c179e"
             ],
             [
              0.4444444444444444,
              "#bd3786"
             ],
             [
              0.5555555555555556,
              "#d8576b"
             ],
             [
              0.6666666666666666,
              "#ed7953"
             ],
             [
              0.7777777777777778,
              "#fb9f3a"
             ],
             [
              0.8888888888888888,
              "#fdca26"
             ],
             [
              1,
              "#f0f921"
             ]
            ],
            "type": "surface"
           }
          ],
          "table": [
           {
            "cells": {
             "fill": {
              "color": "#EBF0F8"
             },
             "line": {
              "color": "white"
             }
            },
            "header": {
             "fill": {
              "color": "#C8D4E3"
             },
             "line": {
              "color": "white"
             }
            },
            "type": "table"
           }
          ]
         },
         "layout": {
          "annotationdefaults": {
           "arrowcolor": "#2a3f5f",
           "arrowhead": 0,
           "arrowwidth": 1
          },
          "autotypenumbers": "strict",
          "coloraxis": {
           "colorbar": {
            "outlinewidth": 0,
            "ticks": ""
           }
          },
          "colorscale": {
           "diverging": [
            [
             0,
             "#8e0152"
            ],
            [
             0.1,
             "#c51b7d"
            ],
            [
             0.2,
             "#de77ae"
            ],
            [
             0.3,
             "#f1b6da"
            ],
            [
             0.4,
             "#fde0ef"
            ],
            [
             0.5,
             "#f7f7f7"
            ],
            [
             0.6,
             "#e6f5d0"
            ],
            [
             0.7,
             "#b8e186"
            ],
            [
             0.8,
             "#7fbc41"
            ],
            [
             0.9,
             "#4d9221"
            ],
            [
             1,
             "#276419"
            ]
           ],
           "sequential": [
            [
             0,
             "#0d0887"
            ],
            [
             0.1111111111111111,
             "#46039f"
            ],
            [
             0.2222222222222222,
             "#7201a8"
            ],
            [
             0.3333333333333333,
             "#9c179e"
            ],
            [
             0.4444444444444444,
             "#bd3786"
            ],
            [
             0.5555555555555556,
             "#d8576b"
            ],
            [
             0.6666666666666666,
             "#ed7953"
            ],
            [
             0.7777777777777778,
             "#fb9f3a"
            ],
            [
             0.8888888888888888,
             "#fdca26"
            ],
            [
             1,
             "#f0f921"
            ]
           ],
           "sequentialminus": [
            [
             0,
             "#0d0887"
            ],
            [
             0.1111111111111111,
             "#46039f"
            ],
            [
             0.2222222222222222,
             "#7201a8"
            ],
            [
             0.3333333333333333,
             "#9c179e"
            ],
            [
             0.4444444444444444,
             "#bd3786"
            ],
            [
             0.5555555555555556,
             "#d8576b"
            ],
            [
             0.6666666666666666,
             "#ed7953"
            ],
            [
             0.7777777777777778,
             "#fb9f3a"
            ],
            [
             0.8888888888888888,
             "#fdca26"
            ],
            [
             1,
             "#f0f921"
            ]
           ]
          },
          "colorway": [
           "#636efa",
           "#EF553B",
           "#00cc96",
           "#ab63fa",
           "#FFA15A",
           "#19d3f3",
           "#FF6692",
           "#B6E880",
           "#FF97FF",
           "#FECB52"
          ],
          "font": {
           "color": "#2a3f5f"
          },
          "geo": {
           "bgcolor": "white",
           "lakecolor": "white",
           "landcolor": "#E5ECF6",
           "showlakes": true,
           "showland": true,
           "subunitcolor": "white"
          },
          "hoverlabel": {
           "align": "left"
          },
          "hovermode": "closest",
          "mapbox": {
           "style": "light"
          },
          "paper_bgcolor": "white",
          "plot_bgcolor": "#E5ECF6",
          "polar": {
           "angularaxis": {
            "gridcolor": "white",
            "linecolor": "white",
            "ticks": ""
           },
           "bgcolor": "#E5ECF6",
           "radialaxis": {
            "gridcolor": "white",
            "linecolor": "white",
            "ticks": ""
           }
          },
          "scene": {
           "xaxis": {
            "backgroundcolor": "#E5ECF6",
            "gridcolor": "white",
            "gridwidth": 2,
            "linecolor": "white",
            "showbackground": true,
            "ticks": "",
            "zerolinecolor": "white"
           },
           "yaxis": {
            "backgroundcolor": "#E5ECF6",
            "gridcolor": "white",
            "gridwidth": 2,
            "linecolor": "white",
            "showbackground": true,
            "ticks": "",
            "zerolinecolor": "white"
           },
           "zaxis": {
            "backgroundcolor": "#E5ECF6",
            "gridcolor": "white",
            "gridwidth": 2,
            "linecolor": "white",
            "showbackground": true,
            "ticks": "",
            "zerolinecolor": "white"
           }
          },
          "shapedefaults": {
           "line": {
            "color": "#2a3f5f"
           }
          },
          "ternary": {
           "aaxis": {
            "gridcolor": "white",
            "linecolor": "white",
            "ticks": ""
           },
           "baxis": {
            "gridcolor": "white",
            "linecolor": "white",
            "ticks": ""
           },
           "bgcolor": "#E5ECF6",
           "caxis": {
            "gridcolor": "white",
            "linecolor": "white",
            "ticks": ""
           }
          },
          "title": {
           "x": 0.05
          },
          "xaxis": {
           "automargin": true,
           "gridcolor": "white",
           "linecolor": "white",
           "ticks": "",
           "title": {
            "standoff": 15
           },
           "zerolinecolor": "white",
           "zerolinewidth": 2
          },
          "yaxis": {
           "automargin": true,
           "gridcolor": "white",
           "linecolor": "white",
           "ticks": "",
           "title": {
            "standoff": 15
           },
           "zerolinecolor": "white",
           "zerolinewidth": 2
          }
         }
        },
        "title": {
         "text": "Attack Class Distribution"
        },
        "width": 800,
        "xaxis": {
         "title": {
          "text": "Attack Class"
         }
        },
        "yaxis": {
         "title": {
          "text": "Number of attacks"
         }
        }
       }
      },
      "text/html": [
       "<div>                            <div id=\"c04801d3-00b1-483f-b7b6-d6d7b043a7f4\" class=\"plotly-graph-div\" style=\"height:600px; width:800px;\"></div>            <script type=\"text/javascript\">                require([\"plotly\"], function(Plotly) {                    window.PLOTLYENV=window.PLOTLYENV || {};                                    if (document.getElementById(\"c04801d3-00b1-483f-b7b6-d6d7b043a7f4\")) {                    Plotly.newPlot(                        \"c04801d3-00b1-483f-b7b6-d6d7b043a7f4\",                        [{\"name\":\"normal\",\"orientation\":\"v\",\"text\":[67342.0],\"textposition\":\"outside\",\"x\":[\"normal\"],\"y\":[67342],\"type\":\"bar\"},{\"name\":\"Dos\",\"orientation\":\"v\",\"text\":[45927.0],\"textposition\":\"outside\",\"x\":[\"Dos\"],\"y\":[45927],\"type\":\"bar\"},{\"name\":\"Probe\",\"orientation\":\"v\",\"text\":[11656.0],\"textposition\":\"outside\",\"x\":[\"Probe\"],\"y\":[11656],\"type\":\"bar\"},{\"name\":\"R2L\",\"orientation\":\"v\",\"text\":[995.0],\"textposition\":\"outside\",\"x\":[\"R2L\"],\"y\":[995],\"type\":\"bar\"},{\"name\":\"U2R\",\"orientation\":\"v\",\"text\":[52.0],\"textposition\":\"outside\",\"x\":[\"U2R\"],\"y\":[52],\"type\":\"bar\"}],                        {\"height\":600,\"template\":{\"data\":{\"barpolar\":[{\"marker\":{\"line\":{\"color\":\"#E5ECF6\",\"width\":0.5},\"pattern\":{\"fillmode\":\"overlay\",\"size\":10,\"solidity\":0.2}},\"type\":\"barpolar\"}],\"bar\":[{\"error_x\":{\"color\":\"#2a3f5f\"},\"error_y\":{\"color\":\"#2a3f5f\"},\"marker\":{\"line\":{\"color\":\"#E5ECF6\",\"width\":0.5},\"pattern\":{\"fillmode\":\"overlay\",\"size\":10,\"solidity\":0.2}},\"type\":\"bar\"}],\"carpet\":[{\"aaxis\":{\"endlinecolor\":\"#2a3f5f\",\"gridcolor\":\"white\",\"linecolor\":\"white\",\"minorgridcolor\":\"white\",\"startlinecolor\":\"#2a3f5f\"},\"baxis\":{\"endlinecolor\":\"#2a3f5f\",\"gridcolor\":\"white\",\"linecolor\":\"white\",\"minorgridcolor\":\"white\",\"startlinecolor\":\"#2a3f5f\"},\"type\":\"carpet\"}],\"choropleth\":[{\"colorbar\":{\"outlinewidth\":0,\"ticks\":\"\"},\"type\":\"choropleth\"}],\"contourcarpet\":[{\"colorbar\":{\"outlinewidth\":0,\"ticks\":\"\"},\"type\":\"contourcarpet\"}],\"contour\":[{\"colorbar\":{\"outlinewidth\":0,\"ticks\":\"\"},\"colorscale\":[[0.0,\"#0d0887\"],[0.1111111111111111,\"#46039f\"],[0.2222222222222222,\"#7201a8\"],[0.3333333333333333,\"#9c179e\"],[0.4444444444444444,\"#bd3786\"],[0.5555555555555556,\"#d8576b\"],[0.6666666666666666,\"#ed7953\"],[0.7777777777777778,\"#fb9f3a\"],[0.8888888888888888,\"#fdca26\"],[1.0,\"#f0f921\"]],\"type\":\"contour\"}],\"heatmapgl\":[{\"colorbar\":{\"outlinewidth\":0,\"ticks\":\"\"},\"colorscale\":[[0.0,\"#0d0887\"],[0.1111111111111111,\"#46039f\"],[0.2222222222222222,\"#7201a8\"],[0.3333333333333333,\"#9c179e\"],[0.4444444444444444,\"#bd3786\"],[0.5555555555555556,\"#d8576b\"],[0.6666666666666666,\"#ed7953\"],[0.7777777777777778,\"#fb9f3a\"],[0.8888888888888888,\"#fdca26\"],[1.0,\"#f0f921\"]],\"type\":\"heatmapgl\"}],\"heatmap\":[{\"colorbar\":{\"outlinewidth\":0,\"ticks\":\"\"},\"colorscale\":[[0.0,\"#0d0887\"],[0.1111111111111111,\"#46039f\"],[0.2222222222222222,\"#7201a8\"],[0.3333333333333333,\"#9c179e\"],[0.4444444444444444,\"#bd3786\"],[0.5555555555555556,\"#d8576b\"],[0.6666666666666666,\"#ed7953\"],[0.7777777777777778,\"#fb9f3a\"],[0.8888888888888888,\"#fdca26\"],[1.0,\"#f0f921\"]],\"type\":\"heatmap\"}],\"histogram2dcontour\":[{\"colorbar\":{\"outlinewidth\":0,\"ticks\":\"\"},\"colorscale\":[[0.0,\"#0d0887\"],[0.1111111111111111,\"#46039f\"],[0.2222222222222222,\"#7201a8\"],[0.3333333333333333,\"#9c179e\"],[0.4444444444444444,\"#bd3786\"],[0.5555555555555556,\"#d8576b\"],[0.6666666666666666,\"#ed7953\"],[0.7777777777777778,\"#fb9f3a\"],[0.8888888888888888,\"#fdca26\"],[1.0,\"#f0f921\"]],\"type\":\"histogram2dcontour\"}],\"histogram2d\":[{\"colorbar\":{\"outlinewidth\":0,\"ticks\":\"\"},\"colorscale\":[[0.0,\"#0d0887\"],[0.1111111111111111,\"#46039f\"],[0.2222222222222222,\"#7201a8\"],[0.3333333333333333,\"#9c179e\"],[0.4444444444444444,\"#bd3786\"],[0.5555555555555556,\"#d8576b\"],[0.6666666666666666,\"#ed7953\"],[0.7777777777777778,\"#fb9f3a\"],[0.8888888888888888,\"#fdca26\"],[1.0,\"#f0f921\"]],\"type\":\"histogram2d\"}],\"histogram\":[{\"marker\":{\"pattern\":{\"fillmode\":\"overlay\",\"size\":10,\"solidity\":0.2}},\"type\":\"histogram\"}],\"mesh3d\":[{\"colorbar\":{\"outlinewidth\":0,\"ticks\":\"\"},\"type\":\"mesh3d\"}],\"parcoords\":[{\"line\":{\"colorbar\":{\"outlinewidth\":0,\"ticks\":\"\"}},\"type\":\"parcoords\"}],\"pie\":[{\"automargin\":true,\"type\":\"pie\"}],\"scatter3d\":[{\"line\":{\"colorbar\":{\"outlinewidth\":0,\"ticks\":\"\"}},\"marker\":{\"colorbar\":{\"outlinewidth\":0,\"ticks\":\"\"}},\"type\":\"scatter3d\"}],\"scattercarpet\":[{\"marker\":{\"colorbar\":{\"outlinewidth\":0,\"ticks\":\"\"}},\"type\":\"scattercarpet\"}],\"scattergeo\":[{\"marker\":{\"colorbar\":{\"outlinewidth\":0,\"ticks\":\"\"}},\"type\":\"scattergeo\"}],\"scattergl\":[{\"marker\":{\"colorbar\":{\"outlinewidth\":0,\"ticks\":\"\"}},\"type\":\"scattergl\"}],\"scattermapbox\":[{\"marker\":{\"colorbar\":{\"outlinewidth\":0,\"ticks\":\"\"}},\"type\":\"scattermapbox\"}],\"scatterpolargl\":[{\"marker\":{\"colorbar\":{\"outlinewidth\":0,\"ticks\":\"\"}},\"type\":\"scatterpolargl\"}],\"scatterpolar\":[{\"marker\":{\"colorbar\":{\"outlinewidth\":0,\"ticks\":\"\"}},\"type\":\"scatterpolar\"}],\"scatter\":[{\"fillpattern\":{\"fillmode\":\"overlay\",\"size\":10,\"solidity\":0.2},\"type\":\"scatter\"}],\"scatterternary\":[{\"marker\":{\"colorbar\":{\"outlinewidth\":0,\"ticks\":\"\"}},\"type\":\"scatterternary\"}],\"surface\":[{\"colorbar\":{\"outlinewidth\":0,\"ticks\":\"\"},\"colorscale\":[[0.0,\"#0d0887\"],[0.1111111111111111,\"#46039f\"],[0.2222222222222222,\"#7201a8\"],[0.3333333333333333,\"#9c179e\"],[0.4444444444444444,\"#bd3786\"],[0.5555555555555556,\"#d8576b\"],[0.6666666666666666,\"#ed7953\"],[0.7777777777777778,\"#fb9f3a\"],[0.8888888888888888,\"#fdca26\"],[1.0,\"#f0f921\"]],\"type\":\"surface\"}],\"table\":[{\"cells\":{\"fill\":{\"color\":\"#EBF0F8\"},\"line\":{\"color\":\"white\"}},\"header\":{\"fill\":{\"color\":\"#C8D4E3\"},\"line\":{\"color\":\"white\"}},\"type\":\"table\"}]},\"layout\":{\"annotationdefaults\":{\"arrowcolor\":\"#2a3f5f\",\"arrowhead\":0,\"arrowwidth\":1},\"autotypenumbers\":\"strict\",\"coloraxis\":{\"colorbar\":{\"outlinewidth\":0,\"ticks\":\"\"}},\"colorscale\":{\"diverging\":[[0,\"#8e0152\"],[0.1,\"#c51b7d\"],[0.2,\"#de77ae\"],[0.3,\"#f1b6da\"],[0.4,\"#fde0ef\"],[0.5,\"#f7f7f7\"],[0.6,\"#e6f5d0\"],[0.7,\"#b8e186\"],[0.8,\"#7fbc41\"],[0.9,\"#4d9221\"],[1,\"#276419\"]],\"sequential\":[[0.0,\"#0d0887\"],[0.1111111111111111,\"#46039f\"],[0.2222222222222222,\"#7201a8\"],[0.3333333333333333,\"#9c179e\"],[0.4444444444444444,\"#bd3786\"],[0.5555555555555556,\"#d8576b\"],[0.6666666666666666,\"#ed7953\"],[0.7777777777777778,\"#fb9f3a\"],[0.8888888888888888,\"#fdca26\"],[1.0,\"#f0f921\"]],\"sequentialminus\":[[0.0,\"#0d0887\"],[0.1111111111111111,\"#46039f\"],[0.2222222222222222,\"#7201a8\"],[0.3333333333333333,\"#9c179e\"],[0.4444444444444444,\"#bd3786\"],[0.5555555555555556,\"#d8576b\"],[0.6666666666666666,\"#ed7953\"],[0.7777777777777778,\"#fb9f3a\"],[0.8888888888888888,\"#fdca26\"],[1.0,\"#f0f921\"]]},\"colorway\":[\"#636efa\",\"#EF553B\",\"#00cc96\",\"#ab63fa\",\"#FFA15A\",\"#19d3f3\",\"#FF6692\",\"#B6E880\",\"#FF97FF\",\"#FECB52\"],\"font\":{\"color\":\"#2a3f5f\"},\"geo\":{\"bgcolor\":\"white\",\"lakecolor\":\"white\",\"landcolor\":\"#E5ECF6\",\"showlakes\":true,\"showland\":true,\"subunitcolor\":\"white\"},\"hoverlabel\":{\"align\":\"left\"},\"hovermode\":\"closest\",\"mapbox\":{\"style\":\"light\"},\"paper_bgcolor\":\"white\",\"plot_bgcolor\":\"#E5ECF6\",\"polar\":{\"angularaxis\":{\"gridcolor\":\"white\",\"linecolor\":\"white\",\"ticks\":\"\"},\"bgcolor\":\"#E5ECF6\",\"radialaxis\":{\"gridcolor\":\"white\",\"linecolor\":\"white\",\"ticks\":\"\"}},\"scene\":{\"xaxis\":{\"backgroundcolor\":\"#E5ECF6\",\"gridcolor\":\"white\",\"gridwidth\":2,\"linecolor\":\"white\",\"showbackground\":true,\"ticks\":\"\",\"zerolinecolor\":\"white\"},\"yaxis\":{\"backgroundcolor\":\"#E5ECF6\",\"gridcolor\":\"white\",\"gridwidth\":2,\"linecolor\":\"white\",\"showbackground\":true,\"ticks\":\"\",\"zerolinecolor\":\"white\"},\"zaxis\":{\"backgroundcolor\":\"#E5ECF6\",\"gridcolor\":\"white\",\"gridwidth\":2,\"linecolor\":\"white\",\"showbackground\":true,\"ticks\":\"\",\"zerolinecolor\":\"white\"}},\"shapedefaults\":{\"line\":{\"color\":\"#2a3f5f\"}},\"ternary\":{\"aaxis\":{\"gridcolor\":\"white\",\"linecolor\":\"white\",\"ticks\":\"\"},\"baxis\":{\"gridcolor\":\"white\",\"linecolor\":\"white\",\"ticks\":\"\"},\"bgcolor\":\"#E5ECF6\",\"caxis\":{\"gridcolor\":\"white\",\"linecolor\":\"white\",\"ticks\":\"\"}},\"title\":{\"x\":0.05},\"xaxis\":{\"automargin\":true,\"gridcolor\":\"white\",\"linecolor\":\"white\",\"ticks\":\"\",\"title\":{\"standoff\":15},\"zerolinecolor\":\"white\",\"zerolinewidth\":2},\"yaxis\":{\"automargin\":true,\"gridcolor\":\"white\",\"linecolor\":\"white\",\"ticks\":\"\",\"title\":{\"standoff\":15},\"zerolinecolor\":\"white\",\"zerolinewidth\":2}}},\"title\":{\"text\":\"Attack Class Distribution\"},\"width\":800,\"xaxis\":{\"title\":{\"text\":\"Attack Class\"}},\"yaxis\":{\"title\":{\"text\":\"Number of attacks\"}}},                        {\"responsive\": true}                    ).then(function(){\n",
       "                            \n",
       "var gd = document.getElementById('c04801d3-00b1-483f-b7b6-d6d7b043a7f4');\n",
       "var x = new MutationObserver(function (mutations, observer) {{\n",
       "        var display = window.getComputedStyle(gd).display;\n",
       "        if (!display || display === 'none') {{\n",
       "            console.log([gd, 'removed!']);\n",
       "            Plotly.purge(gd);\n",
       "            observer.disconnect();\n",
       "        }}\n",
       "}});\n",
       "\n",
       "// Listen for the removal of the full notebook cells\n",
       "var notebookContainer = gd.closest('#notebook-container');\n",
       "if (notebookContainer) {{\n",
       "    x.observe(notebookContainer, {childList: true});\n",
       "}}\n",
       "\n",
       "// Listen for the clearing of the current output cell\n",
       "var outputEl = gd.closest('.output');\n",
       "if (outputEl) {{\n",
       "    x.observe(outputEl, {childList: true});\n",
       "}}\n",
       "\n",
       "                        })                };                });            </script>        </div>"
      ]
     },
     "metadata": {},
     "output_type": "display_data"
    }
   ],
   "source": [
    "fig = go.Figure(data=[\n",
    "    go.Bar(name='normal', \n",
    "        y=df[\"attack\"].value_counts().values[0:1],\n",
    "        x=['normal'],\n",
    "        text = df[\"attack\"].value_counts()[0:1],\n",
    "        orientation='v',\n",
    "        textposition='outside',),\n",
    "    go.Bar(name='Dos', \n",
    "        y=df[\"attack\"].value_counts().values[1:2],\n",
    "        x=['Dos'],\n",
    "        text = df[\"attack\"].value_counts()[1:2],\n",
    "        orientation='v',\n",
    "        textposition='outside',),\n",
    "    go.Bar(name='Probe', \n",
    "        y=df[\"attack\"].value_counts().values[2:3],\n",
    "        x=['Probe'],\n",
    "        text = df[\"attack\"].value_counts()[2:3],\n",
    "        orientation='v',\n",
    "        textposition='outside',),\n",
    "    go.Bar(name='R2L', \n",
    "        y=df[\"attack\"].value_counts().values[3:4],\n",
    "        x=['R2L'],\n",
    "        text = df[\"attack\"].value_counts()[3:4],\n",
    "        orientation='v',\n",
    "        textposition='outside',),\n",
    "    go.Bar(name='U2R', \n",
    "        y=df[\"attack\"].value_counts().values[4:5],\n",
    "        x=['U2R'],\n",
    "        text = df[\"attack\"].value_counts()[4:5],\n",
    "        orientation='v',\n",
    "        textposition='outside',),\n",
    "])\n",
    "# Change the bar mode\n",
    "fig.update_layout(\n",
    "                  width=800,\n",
    "                  height=600,\n",
    "                  title=f'Attack Class Distribution',\n",
    "                  yaxis_title='Number of attacks',\n",
    "                  xaxis_title='Attack Class',)\n",
    "iplot(fig)\n"
   ]
  },
  {
   "cell_type": "code",
   "execution_count": 11,
   "id": "7866f4f2-28e3-4e5a-a3e0-80012de692a2",
   "metadata": {},
   "outputs": [],
   "source": [
    "from sklearn.preprocessing import LabelEncoder"
   ]
  },
  {
   "cell_type": "code",
   "execution_count": 12,
   "id": "8e265d0e-2086-416f-a96e-27e3f43aeecf",
   "metadata": {},
   "outputs": [],
   "source": [
    "le1 = LabelEncoder()\n",
    "le2 = LabelEncoder()\n",
    "le3 = LabelEncoder()\n",
    "le4 = LabelEncoder()\n",
    "\n",
    "le_protocol_type = le1.fit(df['protocol_type'])\n",
    "le_service = le2.fit(df['service'])\n",
    "le_flag = le3.fit(df['flag'])\n",
    "le_attack = le4.fit(df['attack'])\n",
    "\n",
    "df['protocol_type'] = le_protocol_type.transform(df['protocol_type'])\n",
    "df['service'] = le_service.transform(df['service'])\n",
    "df['flag'] = le_flag.transform(df['flag'])\n",
    "df['attack'] = le_attack.transform(df['attack'])"
   ]
  },
  {
   "cell_type": "code",
   "execution_count": 13,
   "id": "b4940a0f-292d-485d-bd18-873302e03357",
   "metadata": {},
   "outputs": [],
   "source": [
    "from sklearn.model_selection import train_test_split"
   ]
  },
  {
   "cell_type": "code",
   "execution_count": 14,
   "id": "c3c1e6c3-1b02-465b-a267-fb36fe04f826",
   "metadata": {},
   "outputs": [
    {
     "name": "stdout",
     "output_type": "stream",
     "text": [
      "X_train has shape: (125972, 42) \n",
      "y_train has shape: (125972,)\n"
     ]
    }
   ],
   "source": [
    "y_train = df.attack\n",
    "X_train = df.drop('attack', axis=1)\n",
    "\n",
    "print('X_train has shape:',X_train.shape,'\\ny_train has shape:',y_train.shape)"
   ]
  },
  {
   "cell_type": "code",
   "execution_count": 15,
   "id": "8fd1709b-4ac9-4c6e-9a9c-38a140561e23",
   "metadata": {},
   "outputs": [],
   "source": [
    "X_train, x_test, y_train, y_test = train_test_split(X_train, y_train, test_size=0.20, random_state=42)"
   ]
  },
  {
   "cell_type": "code",
   "execution_count": 16,
   "id": "60bdd3e4-d50d-4b80-ab6a-ef8284a43c8e",
   "metadata": {},
   "outputs": [
    {
     "data": {
      "text/html": [
       "<div>\n",
       "<style scoped>\n",
       "    .dataframe tbody tr th:only-of-type {\n",
       "        vertical-align: middle;\n",
       "    }\n",
       "\n",
       "    .dataframe tbody tr th {\n",
       "        vertical-align: top;\n",
       "    }\n",
       "\n",
       "    .dataframe thead th {\n",
       "        text-align: right;\n",
       "    }\n",
       "</style>\n",
       "<table border=\"1\" class=\"dataframe\">\n",
       "  <thead>\n",
       "    <tr style=\"text-align: right;\">\n",
       "      <th></th>\n",
       "      <th>duration</th>\n",
       "      <th>protocol_type</th>\n",
       "      <th>service</th>\n",
       "      <th>flag</th>\n",
       "      <th>src_bytes</th>\n",
       "      <th>dst_bytes</th>\n",
       "      <th>land</th>\n",
       "      <th>wrong_fragment</th>\n",
       "      <th>urgent</th>\n",
       "      <th>hot</th>\n",
       "      <th>...</th>\n",
       "      <th>dst_host_srv_count</th>\n",
       "      <th>dst_host_same_srv_rate</th>\n",
       "      <th>dst_host_diff_srv_rate</th>\n",
       "      <th>dst_host_same_src_port_rate</th>\n",
       "      <th>dst_host_srv_diff_host_rate</th>\n",
       "      <th>dst_host_serror_rate</th>\n",
       "      <th>dst_host_srv_serror_rate</th>\n",
       "      <th>dst_host_rerror_rate</th>\n",
       "      <th>dst_host_srv_rerror_rate</th>\n",
       "      <th>level</th>\n",
       "    </tr>\n",
       "  </thead>\n",
       "  <tbody>\n",
       "    <tr>\n",
       "      <th>86509</th>\n",
       "      <td>0</td>\n",
       "      <td>1</td>\n",
       "      <td>41</td>\n",
       "      <td>5</td>\n",
       "      <td>0</td>\n",
       "      <td>0</td>\n",
       "      <td>0</td>\n",
       "      <td>0</td>\n",
       "      <td>0</td>\n",
       "      <td>0</td>\n",
       "      <td>...</td>\n",
       "      <td>4</td>\n",
       "      <td>0.02</td>\n",
       "      <td>0.09</td>\n",
       "      <td>0.0</td>\n",
       "      <td>0.00</td>\n",
       "      <td>1.00</td>\n",
       "      <td>1.00</td>\n",
       "      <td>0.0</td>\n",
       "      <td>0.0</td>\n",
       "      <td>20</td>\n",
       "    </tr>\n",
       "    <tr>\n",
       "      <th>34925</th>\n",
       "      <td>0</td>\n",
       "      <td>1</td>\n",
       "      <td>24</td>\n",
       "      <td>1</td>\n",
       "      <td>0</td>\n",
       "      <td>0</td>\n",
       "      <td>0</td>\n",
       "      <td>0</td>\n",
       "      <td>0</td>\n",
       "      <td>0</td>\n",
       "      <td>...</td>\n",
       "      <td>8</td>\n",
       "      <td>0.03</td>\n",
       "      <td>0.06</td>\n",
       "      <td>0.0</td>\n",
       "      <td>0.00</td>\n",
       "      <td>0.00</td>\n",
       "      <td>0.00</td>\n",
       "      <td>1.0</td>\n",
       "      <td>1.0</td>\n",
       "      <td>19</td>\n",
       "    </tr>\n",
       "    <tr>\n",
       "      <th>72318</th>\n",
       "      <td>0</td>\n",
       "      <td>1</td>\n",
       "      <td>49</td>\n",
       "      <td>5</td>\n",
       "      <td>0</td>\n",
       "      <td>0</td>\n",
       "      <td>0</td>\n",
       "      <td>0</td>\n",
       "      <td>0</td>\n",
       "      <td>0</td>\n",
       "      <td>...</td>\n",
       "      <td>8</td>\n",
       "      <td>0.03</td>\n",
       "      <td>0.05</td>\n",
       "      <td>0.0</td>\n",
       "      <td>0.00</td>\n",
       "      <td>1.00</td>\n",
       "      <td>1.00</td>\n",
       "      <td>0.0</td>\n",
       "      <td>0.0</td>\n",
       "      <td>21</td>\n",
       "    </tr>\n",
       "    <tr>\n",
       "      <th>11420</th>\n",
       "      <td>0</td>\n",
       "      <td>1</td>\n",
       "      <td>42</td>\n",
       "      <td>5</td>\n",
       "      <td>0</td>\n",
       "      <td>0</td>\n",
       "      <td>0</td>\n",
       "      <td>0</td>\n",
       "      <td>0</td>\n",
       "      <td>0</td>\n",
       "      <td>...</td>\n",
       "      <td>13</td>\n",
       "      <td>0.05</td>\n",
       "      <td>0.07</td>\n",
       "      <td>0.0</td>\n",
       "      <td>0.00</td>\n",
       "      <td>1.00</td>\n",
       "      <td>1.00</td>\n",
       "      <td>0.0</td>\n",
       "      <td>0.0</td>\n",
       "      <td>21</td>\n",
       "    </tr>\n",
       "    <tr>\n",
       "      <th>74271</th>\n",
       "      <td>0</td>\n",
       "      <td>2</td>\n",
       "      <td>12</td>\n",
       "      <td>9</td>\n",
       "      <td>45</td>\n",
       "      <td>131</td>\n",
       "      <td>0</td>\n",
       "      <td>0</td>\n",
       "      <td>0</td>\n",
       "      <td>0</td>\n",
       "      <td>...</td>\n",
       "      <td>252</td>\n",
       "      <td>0.99</td>\n",
       "      <td>0.01</td>\n",
       "      <td>0.0</td>\n",
       "      <td>0.00</td>\n",
       "      <td>0.00</td>\n",
       "      <td>0.00</td>\n",
       "      <td>0.0</td>\n",
       "      <td>0.0</td>\n",
       "      <td>20</td>\n",
       "    </tr>\n",
       "    <tr>\n",
       "      <th>...</th>\n",
       "      <td>...</td>\n",
       "      <td>...</td>\n",
       "      <td>...</td>\n",
       "      <td>...</td>\n",
       "      <td>...</td>\n",
       "      <td>...</td>\n",
       "      <td>...</td>\n",
       "      <td>...</td>\n",
       "      <td>...</td>\n",
       "      <td>...</td>\n",
       "      <td>...</td>\n",
       "      <td>...</td>\n",
       "      <td>...</td>\n",
       "      <td>...</td>\n",
       "      <td>...</td>\n",
       "      <td>...</td>\n",
       "      <td>...</td>\n",
       "      <td>...</td>\n",
       "      <td>...</td>\n",
       "      <td>...</td>\n",
       "      <td>...</td>\n",
       "    </tr>\n",
       "    <tr>\n",
       "      <th>119879</th>\n",
       "      <td>0</td>\n",
       "      <td>1</td>\n",
       "      <td>49</td>\n",
       "      <td>5</td>\n",
       "      <td>0</td>\n",
       "      <td>0</td>\n",
       "      <td>0</td>\n",
       "      <td>0</td>\n",
       "      <td>0</td>\n",
       "      <td>0</td>\n",
       "      <td>...</td>\n",
       "      <td>17</td>\n",
       "      <td>0.07</td>\n",
       "      <td>0.07</td>\n",
       "      <td>0.0</td>\n",
       "      <td>0.00</td>\n",
       "      <td>1.00</td>\n",
       "      <td>1.00</td>\n",
       "      <td>0.0</td>\n",
       "      <td>0.0</td>\n",
       "      <td>21</td>\n",
       "    </tr>\n",
       "    <tr>\n",
       "      <th>103694</th>\n",
       "      <td>0</td>\n",
       "      <td>1</td>\n",
       "      <td>66</td>\n",
       "      <td>5</td>\n",
       "      <td>0</td>\n",
       "      <td>0</td>\n",
       "      <td>0</td>\n",
       "      <td>0</td>\n",
       "      <td>0</td>\n",
       "      <td>0</td>\n",
       "      <td>...</td>\n",
       "      <td>5</td>\n",
       "      <td>0.02</td>\n",
       "      <td>0.08</td>\n",
       "      <td>0.0</td>\n",
       "      <td>0.00</td>\n",
       "      <td>1.00</td>\n",
       "      <td>1.00</td>\n",
       "      <td>0.0</td>\n",
       "      <td>0.0</td>\n",
       "      <td>20</td>\n",
       "    </tr>\n",
       "    <tr>\n",
       "      <th>860</th>\n",
       "      <td>0</td>\n",
       "      <td>1</td>\n",
       "      <td>24</td>\n",
       "      <td>9</td>\n",
       "      <td>341</td>\n",
       "      <td>281</td>\n",
       "      <td>0</td>\n",
       "      <td>0</td>\n",
       "      <td>0</td>\n",
       "      <td>0</td>\n",
       "      <td>...</td>\n",
       "      <td>243</td>\n",
       "      <td>0.95</td>\n",
       "      <td>0.01</td>\n",
       "      <td>0.0</td>\n",
       "      <td>0.00</td>\n",
       "      <td>0.00</td>\n",
       "      <td>0.00</td>\n",
       "      <td>0.0</td>\n",
       "      <td>0.0</td>\n",
       "      <td>21</td>\n",
       "    </tr>\n",
       "    <tr>\n",
       "      <th>15795</th>\n",
       "      <td>0</td>\n",
       "      <td>2</td>\n",
       "      <td>12</td>\n",
       "      <td>9</td>\n",
       "      <td>46</td>\n",
       "      <td>112</td>\n",
       "      <td>0</td>\n",
       "      <td>0</td>\n",
       "      <td>0</td>\n",
       "      <td>0</td>\n",
       "      <td>...</td>\n",
       "      <td>208</td>\n",
       "      <td>1.00</td>\n",
       "      <td>0.00</td>\n",
       "      <td>1.0</td>\n",
       "      <td>0.01</td>\n",
       "      <td>0.00</td>\n",
       "      <td>0.00</td>\n",
       "      <td>0.0</td>\n",
       "      <td>0.0</td>\n",
       "      <td>21</td>\n",
       "    </tr>\n",
       "    <tr>\n",
       "      <th>121958</th>\n",
       "      <td>0</td>\n",
       "      <td>1</td>\n",
       "      <td>24</td>\n",
       "      <td>9</td>\n",
       "      <td>250</td>\n",
       "      <td>15583</td>\n",
       "      <td>0</td>\n",
       "      <td>0</td>\n",
       "      <td>0</td>\n",
       "      <td>0</td>\n",
       "      <td>...</td>\n",
       "      <td>255</td>\n",
       "      <td>1.00</td>\n",
       "      <td>0.00</td>\n",
       "      <td>0.0</td>\n",
       "      <td>0.00</td>\n",
       "      <td>0.01</td>\n",
       "      <td>0.01</td>\n",
       "      <td>0.0</td>\n",
       "      <td>0.0</td>\n",
       "      <td>21</td>\n",
       "    </tr>\n",
       "  </tbody>\n",
       "</table>\n",
       "<p>100777 rows × 42 columns</p>\n",
       "</div>"
      ],
      "text/plain": [
       "        duration  protocol_type  service  flag  src_bytes  dst_bytes  land  \\\n",
       "86509          0              1       41     5          0          0     0   \n",
       "34925          0              1       24     1          0          0     0   \n",
       "72318          0              1       49     5          0          0     0   \n",
       "11420          0              1       42     5          0          0     0   \n",
       "74271          0              2       12     9         45        131     0   \n",
       "...          ...            ...      ...   ...        ...        ...   ...   \n",
       "119879         0              1       49     5          0          0     0   \n",
       "103694         0              1       66     5          0          0     0   \n",
       "860            0              1       24     9        341        281     0   \n",
       "15795          0              2       12     9         46        112     0   \n",
       "121958         0              1       24     9        250      15583     0   \n",
       "\n",
       "        wrong_fragment  urgent  hot  ...  dst_host_srv_count  \\\n",
       "86509                0       0    0  ...                   4   \n",
       "34925                0       0    0  ...                   8   \n",
       "72318                0       0    0  ...                   8   \n",
       "11420                0       0    0  ...                  13   \n",
       "74271                0       0    0  ...                 252   \n",
       "...                ...     ...  ...  ...                 ...   \n",
       "119879               0       0    0  ...                  17   \n",
       "103694               0       0    0  ...                   5   \n",
       "860                  0       0    0  ...                 243   \n",
       "15795                0       0    0  ...                 208   \n",
       "121958               0       0    0  ...                 255   \n",
       "\n",
       "        dst_host_same_srv_rate  dst_host_diff_srv_rate  \\\n",
       "86509                     0.02                    0.09   \n",
       "34925                     0.03                    0.06   \n",
       "72318                     0.03                    0.05   \n",
       "11420                     0.05                    0.07   \n",
       "74271                     0.99                    0.01   \n",
       "...                        ...                     ...   \n",
       "119879                    0.07                    0.07   \n",
       "103694                    0.02                    0.08   \n",
       "860                       0.95                    0.01   \n",
       "15795                     1.00                    0.00   \n",
       "121958                    1.00                    0.00   \n",
       "\n",
       "        dst_host_same_src_port_rate  dst_host_srv_diff_host_rate  \\\n",
       "86509                           0.0                         0.00   \n",
       "34925                           0.0                         0.00   \n",
       "72318                           0.0                         0.00   \n",
       "11420                           0.0                         0.00   \n",
       "74271                           0.0                         0.00   \n",
       "...                             ...                          ...   \n",
       "119879                          0.0                         0.00   \n",
       "103694                          0.0                         0.00   \n",
       "860                             0.0                         0.00   \n",
       "15795                           1.0                         0.01   \n",
       "121958                          0.0                         0.00   \n",
       "\n",
       "        dst_host_serror_rate  dst_host_srv_serror_rate  dst_host_rerror_rate  \\\n",
       "86509                   1.00                      1.00                   0.0   \n",
       "34925                   0.00                      0.00                   1.0   \n",
       "72318                   1.00                      1.00                   0.0   \n",
       "11420                   1.00                      1.00                   0.0   \n",
       "74271                   0.00                      0.00                   0.0   \n",
       "...                      ...                       ...                   ...   \n",
       "119879                  1.00                      1.00                   0.0   \n",
       "103694                  1.00                      1.00                   0.0   \n",
       "860                     0.00                      0.00                   0.0   \n",
       "15795                   0.00                      0.00                   0.0   \n",
       "121958                  0.01                      0.01                   0.0   \n",
       "\n",
       "        dst_host_srv_rerror_rate  level  \n",
       "86509                        0.0     20  \n",
       "34925                        1.0     19  \n",
       "72318                        0.0     21  \n",
       "11420                        0.0     21  \n",
       "74271                        0.0     20  \n",
       "...                          ...    ...  \n",
       "119879                       0.0     21  \n",
       "103694                       0.0     20  \n",
       "860                          0.0     21  \n",
       "15795                        0.0     21  \n",
       "121958                       0.0     21  \n",
       "\n",
       "[100777 rows x 42 columns]"
      ]
     },
     "execution_count": 16,
     "metadata": {},
     "output_type": "execute_result"
    }
   ],
   "source": [
    "X_train"
   ]
  },
  {
   "cell_type": "code",
   "execution_count": 17,
   "id": "b6ae3554-0652-48d4-93cc-0bec3d68f50b",
   "metadata": {},
   "outputs": [],
   "source": [
    "from sklearn.ensemble import RandomForestClassifier\n",
    "from sklearn.tree import DecisionTreeClassifier\n",
    "from sklearn.naive_bayes import GaussianNB\n",
    "from catboost import CatBoostClassifier\n",
    "from xgboost import XGBClassifier\n",
    "\n",
    "from sklearn.metrics import confusion_matrix, ConfusionMatrixDisplay, classification_report, accuracy_score"
   ]
  },
  {
   "cell_type": "code",
   "execution_count": 18,
   "id": "95d14dcc-7e01-44c5-8c53-d44d52ee225b",
   "metadata": {},
   "outputs": [],
   "source": [
    "target_names = ['normal', 'Dos', 'Probe', 'R2L', 'U2R']"
   ]
  },
  {
   "cell_type": "code",
   "execution_count": 19,
   "id": "e0859dfc-fb2b-45d6-b1f1-2d629bfadb00",
   "metadata": {},
   "outputs": [],
   "source": [
    "gnb = GaussianNB()\n",
    "gnb = gnb.fit(X_train, y_train)"
   ]
  },
  {
   "cell_type": "code",
   "execution_count": 20,
   "id": "8efa5933-3c11-434d-a5fa-a8438fd245d5",
   "metadata": {},
   "outputs": [
    {
     "data": {
      "text/plain": [
       "array([0, 0, 0, ..., 0, 0, 0])"
      ]
     },
     "execution_count": 20,
     "metadata": {},
     "output_type": "execute_result"
    }
   ],
   "source": [
    "gnb_pred = gnb.predict(x_test)\n",
    "gnb_pred"
   ]
  },
  {
   "cell_type": "code",
   "execution_count": 21,
   "id": "013b4cdc-5ff2-4d22-a4a2-d50071133a80",
   "metadata": {},
   "outputs": [
    {
     "data": {
      "text/plain": [
       "0.39865052589799566"
      ]
     },
     "execution_count": 21,
     "metadata": {},
     "output_type": "execute_result"
    }
   ],
   "source": [
    "gnb_acc = accuracy_score(y_test, gnb_pred)\n",
    "gnb_acc"
   ]
  },
  {
   "cell_type": "code",
   "execution_count": 22,
   "id": "a71852cf-6124-4b76-85b3-610006e4a4f4",
   "metadata": {},
   "outputs": [
    {
     "data": {
      "text/plain": [
       "<sklearn.metrics._plot.confusion_matrix.ConfusionMatrixDisplay at 0x242430c5e80>"
      ]
     },
     "execution_count": 22,
     "metadata": {},
     "output_type": "execute_result"
    },
    {
     "data": {
      "image/png": "[encoded data removed]",
      "text/plain": [
       "<Figure size 640x480 with 2 Axes>"
      ]
     },
     "metadata": {},
     "output_type": "display_data"
    }
   ],
   "source": [
    "gnb_cm = confusion_matrix(y_test, gnb_pred)\n",
    "ConfusionMatrixDisplay(gnb_cm,display_labels=target_names).plot()"
   ]
  },
  {
   "cell_type": "code",
   "execution_count": 23,
   "id": "5bbddb74-bac6-46fd-96bf-fb6a329993b8",
   "metadata": {},
   "outputs": [
    {
     "name": "stdout",
     "output_type": "stream",
     "text": [
      "              precision    recall  f1-score   support\n",
      "\n",
      "      normal       0.40      0.98      0.57      9224\n",
      "         Dos       0.55      0.08      0.13      2373\n",
      "       Probe       0.01      0.01      0.01       199\n",
      "         R2L       0.00      0.15      0.00        13\n",
      "         U2R       0.79      0.06      0.12     13386\n",
      "\n",
      "    accuracy                           0.40     25195\n",
      "   macro avg       0.35      0.26      0.17     25195\n",
      "weighted avg       0.62      0.40      0.28     25195\n",
      "\n"
     ]
    }
   ],
   "source": [
    "print(classification_report(y_test, gnb_pred, target_names=target_names))"
   ]
  },
  {
   "cell_type": "code",
   "execution_count": 24,
   "id": "c1f5b858-9cd1-4b0b-8910-93c916f34dd0",
   "metadata": {},
   "outputs": [],
   "source": [
    "dt = DecisionTreeClassifier()\n",
    "dt = dt.fit(X_train, y_train)"
   ]
  },
  {
   "cell_type": "code",
   "execution_count": 25,
   "id": "4e971115-baf2-4f13-a2b1-6c89833ceeab",
   "metadata": {},
   "outputs": [
    {
     "data": {
      "text/plain": [
       "array([0, 1, 4, ..., 0, 0, 0])"
      ]
     },
     "execution_count": 25,
     "metadata": {},
     "output_type": "execute_result"
    }
   ],
   "source": [
    "dt_pred = dt.predict(x_test)\n",
    "dt_pred"
   ]
  },
  {
   "cell_type": "code",
   "execution_count": 26,
   "id": "eb5ca7a9-5fa3-424e-9a4f-d6fab5f5fbb0",
   "metadata": {},
   "outputs": [
    {
     "data": {
      "text/plain": [
       "0.998333002579877"
      ]
     },
     "execution_count": 26,
     "metadata": {},
     "output_type": "execute_result"
    }
   ],
   "source": [
    "dt_acc = accuracy_score(y_test, dt_pred)\n",
    "dt_acc"
   ]
  },
  {
   "cell_type": "code",
   "execution_count": 27,
   "id": "946ed621-0566-44cc-86fc-4f3af4e7a41e",
   "metadata": {},
   "outputs": [
    {
     "data": {
      "text/plain": [
       "<sklearn.metrics._plot.confusion_matrix.ConfusionMatrixDisplay at 0x242433c5e80>"
      ]
     },
     "execution_count": 27,
     "metadata": {},
     "output_type": "execute_result"
    },
    {
     "data": {
      "image/png": "[encoded data removed]",
      "text/plain": [
       "<Figure size 640x480 with 2 Axes>"
      ]
     },
     "metadata": {},
     "output_type": "display_data"
    }
   ],
   "source": [
    "dt_cm = confusion_matrix(y_test, dt_pred)\n",
    "ConfusionMatrixDisplay(dt_cm, display_labels=target_names).plot()"
   ]
  },
  {
   "cell_type": "code",
   "execution_count": 28,
   "id": "90f8d2a3-2c43-4f46-972f-05daa1688666",
   "metadata": {},
   "outputs": [
    {
     "name": "stdout",
     "output_type": "stream",
     "text": [
      "              precision    recall  f1-score   support\n",
      "\n",
      "      normal       1.00      1.00      1.00      9224\n",
      "         Dos       1.00      1.00      1.00      2373\n",
      "       Probe       0.96      0.94      0.95       199\n",
      "         R2L       0.73      0.62      0.67        13\n",
      "         U2R       1.00      1.00      1.00     13386\n",
      "\n",
      "    accuracy                           1.00     25195\n",
      "   macro avg       0.94      0.91      0.92     25195\n",
      "weighted avg       1.00      1.00      1.00     25195\n",
      "\n"
     ]
    }
   ],
   "source": [
    "print(classification_report(y_test, dt_pred, target_names=target_names))"
   ]
  },
  {
   "cell_type": "code",
   "execution_count": 29,
   "id": "350fa8ac-87ae-4293-8ff8-b381dc3359be",
   "metadata": {},
   "outputs": [],
   "source": [
    "rf = RandomForestClassifier()\n",
    "rf = rf.fit(X_train, y_train)"
   ]
  },
  {
   "cell_type": "code",
   "execution_count": 30,
   "id": "3c8e24d2-aa82-47ff-b7d1-f984ee862795",
   "metadata": {},
   "outputs": [
    {
     "data": {
      "text/plain": [
       "array([0, 1, 4, ..., 0, 0, 0])"
      ]
     },
     "execution_count": 30,
     "metadata": {},
     "output_type": "execute_result"
    }
   ],
   "source": [
    "rf_pred = rf.predict(x_test)\n",
    "rf_pred"
   ]
  },
  {
   "cell_type": "code",
   "execution_count": 31,
   "id": "72673f7e-41e0-435a-81a5-e1e8224943ce",
   "metadata": {},
   "outputs": [
    {
     "data": {
      "text/plain": [
       "0.9994443341932924"
      ]
     },
     "execution_count": 31,
     "metadata": {},
     "output_type": "execute_result"
    }
   ],
   "source": [
    "rf_acc = accuracy_score(y_test, rf_pred)\n",
    "rf_acc"
   ]
  },
  {
   "cell_type": "code",
   "execution_count": 32,
   "id": "dcb003b9-b06d-4dea-bb21-d2f18954b420",
   "metadata": {},
   "outputs": [
    {
     "data": {
      "text/plain": [
       "<sklearn.metrics._plot.confusion_matrix.ConfusionMatrixDisplay at 0x24243326580>"
      ]
     },
     "execution_count": 32,
     "metadata": {},
     "output_type": "execute_result"
    },
    {
     "data": {
      "image/png": "[encoded data removed]",
      "text/plain": [
       "<Figure size 640x480 with 2 Axes>"
      ]
     },
     "metadata": {},
     "output_type": "display_data"
    }
   ],
   "source": [
    "rf_cm = confusion_matrix(y_test, rf_pred)\n",
    "ConfusionMatrixDisplay(rf_cm, display_labels=target_names).plot()"
   ]
  },
  {
   "cell_type": "code",
   "execution_count": 33,
   "id": "c449d90e-fb74-42ee-b5e4-f0f589ff9b15",
   "metadata": {},
   "outputs": [
    {
     "name": "stdout",
     "output_type": "stream",
     "text": [
      "              precision    recall  f1-score   support\n",
      "\n",
      "      normal       1.00      1.00      1.00      9224\n",
      "         Dos       1.00      1.00      1.00      2373\n",
      "       Probe       0.98      0.98      0.98       199\n",
      "         R2L       1.00      0.69      0.82        13\n",
      "         U2R       1.00      1.00      1.00     13386\n",
      "\n",
      "    accuracy                           1.00     25195\n",
      "   macro avg       1.00      0.93      0.96     25195\n",
      "weighted avg       1.00      1.00      1.00     25195\n",
      "\n"
     ]
    }
   ],
   "source": [
    "print(classification_report(y_test, rf_pred, target_names=target_names))"
   ]
  },
  {
   "cell_type": "code",
   "execution_count": 34,
   "id": "92aff366-d5d8-44df-bb20-61aed152b9bb",
   "metadata": {},
   "outputs": [
    {
     "name": "stdout",
     "output_type": "stream",
     "text": [
      "Learning rate set to 0.100114\n",
      "0:\tlearn: 1.2544516\ttotal: 222ms\tremaining: 3m 42s\n",
      "1:\tlearn: 1.0354755\ttotal: 269ms\tremaining: 2m 14s\n",
      "2:\tlearn: 0.8799860\ttotal: 316ms\tremaining: 1m 45s\n",
      "3:\tlearn: 0.7587491\ttotal: 361ms\tremaining: 1m 29s\n",
      "4:\tlearn: 0.6614147\ttotal: 411ms\tremaining: 1m 21s\n",
      "5:\tlearn: 0.5829969\ttotal: 466ms\tremaining: 1m 17s\n",
      "6:\tlearn: 0.5172147\ttotal: 515ms\tremaining: 1m 13s\n",
      "7:\tlearn: 0.4604901\ttotal: 562ms\tremaining: 1m 9s\n",
      "8:\tlearn: 0.4112563\ttotal: 614ms\tremaining: 1m 7s\n",
      "9:\tlearn: 0.3689419\ttotal: 662ms\tremaining: 1m 5s\n",
      "10:\tlearn: 0.3332607\ttotal: 715ms\tremaining: 1m 4s\n",
      "11:\tlearn: 0.3005307\ttotal: 764ms\tremaining: 1m 2s\n",
      "12:\tlearn: 0.2731106\ttotal: 807ms\tremaining: 1m 1s\n",
      "13:\tlearn: 0.2488503\ttotal: 854ms\tremaining: 1m\n",
      "14:\tlearn: 0.2267947\ttotal: 901ms\tremaining: 59.1s\n",
      "15:\tlearn: 0.2074740\ttotal: 957ms\tremaining: 58.9s\n",
      "16:\tlearn: 0.1896271\ttotal: 1.01s\tremaining: 58.3s\n",
      "17:\tlearn: 0.1724289\ttotal: 1.06s\tremaining: 57.7s\n",
      "18:\tlearn: 0.1580366\ttotal: 1.1s\tremaining: 56.9s\n",
      "19:\tlearn: 0.1448411\ttotal: 1.16s\tremaining: 56.6s\n",
      "20:\tlearn: 0.1330560\ttotal: 1.21s\tremaining: 56.3s\n",
      "21:\tlearn: 0.1224942\ttotal: 1.26s\tremaining: 55.8s\n",
      "22:\tlearn: 0.1133261\ttotal: 1.31s\tremaining: 55.5s\n",
      "23:\tlearn: 0.1047033\ttotal: 1.36s\tremaining: 55.2s\n",
      "24:\tlearn: 0.0969570\ttotal: 1.42s\tremaining: 55.3s\n",
      "25:\tlearn: 0.0899553\ttotal: 1.48s\tremaining: 55.4s\n",
      "26:\tlearn: 0.0839414\ttotal: 1.54s\tremaining: 55.4s\n",
      "27:\tlearn: 0.0784792\ttotal: 1.58s\tremaining: 55s\n",
      "28:\tlearn: 0.0732904\ttotal: 1.63s\tremaining: 54.5s\n",
      "29:\tlearn: 0.0687899\ttotal: 1.68s\tremaining: 54.2s\n",
      "30:\tlearn: 0.0644965\ttotal: 1.73s\tremaining: 54.1s\n",
      "31:\tlearn: 0.0606829\ttotal: 1.78s\tremaining: 54s\n",
      "32:\tlearn: 0.0571015\ttotal: 1.84s\tremaining: 53.8s\n",
      "33:\tlearn: 0.0540852\ttotal: 1.88s\tremaining: 53.5s\n",
      "34:\tlearn: 0.0510669\ttotal: 1.92s\tremaining: 53s\n",
      "35:\tlearn: 0.0483001\ttotal: 1.97s\tremaining: 52.8s\n",
      "36:\tlearn: 0.0455414\ttotal: 2.03s\tremaining: 52.8s\n",
      "37:\tlearn: 0.0434334\ttotal: 2.08s\tremaining: 52.8s\n",
      "38:\tlearn: 0.0412177\ttotal: 2.14s\tremaining: 52.8s\n",
      "39:\tlearn: 0.0390340\ttotal: 2.2s\tremaining: 52.8s\n",
      "40:\tlearn: 0.0369360\ttotal: 2.26s\tremaining: 52.9s\n",
      "41:\tlearn: 0.0353257\ttotal: 2.31s\tremaining: 52.7s\n",
      "42:\tlearn: 0.0338682\ttotal: 2.37s\tremaining: 52.7s\n",
      "43:\tlearn: 0.0324123\ttotal: 2.43s\tremaining: 52.7s\n",
      "44:\tlearn: 0.0310847\ttotal: 2.49s\tremaining: 52.8s\n",
      "45:\tlearn: 0.0297287\ttotal: 2.55s\tremaining: 52.9s\n",
      "46:\tlearn: 0.0285747\ttotal: 2.6s\tremaining: 52.6s\n",
      "47:\tlearn: 0.0275500\ttotal: 2.64s\tremaining: 52.3s\n",
      "48:\tlearn: 0.0265725\ttotal: 2.69s\tremaining: 52.3s\n",
      "49:\tlearn: 0.0257922\ttotal: 2.75s\tremaining: 52.2s\n",
      "50:\tlearn: 0.0247784\ttotal: 2.81s\tremaining: 52.3s\n",
      "51:\tlearn: 0.0240250\ttotal: 2.86s\tremaining: 52.2s\n",
      "52:\tlearn: 0.0233908\ttotal: 2.92s\tremaining: 52.1s\n",
      "53:\tlearn: 0.0225429\ttotal: 2.97s\tremaining: 52.1s\n",
      "54:\tlearn: 0.0218171\ttotal: 3.03s\tremaining: 52.1s\n",
      "55:\tlearn: 0.0212485\ttotal: 3.08s\tremaining: 51.9s\n",
      "56:\tlearn: 0.0205576\ttotal: 3.13s\tremaining: 51.9s\n",
      "57:\tlearn: 0.0202499\ttotal: 3.19s\tremaining: 51.8s\n",
      "58:\tlearn: 0.0193920\ttotal: 3.25s\tremaining: 51.8s\n",
      "59:\tlearn: 0.0188376\ttotal: 3.31s\tremaining: 51.8s\n",
      "60:\tlearn: 0.0183545\ttotal: 3.36s\tremaining: 51.8s\n",
      "61:\tlearn: 0.0179108\ttotal: 3.41s\tremaining: 51.6s\n",
      "62:\tlearn: 0.0174696\ttotal: 3.46s\tremaining: 51.5s\n",
      "63:\tlearn: 0.0169728\ttotal: 3.51s\tremaining: 51.3s\n",
      "64:\tlearn: 0.0167324\ttotal: 3.55s\tremaining: 51.1s\n",
      "65:\tlearn: 0.0163088\ttotal: 3.6s\tremaining: 50.9s\n",
      "66:\tlearn: 0.0161431\ttotal: 3.63s\tremaining: 50.5s\n",
      "67:\tlearn: 0.0156137\ttotal: 3.67s\tremaining: 50.4s\n",
      "68:\tlearn: 0.0152399\ttotal: 3.72s\tremaining: 50.1s\n",
      "69:\tlearn: 0.0148248\ttotal: 3.77s\tremaining: 50.1s\n",
      "70:\tlearn: 0.0145913\ttotal: 3.81s\tremaining: 49.9s\n",
      "71:\tlearn: 0.0141816\ttotal: 3.86s\tremaining: 49.8s\n",
      "72:\tlearn: 0.0139174\ttotal: 3.9s\tremaining: 49.6s\n",
      "73:\tlearn: 0.0136732\ttotal: 3.95s\tremaining: 49.4s\n",
      "74:\tlearn: 0.0133396\ttotal: 4s\tremaining: 49.3s\n",
      "75:\tlearn: 0.0129604\ttotal: 4.04s\tremaining: 49.1s\n",
      "76:\tlearn: 0.0126771\ttotal: 4.08s\tremaining: 49s\n",
      "77:\tlearn: 0.0125591\ttotal: 4.12s\tremaining: 48.7s\n",
      "78:\tlearn: 0.0123469\ttotal: 4.16s\tremaining: 48.5s\n",
      "79:\tlearn: 0.0120906\ttotal: 4.22s\tremaining: 48.5s\n",
      "80:\tlearn: 0.0117771\ttotal: 4.27s\tremaining: 48.5s\n",
      "81:\tlearn: 0.0116330\ttotal: 4.31s\tremaining: 48.3s\n",
      "82:\tlearn: 0.0114580\ttotal: 4.35s\tremaining: 48.1s\n",
      "83:\tlearn: 0.0111929\ttotal: 4.4s\tremaining: 48s\n",
      "84:\tlearn: 0.0110477\ttotal: 4.46s\tremaining: 48s\n",
      "85:\tlearn: 0.0109291\ttotal: 4.49s\tremaining: 47.7s\n",
      "86:\tlearn: 0.0107997\ttotal: 4.53s\tremaining: 47.5s\n",
      "87:\tlearn: 0.0107126\ttotal: 4.56s\tremaining: 47.3s\n",
      "88:\tlearn: 0.0104977\ttotal: 4.61s\tremaining: 47.2s\n",
      "89:\tlearn: 0.0103867\ttotal: 4.64s\tremaining: 47s\n",
      "90:\tlearn: 0.0101823\ttotal: 4.69s\tremaining: 46.8s\n",
      "91:\tlearn: 0.0100205\ttotal: 4.74s\tremaining: 46.7s\n",
      "92:\tlearn: 0.0098819\ttotal: 4.78s\tremaining: 46.6s\n",
      "93:\tlearn: 0.0097198\ttotal: 4.82s\tremaining: 46.5s\n",
      "94:\tlearn: 0.0096003\ttotal: 4.86s\tremaining: 46.3s\n",
      "95:\tlearn: 0.0094948\ttotal: 4.89s\tremaining: 46.1s\n",
      "96:\tlearn: 0.0094041\ttotal: 4.94s\tremaining: 46s\n",
      "97:\tlearn: 0.0093294\ttotal: 4.98s\tremaining: 45.8s\n",
      "98:\tlearn: 0.0091791\ttotal: 5.01s\tremaining: 45.6s\n",
      "99:\tlearn: 0.0090914\ttotal: 5.05s\tremaining: 45.5s\n",
      "100:\tlearn: 0.0090180\ttotal: 5.08s\tremaining: 45.3s\n",
      "101:\tlearn: 0.0089066\ttotal: 5.13s\tremaining: 45.2s\n",
      "102:\tlearn: 0.0088458\ttotal: 5.17s\tremaining: 45s\n",
      "103:\tlearn: 0.0087726\ttotal: 5.21s\tremaining: 44.9s\n",
      "104:\tlearn: 0.0087392\ttotal: 5.24s\tremaining: 44.7s\n",
      "105:\tlearn: 0.0086637\ttotal: 5.28s\tremaining: 44.5s\n",
      "106:\tlearn: 0.0085983\ttotal: 5.32s\tremaining: 44.4s\n",
      "107:\tlearn: 0.0084580\ttotal: 5.36s\tremaining: 44.2s\n",
      "108:\tlearn: 0.0083875\ttotal: 5.4s\tremaining: 44.1s\n",
      "109:\tlearn: 0.0082085\ttotal: 5.45s\tremaining: 44.1s\n",
      "110:\tlearn: 0.0081257\ttotal: 5.49s\tremaining: 43.9s\n",
      "111:\tlearn: 0.0080240\ttotal: 5.52s\tremaining: 43.8s\n",
      "112:\tlearn: 0.0079785\ttotal: 5.55s\tremaining: 43.6s\n",
      "113:\tlearn: 0.0078399\ttotal: 5.6s\tremaining: 43.5s\n",
      "114:\tlearn: 0.0077768\ttotal: 5.65s\tremaining: 43.5s\n",
      "115:\tlearn: 0.0077097\ttotal: 5.69s\tremaining: 43.4s\n",
      "116:\tlearn: 0.0076758\ttotal: 5.73s\tremaining: 43.2s\n",
      "117:\tlearn: 0.0076701\ttotal: 5.76s\tremaining: 43s\n",
      "118:\tlearn: 0.0075163\ttotal: 5.81s\tremaining: 43s\n",
      "119:\tlearn: 0.0074013\ttotal: 5.85s\tremaining: 42.9s\n",
      "120:\tlearn: 0.0073442\ttotal: 5.89s\tremaining: 42.8s\n",
      "121:\tlearn: 0.0072588\ttotal: 5.93s\tremaining: 42.7s\n",
      "122:\tlearn: 0.0071673\ttotal: 5.97s\tremaining: 42.5s\n",
      "123:\tlearn: 0.0070406\ttotal: 6.01s\tremaining: 42.4s\n",
      "124:\tlearn: 0.0069451\ttotal: 6.05s\tremaining: 42.3s\n",
      "125:\tlearn: 0.0069225\ttotal: 6.09s\tremaining: 42.2s\n",
      "126:\tlearn: 0.0069219\ttotal: 6.11s\tremaining: 42s\n",
      "127:\tlearn: 0.0068513\ttotal: 6.16s\tremaining: 42s\n",
      "128:\tlearn: 0.0067996\ttotal: 6.2s\tremaining: 41.9s\n",
      "129:\tlearn: 0.0067837\ttotal: 6.23s\tremaining: 41.7s\n",
      "130:\tlearn: 0.0067336\ttotal: 6.27s\tremaining: 41.6s\n",
      "131:\tlearn: 0.0067061\ttotal: 6.31s\tremaining: 41.5s\n",
      "132:\tlearn: 0.0065790\ttotal: 6.36s\tremaining: 41.5s\n",
      "133:\tlearn: 0.0065088\ttotal: 6.41s\tremaining: 41.4s\n",
      "134:\tlearn: 0.0064680\ttotal: 6.45s\tremaining: 41.3s\n",
      "135:\tlearn: 0.0064587\ttotal: 6.49s\tremaining: 41.2s\n",
      "136:\tlearn: 0.0063797\ttotal: 6.54s\tremaining: 41.2s\n",
      "137:\tlearn: 0.0063731\ttotal: 6.57s\tremaining: 41s\n",
      "138:\tlearn: 0.0063195\ttotal: 6.61s\tremaining: 40.9s\n",
      "139:\tlearn: 0.0063082\ttotal: 6.64s\tremaining: 40.8s\n",
      "140:\tlearn: 0.0062281\ttotal: 6.68s\tremaining: 40.7s\n",
      "141:\tlearn: 0.0062183\ttotal: 6.71s\tremaining: 40.6s\n",
      "142:\tlearn: 0.0061149\ttotal: 6.76s\tremaining: 40.5s\n",
      "143:\tlearn: 0.0060478\ttotal: 6.8s\tremaining: 40.4s\n",
      "144:\tlearn: 0.0059591\ttotal: 6.85s\tremaining: 40.4s\n",
      "145:\tlearn: 0.0058805\ttotal: 6.9s\tremaining: 40.4s\n",
      "146:\tlearn: 0.0058526\ttotal: 6.94s\tremaining: 40.3s\n",
      "147:\tlearn: 0.0058433\ttotal: 6.98s\tremaining: 40.2s\n",
      "148:\tlearn: 0.0058426\ttotal: 7.02s\tremaining: 40.1s\n",
      "149:\tlearn: 0.0057995\ttotal: 7.05s\tremaining: 40s\n",
      "150:\tlearn: 0.0057624\ttotal: 7.09s\tremaining: 39.9s\n",
      "151:\tlearn: 0.0057386\ttotal: 7.13s\tremaining: 39.8s\n",
      "152:\tlearn: 0.0056895\ttotal: 7.17s\tremaining: 39.7s\n",
      "153:\tlearn: 0.0056662\ttotal: 7.2s\tremaining: 39.6s\n",
      "154:\tlearn: 0.0056364\ttotal: 7.24s\tremaining: 39.4s\n",
      "155:\tlearn: 0.0055148\ttotal: 7.28s\tremaining: 39.4s\n",
      "156:\tlearn: 0.0054513\ttotal: 7.32s\tremaining: 39.3s\n",
      "157:\tlearn: 0.0054187\ttotal: 7.36s\tremaining: 39.2s\n",
      "158:\tlearn: 0.0053579\ttotal: 7.4s\tremaining: 39.1s\n",
      "159:\tlearn: 0.0053336\ttotal: 7.44s\tremaining: 39s\n",
      "160:\tlearn: 0.0053095\ttotal: 7.47s\tremaining: 38.9s\n"
     ]
    },
    {
     "name": "stdout",
     "output_type": "stream",
     "text": [
      "161:\tlearn: 0.0052762\ttotal: 7.51s\tremaining: 38.8s\n",
      "162:\tlearn: 0.0052291\ttotal: 7.57s\tremaining: 38.9s\n",
      "163:\tlearn: 0.0052078\ttotal: 7.63s\tremaining: 38.9s\n",
      "164:\tlearn: 0.0051895\ttotal: 7.67s\tremaining: 38.8s\n",
      "165:\tlearn: 0.0051313\ttotal: 7.71s\tremaining: 38.7s\n",
      "166:\tlearn: 0.0050956\ttotal: 7.75s\tremaining: 38.7s\n",
      "167:\tlearn: 0.0050494\ttotal: 7.79s\tremaining: 38.6s\n",
      "168:\tlearn: 0.0049956\ttotal: 7.83s\tremaining: 38.5s\n",
      "169:\tlearn: 0.0049409\ttotal: 7.86s\tremaining: 38.4s\n",
      "170:\tlearn: 0.0048816\ttotal: 7.91s\tremaining: 38.3s\n",
      "171:\tlearn: 0.0048532\ttotal: 7.95s\tremaining: 38.3s\n",
      "172:\tlearn: 0.0048368\ttotal: 7.99s\tremaining: 38.2s\n",
      "173:\tlearn: 0.0048195\ttotal: 8.03s\tremaining: 38.1s\n",
      "174:\tlearn: 0.0047949\ttotal: 8.07s\tremaining: 38.1s\n",
      "175:\tlearn: 0.0047370\ttotal: 8.12s\tremaining: 38s\n",
      "176:\tlearn: 0.0047337\ttotal: 8.15s\tremaining: 37.9s\n",
      "177:\tlearn: 0.0046905\ttotal: 8.19s\tremaining: 37.8s\n",
      "178:\tlearn: 0.0046616\ttotal: 8.23s\tremaining: 37.8s\n",
      "179:\tlearn: 0.0046250\ttotal: 8.27s\tremaining: 37.7s\n",
      "180:\tlearn: 0.0045809\ttotal: 8.31s\tremaining: 37.6s\n",
      "181:\tlearn: 0.0045731\ttotal: 8.34s\tremaining: 37.5s\n",
      "182:\tlearn: 0.0045370\ttotal: 8.38s\tremaining: 37.4s\n",
      "183:\tlearn: 0.0044936\ttotal: 8.44s\tremaining: 37.4s\n",
      "184:\tlearn: 0.0044776\ttotal: 8.48s\tremaining: 37.3s\n",
      "185:\tlearn: 0.0044509\ttotal: 8.52s\tremaining: 37.3s\n",
      "186:\tlearn: 0.0044213\ttotal: 8.57s\tremaining: 37.3s\n",
      "187:\tlearn: 0.0043932\ttotal: 8.61s\tremaining: 37.2s\n",
      "188:\tlearn: 0.0043636\ttotal: 8.66s\tremaining: 37.2s\n",
      "189:\tlearn: 0.0043395\ttotal: 8.71s\tremaining: 37.1s\n",
      "190:\tlearn: 0.0043223\ttotal: 8.74s\tremaining: 37s\n",
      "191:\tlearn: 0.0042874\ttotal: 8.78s\tremaining: 37s\n",
      "192:\tlearn: 0.0042410\ttotal: 8.82s\tremaining: 36.9s\n",
      "193:\tlearn: 0.0042290\ttotal: 8.86s\tremaining: 36.8s\n",
      "194:\tlearn: 0.0042130\ttotal: 8.9s\tremaining: 36.7s\n",
      "195:\tlearn: 0.0041948\ttotal: 8.95s\tremaining: 36.7s\n",
      "196:\tlearn: 0.0041506\ttotal: 8.99s\tremaining: 36.7s\n",
      "197:\tlearn: 0.0041236\ttotal: 9.04s\tremaining: 36.6s\n",
      "198:\tlearn: 0.0041097\ttotal: 9.08s\tremaining: 36.6s\n",
      "199:\tlearn: 0.0040866\ttotal: 9.13s\tremaining: 36.5s\n",
      "200:\tlearn: 0.0040312\ttotal: 9.18s\tremaining: 36.5s\n",
      "201:\tlearn: 0.0040052\ttotal: 9.22s\tremaining: 36.4s\n",
      "202:\tlearn: 0.0039843\ttotal: 9.26s\tremaining: 36.3s\n",
      "203:\tlearn: 0.0039671\ttotal: 9.29s\tremaining: 36.3s\n",
      "204:\tlearn: 0.0039455\ttotal: 9.34s\tremaining: 36.2s\n",
      "205:\tlearn: 0.0039048\ttotal: 9.38s\tremaining: 36.1s\n",
      "206:\tlearn: 0.0038843\ttotal: 9.41s\tremaining: 36.1s\n",
      "207:\tlearn: 0.0038763\ttotal: 9.45s\tremaining: 36s\n",
      "208:\tlearn: 0.0038491\ttotal: 9.49s\tremaining: 35.9s\n",
      "209:\tlearn: 0.0038162\ttotal: 9.53s\tremaining: 35.9s\n",
      "210:\tlearn: 0.0037887\ttotal: 9.57s\tremaining: 35.8s\n",
      "211:\tlearn: 0.0037549\ttotal: 9.62s\tremaining: 35.7s\n",
      "212:\tlearn: 0.0037309\ttotal: 9.66s\tremaining: 35.7s\n",
      "213:\tlearn: 0.0037097\ttotal: 9.71s\tremaining: 35.7s\n",
      "214:\tlearn: 0.0036951\ttotal: 9.75s\tremaining: 35.6s\n",
      "215:\tlearn: 0.0036868\ttotal: 9.79s\tremaining: 35.5s\n",
      "216:\tlearn: 0.0036504\ttotal: 9.83s\tremaining: 35.5s\n",
      "217:\tlearn: 0.0035990\ttotal: 9.87s\tremaining: 35.4s\n",
      "218:\tlearn: 0.0035883\ttotal: 9.91s\tremaining: 35.3s\n",
      "219:\tlearn: 0.0035698\ttotal: 9.95s\tremaining: 35.3s\n",
      "220:\tlearn: 0.0035507\ttotal: 9.99s\tremaining: 35.2s\n",
      "221:\tlearn: 0.0035409\ttotal: 10s\tremaining: 35.2s\n",
      "222:\tlearn: 0.0035316\ttotal: 10.1s\tremaining: 35.1s\n",
      "223:\tlearn: 0.0035132\ttotal: 10.1s\tremaining: 35s\n",
      "224:\tlearn: 0.0034836\ttotal: 10.2s\tremaining: 35s\n",
      "225:\tlearn: 0.0034611\ttotal: 10.2s\tremaining: 34.9s\n",
      "226:\tlearn: 0.0034369\ttotal: 10.2s\tremaining: 34.8s\n",
      "227:\tlearn: 0.0033895\ttotal: 10.3s\tremaining: 34.8s\n",
      "228:\tlearn: 0.0033618\ttotal: 10.3s\tremaining: 34.7s\n",
      "229:\tlearn: 0.0033352\ttotal: 10.4s\tremaining: 34.7s\n",
      "230:\tlearn: 0.0033168\ttotal: 10.4s\tremaining: 34.6s\n",
      "231:\tlearn: 0.0032948\ttotal: 10.4s\tremaining: 34.6s\n",
      "232:\tlearn: 0.0032920\ttotal: 10.5s\tremaining: 34.5s\n",
      "233:\tlearn: 0.0032883\ttotal: 10.5s\tremaining: 34.4s\n",
      "234:\tlearn: 0.0032785\ttotal: 10.5s\tremaining: 34.3s\n",
      "235:\tlearn: 0.0032613\ttotal: 10.6s\tremaining: 34.3s\n",
      "236:\tlearn: 0.0032273\ttotal: 10.6s\tremaining: 34.2s\n",
      "237:\tlearn: 0.0032125\ttotal: 10.7s\tremaining: 34.1s\n",
      "238:\tlearn: 0.0031925\ttotal: 10.7s\tremaining: 34.1s\n",
      "239:\tlearn: 0.0031816\ttotal: 10.7s\tremaining: 34s\n",
      "240:\tlearn: 0.0031689\ttotal: 10.8s\tremaining: 33.9s\n",
      "241:\tlearn: 0.0031600\ttotal: 10.8s\tremaining: 33.9s\n",
      "242:\tlearn: 0.0031305\ttotal: 10.9s\tremaining: 33.8s\n",
      "243:\tlearn: 0.0031033\ttotal: 10.9s\tremaining: 33.8s\n",
      "244:\tlearn: 0.0030902\ttotal: 10.9s\tremaining: 33.7s\n",
      "245:\tlearn: 0.0030719\ttotal: 11s\tremaining: 33.7s\n",
      "246:\tlearn: 0.0030573\ttotal: 11s\tremaining: 33.6s\n",
      "247:\tlearn: 0.0030433\ttotal: 11.1s\tremaining: 33.6s\n",
      "248:\tlearn: 0.0030228\ttotal: 11.1s\tremaining: 33.5s\n",
      "249:\tlearn: 0.0030108\ttotal: 11.1s\tremaining: 33.4s\n",
      "250:\tlearn: 0.0029862\ttotal: 11.2s\tremaining: 33.4s\n",
      "251:\tlearn: 0.0029541\ttotal: 11.2s\tremaining: 33.4s\n",
      "252:\tlearn: 0.0029505\ttotal: 11.3s\tremaining: 33.3s\n",
      "253:\tlearn: 0.0029430\ttotal: 11.3s\tremaining: 33.2s\n",
      "254:\tlearn: 0.0029315\ttotal: 11.3s\tremaining: 33.1s\n",
      "255:\tlearn: 0.0029124\ttotal: 11.4s\tremaining: 33.1s\n",
      "256:\tlearn: 0.0029030\ttotal: 11.4s\tremaining: 33s\n",
      "257:\tlearn: 0.0028950\ttotal: 11.5s\tremaining: 33s\n",
      "258:\tlearn: 0.0028883\ttotal: 11.5s\tremaining: 32.9s\n",
      "259:\tlearn: 0.0028732\ttotal: 11.5s\tremaining: 32.9s\n",
      "260:\tlearn: 0.0028632\ttotal: 11.6s\tremaining: 32.8s\n",
      "261:\tlearn: 0.0028602\ttotal: 11.6s\tremaining: 32.7s\n",
      "262:\tlearn: 0.0028443\ttotal: 11.7s\tremaining: 32.7s\n",
      "263:\tlearn: 0.0028274\ttotal: 11.7s\tremaining: 32.6s\n",
      "264:\tlearn: 0.0028140\ttotal: 11.7s\tremaining: 32.6s\n",
      "265:\tlearn: 0.0028109\ttotal: 11.8s\tremaining: 32.5s\n",
      "266:\tlearn: 0.0027837\ttotal: 11.8s\tremaining: 32.5s\n",
      "267:\tlearn: 0.0027624\ttotal: 11.9s\tremaining: 32.4s\n",
      "268:\tlearn: 0.0027494\ttotal: 11.9s\tremaining: 32.3s\n",
      "269:\tlearn: 0.0027350\ttotal: 11.9s\tremaining: 32.3s\n",
      "270:\tlearn: 0.0027229\ttotal: 12s\tremaining: 32.2s\n",
      "271:\tlearn: 0.0027120\ttotal: 12s\tremaining: 32.2s\n",
      "272:\tlearn: 0.0027005\ttotal: 12.1s\tremaining: 32.1s\n",
      "273:\tlearn: 0.0026884\ttotal: 12.1s\tremaining: 32.1s\n",
      "274:\tlearn: 0.0026784\ttotal: 12.1s\tremaining: 32s\n",
      "275:\tlearn: 0.0026614\ttotal: 12.2s\tremaining: 32s\n",
      "276:\tlearn: 0.0026458\ttotal: 12.2s\tremaining: 31.9s\n",
      "277:\tlearn: 0.0026403\ttotal: 12.3s\tremaining: 31.9s\n",
      "278:\tlearn: 0.0026345\ttotal: 12.3s\tremaining: 31.8s\n",
      "279:\tlearn: 0.0026015\ttotal: 12.3s\tremaining: 31.7s\n",
      "280:\tlearn: 0.0025892\ttotal: 12.4s\tremaining: 31.7s\n",
      "281:\tlearn: 0.0025785\ttotal: 12.5s\tremaining: 31.7s\n",
      "282:\tlearn: 0.0025765\ttotal: 12.5s\tremaining: 31.7s\n",
      "283:\tlearn: 0.0025749\ttotal: 12.5s\tremaining: 31.6s\n",
      "284:\tlearn: 0.0025697\ttotal: 12.6s\tremaining: 31.5s\n",
      "285:\tlearn: 0.0025634\ttotal: 12.6s\tremaining: 31.5s\n",
      "286:\tlearn: 0.0025559\ttotal: 12.7s\tremaining: 31.5s\n",
      "287:\tlearn: 0.0025508\ttotal: 12.7s\tremaining: 31.4s\n",
      "288:\tlearn: 0.0025352\ttotal: 12.8s\tremaining: 31.4s\n",
      "289:\tlearn: 0.0025128\ttotal: 12.8s\tremaining: 31.4s\n",
      "290:\tlearn: 0.0025101\ttotal: 12.8s\tremaining: 31.3s\n",
      "291:\tlearn: 0.0025024\ttotal: 12.9s\tremaining: 31.2s\n",
      "292:\tlearn: 0.0024993\ttotal: 12.9s\tremaining: 31.2s\n",
      "293:\tlearn: 0.0024904\ttotal: 13s\tremaining: 31.1s\n",
      "294:\tlearn: 0.0024778\ttotal: 13s\tremaining: 31.1s\n",
      "295:\tlearn: 0.0024721\ttotal: 13.1s\tremaining: 31.1s\n",
      "296:\tlearn: 0.0024641\ttotal: 13.1s\tremaining: 31s\n",
      "297:\tlearn: 0.0024571\ttotal: 13.1s\tremaining: 30.9s\n",
      "298:\tlearn: 0.0024473\ttotal: 13.2s\tremaining: 30.9s\n",
      "299:\tlearn: 0.0024396\ttotal: 13.2s\tremaining: 30.8s\n",
      "300:\tlearn: 0.0024336\ttotal: 13.3s\tremaining: 30.8s\n",
      "301:\tlearn: 0.0024244\ttotal: 13.3s\tremaining: 30.7s\n",
      "302:\tlearn: 0.0024170\ttotal: 13.3s\tremaining: 30.7s\n",
      "303:\tlearn: 0.0024113\ttotal: 13.4s\tremaining: 30.6s\n",
      "304:\tlearn: 0.0023884\ttotal: 13.4s\tremaining: 30.6s\n",
      "305:\tlearn: 0.0023873\ttotal: 13.5s\tremaining: 30.5s\n",
      "306:\tlearn: 0.0023836\ttotal: 13.5s\tremaining: 30.4s\n",
      "307:\tlearn: 0.0023778\ttotal: 13.5s\tremaining: 30.4s\n",
      "308:\tlearn: 0.0023748\ttotal: 13.6s\tremaining: 30.4s\n",
      "309:\tlearn: 0.0023679\ttotal: 13.6s\tremaining: 30.3s\n",
      "310:\tlearn: 0.0023543\ttotal: 13.6s\tremaining: 30.2s\n",
      "311:\tlearn: 0.0023472\ttotal: 13.7s\tremaining: 30.2s\n",
      "312:\tlearn: 0.0023398\ttotal: 13.7s\tremaining: 30.1s\n",
      "313:\tlearn: 0.0023252\ttotal: 13.8s\tremaining: 30.1s\n",
      "314:\tlearn: 0.0023198\ttotal: 13.8s\tremaining: 30s\n",
      "315:\tlearn: 0.0023137\ttotal: 13.8s\tremaining: 30s\n",
      "316:\tlearn: 0.0023008\ttotal: 13.9s\tremaining: 29.9s\n",
      "317:\tlearn: 0.0022854\ttotal: 13.9s\tremaining: 29.9s\n",
      "318:\tlearn: 0.0022834\ttotal: 14s\tremaining: 29.8s\n",
      "319:\tlearn: 0.0022776\ttotal: 14s\tremaining: 29.7s\n",
      "320:\tlearn: 0.0022711\ttotal: 14s\tremaining: 29.7s\n",
      "321:\tlearn: 0.0022630\ttotal: 14.1s\tremaining: 29.6s\n",
      "322:\tlearn: 0.0022576\ttotal: 14.1s\tremaining: 29.6s\n",
      "323:\tlearn: 0.0022466\ttotal: 14.2s\tremaining: 29.5s\n"
     ]
    },
    {
     "name": "stdout",
     "output_type": "stream",
     "text": [
      "324:\tlearn: 0.0022407\ttotal: 14.2s\tremaining: 29.5s\n",
      "325:\tlearn: 0.0022374\ttotal: 14.2s\tremaining: 29.5s\n",
      "326:\tlearn: 0.0022335\ttotal: 14.3s\tremaining: 29.4s\n",
      "327:\tlearn: 0.0022292\ttotal: 14.3s\tremaining: 29.3s\n",
      "328:\tlearn: 0.0022090\ttotal: 14.4s\tremaining: 29.3s\n",
      "329:\tlearn: 0.0021982\ttotal: 14.4s\tremaining: 29.2s\n",
      "330:\tlearn: 0.0021962\ttotal: 14.4s\tremaining: 29.2s\n",
      "331:\tlearn: 0.0021826\ttotal: 14.5s\tremaining: 29.1s\n",
      "332:\tlearn: 0.0021769\ttotal: 14.5s\tremaining: 29.1s\n",
      "333:\tlearn: 0.0021679\ttotal: 14.5s\tremaining: 29s\n",
      "334:\tlearn: 0.0021513\ttotal: 14.6s\tremaining: 29s\n",
      "335:\tlearn: 0.0021498\ttotal: 14.6s\tremaining: 28.9s\n",
      "336:\tlearn: 0.0021399\ttotal: 14.7s\tremaining: 28.9s\n",
      "337:\tlearn: 0.0021282\ttotal: 14.7s\tremaining: 28.8s\n",
      "338:\tlearn: 0.0021243\ttotal: 14.7s\tremaining: 28.7s\n",
      "339:\tlearn: 0.0021179\ttotal: 14.8s\tremaining: 28.7s\n",
      "340:\tlearn: 0.0021150\ttotal: 14.8s\tremaining: 28.6s\n",
      "341:\tlearn: 0.0021106\ttotal: 14.9s\tremaining: 28.6s\n",
      "342:\tlearn: 0.0021006\ttotal: 14.9s\tremaining: 28.5s\n",
      "343:\tlearn: 0.0020925\ttotal: 14.9s\tremaining: 28.5s\n",
      "344:\tlearn: 0.0020841\ttotal: 15s\tremaining: 28.5s\n",
      "345:\tlearn: 0.0020807\ttotal: 15s\tremaining: 28.4s\n",
      "346:\tlearn: 0.0020778\ttotal: 15.1s\tremaining: 28.4s\n",
      "347:\tlearn: 0.0020667\ttotal: 15.1s\tremaining: 28.3s\n",
      "348:\tlearn: 0.0020656\ttotal: 15.2s\tremaining: 28.3s\n",
      "349:\tlearn: 0.0020615\ttotal: 15.2s\tremaining: 28.2s\n",
      "350:\tlearn: 0.0020585\ttotal: 15.2s\tremaining: 28.2s\n",
      "351:\tlearn: 0.0020462\ttotal: 15.3s\tremaining: 28.1s\n",
      "352:\tlearn: 0.0020385\ttotal: 15.3s\tremaining: 28.1s\n",
      "353:\tlearn: 0.0020241\ttotal: 15.4s\tremaining: 28s\n",
      "354:\tlearn: 0.0020195\ttotal: 15.4s\tremaining: 28s\n",
      "355:\tlearn: 0.0020110\ttotal: 15.4s\tremaining: 27.9s\n",
      "356:\tlearn: 0.0020089\ttotal: 15.5s\tremaining: 27.9s\n",
      "357:\tlearn: 0.0019970\ttotal: 15.5s\tremaining: 27.8s\n",
      "358:\tlearn: 0.0019907\ttotal: 15.6s\tremaining: 27.8s\n",
      "359:\tlearn: 0.0019847\ttotal: 15.6s\tremaining: 27.7s\n",
      "360:\tlearn: 0.0019809\ttotal: 15.6s\tremaining: 27.7s\n",
      "361:\tlearn: 0.0019726\ttotal: 15.7s\tremaining: 27.6s\n",
      "362:\tlearn: 0.0019692\ttotal: 15.7s\tremaining: 27.6s\n",
      "363:\tlearn: 0.0019669\ttotal: 15.7s\tremaining: 27.5s\n",
      "364:\tlearn: 0.0019624\ttotal: 15.8s\tremaining: 27.4s\n",
      "365:\tlearn: 0.0019584\ttotal: 15.8s\tremaining: 27.4s\n",
      "366:\tlearn: 0.0019489\ttotal: 15.9s\tremaining: 27.4s\n",
      "367:\tlearn: 0.0019362\ttotal: 15.9s\tremaining: 27.3s\n",
      "368:\tlearn: 0.0019304\ttotal: 15.9s\tremaining: 27.3s\n",
      "369:\tlearn: 0.0019283\ttotal: 16s\tremaining: 27.2s\n",
      "370:\tlearn: 0.0019247\ttotal: 16s\tremaining: 27.1s\n",
      "371:\tlearn: 0.0019219\ttotal: 16.1s\tremaining: 27.1s\n",
      "372:\tlearn: 0.0019167\ttotal: 16.1s\tremaining: 27s\n",
      "373:\tlearn: 0.0018968\ttotal: 16.1s\tremaining: 27s\n",
      "374:\tlearn: 0.0018836\ttotal: 16.2s\tremaining: 27s\n",
      "375:\tlearn: 0.0018749\ttotal: 16.2s\tremaining: 26.9s\n",
      "376:\tlearn: 0.0018633\ttotal: 16.3s\tremaining: 26.9s\n",
      "377:\tlearn: 0.0018547\ttotal: 16.3s\tremaining: 26.8s\n",
      "378:\tlearn: 0.0018351\ttotal: 16.3s\tremaining: 26.8s\n",
      "379:\tlearn: 0.0018313\ttotal: 16.4s\tremaining: 26.7s\n",
      "380:\tlearn: 0.0018193\ttotal: 16.4s\tremaining: 26.7s\n",
      "381:\tlearn: 0.0018169\ttotal: 16.5s\tremaining: 26.6s\n",
      "382:\tlearn: 0.0018082\ttotal: 16.5s\tremaining: 26.6s\n",
      "383:\tlearn: 0.0018034\ttotal: 16.6s\tremaining: 26.6s\n",
      "384:\tlearn: 0.0017948\ttotal: 16.6s\tremaining: 26.5s\n",
      "385:\tlearn: 0.0017871\ttotal: 16.6s\tremaining: 26.5s\n",
      "386:\tlearn: 0.0017812\ttotal: 16.7s\tremaining: 26.4s\n",
      "387:\tlearn: 0.0017769\ttotal: 16.7s\tremaining: 26.4s\n",
      "388:\tlearn: 0.0017678\ttotal: 16.8s\tremaining: 26.3s\n",
      "389:\tlearn: 0.0017644\ttotal: 16.8s\tremaining: 26.3s\n",
      "390:\tlearn: 0.0017585\ttotal: 16.9s\tremaining: 26.2s\n",
      "391:\tlearn: 0.0017535\ttotal: 16.9s\tremaining: 26.2s\n",
      "392:\tlearn: 0.0017457\ttotal: 16.9s\tremaining: 26.1s\n",
      "393:\tlearn: 0.0017448\ttotal: 17s\tremaining: 26.1s\n",
      "394:\tlearn: 0.0017383\ttotal: 17s\tremaining: 26s\n",
      "395:\tlearn: 0.0017333\ttotal: 17s\tremaining: 26s\n",
      "396:\tlearn: 0.0017265\ttotal: 17.1s\tremaining: 25.9s\n",
      "397:\tlearn: 0.0017188\ttotal: 17.1s\tremaining: 25.9s\n",
      "398:\tlearn: 0.0017127\ttotal: 17.2s\tremaining: 25.8s\n",
      "399:\tlearn: 0.0017093\ttotal: 17.2s\tremaining: 25.8s\n",
      "400:\tlearn: 0.0017061\ttotal: 17.2s\tremaining: 25.7s\n",
      "401:\tlearn: 0.0017010\ttotal: 17.3s\tremaining: 25.7s\n",
      "402:\tlearn: 0.0016989\ttotal: 17.3s\tremaining: 25.6s\n",
      "403:\tlearn: 0.0016964\ttotal: 17.3s\tremaining: 25.6s\n",
      "404:\tlearn: 0.0016929\ttotal: 17.4s\tremaining: 25.5s\n",
      "405:\tlearn: 0.0016892\ttotal: 17.4s\tremaining: 25.5s\n",
      "406:\tlearn: 0.0016823\ttotal: 17.5s\tremaining: 25.4s\n",
      "407:\tlearn: 0.0016772\ttotal: 17.5s\tremaining: 25.4s\n",
      "408:\tlearn: 0.0016680\ttotal: 17.5s\tremaining: 25.3s\n",
      "409:\tlearn: 0.0016663\ttotal: 17.6s\tremaining: 25.3s\n",
      "410:\tlearn: 0.0016641\ttotal: 17.6s\tremaining: 25.2s\n",
      "411:\tlearn: 0.0016597\ttotal: 17.7s\tremaining: 25.2s\n",
      "412:\tlearn: 0.0016565\ttotal: 17.7s\tremaining: 25.1s\n",
      "413:\tlearn: 0.0016515\ttotal: 17.7s\tremaining: 25.1s\n",
      "414:\tlearn: 0.0016470\ttotal: 17.8s\tremaining: 25.1s\n",
      "415:\tlearn: 0.0016382\ttotal: 17.8s\tremaining: 25s\n",
      "416:\tlearn: 0.0016331\ttotal: 17.9s\tremaining: 25s\n",
      "417:\tlearn: 0.0016310\ttotal: 17.9s\tremaining: 24.9s\n",
      "418:\tlearn: 0.0016283\ttotal: 17.9s\tremaining: 24.9s\n",
      "419:\tlearn: 0.0016255\ttotal: 18s\tremaining: 24.8s\n",
      "420:\tlearn: 0.0016173\ttotal: 18s\tremaining: 24.8s\n",
      "421:\tlearn: 0.0016114\ttotal: 18s\tremaining: 24.7s\n",
      "422:\tlearn: 0.0016027\ttotal: 18.1s\tremaining: 24.7s\n",
      "423:\tlearn: 0.0015950\ttotal: 18.1s\tremaining: 24.6s\n",
      "424:\tlearn: 0.0015911\ttotal: 18.2s\tremaining: 24.6s\n",
      "425:\tlearn: 0.0015851\ttotal: 18.2s\tremaining: 24.5s\n",
      "426:\tlearn: 0.0015834\ttotal: 18.2s\tremaining: 24.5s\n",
      "427:\tlearn: 0.0015795\ttotal: 18.3s\tremaining: 24.4s\n",
      "428:\tlearn: 0.0015675\ttotal: 18.3s\tremaining: 24.4s\n",
      "429:\tlearn: 0.0015607\ttotal: 18.4s\tremaining: 24.4s\n",
      "430:\tlearn: 0.0015494\ttotal: 18.4s\tremaining: 24.3s\n",
      "431:\tlearn: 0.0015450\ttotal: 18.5s\tremaining: 24.3s\n",
      "432:\tlearn: 0.0015413\ttotal: 18.5s\tremaining: 24.3s\n",
      "433:\tlearn: 0.0015390\ttotal: 18.6s\tremaining: 24.2s\n",
      "434:\tlearn: 0.0015342\ttotal: 18.6s\tremaining: 24.2s\n",
      "435:\tlearn: 0.0015314\ttotal: 18.7s\tremaining: 24.1s\n",
      "436:\tlearn: 0.0015299\ttotal: 18.7s\tremaining: 24.1s\n",
      "437:\tlearn: 0.0015256\ttotal: 18.7s\tremaining: 24s\n",
      "438:\tlearn: 0.0015235\ttotal: 18.8s\tremaining: 24s\n",
      "439:\tlearn: 0.0015195\ttotal: 18.8s\tremaining: 24s\n",
      "440:\tlearn: 0.0015151\ttotal: 18.9s\tremaining: 23.9s\n",
      "441:\tlearn: 0.0015106\ttotal: 18.9s\tremaining: 23.9s\n",
      "442:\tlearn: 0.0015077\ttotal: 19s\tremaining: 23.8s\n",
      "443:\tlearn: 0.0015018\ttotal: 19s\tremaining: 23.8s\n",
      "444:\tlearn: 0.0014981\ttotal: 19.1s\tremaining: 23.8s\n",
      "445:\tlearn: 0.0014978\ttotal: 19.1s\tremaining: 23.7s\n",
      "446:\tlearn: 0.0014942\ttotal: 19.2s\tremaining: 23.7s\n",
      "447:\tlearn: 0.0014875\ttotal: 19.2s\tremaining: 23.7s\n",
      "448:\tlearn: 0.0014804\ttotal: 19.3s\tremaining: 23.6s\n",
      "449:\tlearn: 0.0014690\ttotal: 19.3s\tremaining: 23.6s\n",
      "450:\tlearn: 0.0014674\ttotal: 19.3s\tremaining: 23.6s\n",
      "451:\tlearn: 0.0014640\ttotal: 19.4s\tremaining: 23.5s\n",
      "452:\tlearn: 0.0014634\ttotal: 19.4s\tremaining: 23.4s\n",
      "453:\tlearn: 0.0014580\ttotal: 19.5s\tremaining: 23.4s\n",
      "454:\tlearn: 0.0014509\ttotal: 19.5s\tremaining: 23.4s\n",
      "455:\tlearn: 0.0014486\ttotal: 19.5s\tremaining: 23.3s\n",
      "456:\tlearn: 0.0014432\ttotal: 19.6s\tremaining: 23.3s\n",
      "457:\tlearn: 0.0014388\ttotal: 19.6s\tremaining: 23.2s\n",
      "458:\tlearn: 0.0014349\ttotal: 19.7s\tremaining: 23.2s\n",
      "459:\tlearn: 0.0014311\ttotal: 19.7s\tremaining: 23.1s\n",
      "460:\tlearn: 0.0014278\ttotal: 19.7s\tremaining: 23.1s\n",
      "461:\tlearn: 0.0014257\ttotal: 19.8s\tremaining: 23s\n",
      "462:\tlearn: 0.0014226\ttotal: 19.8s\tremaining: 23s\n",
      "463:\tlearn: 0.0014197\ttotal: 19.9s\tremaining: 22.9s\n",
      "464:\tlearn: 0.0014155\ttotal: 19.9s\tremaining: 22.9s\n",
      "465:\tlearn: 0.0014114\ttotal: 19.9s\tremaining: 22.9s\n",
      "466:\tlearn: 0.0014108\ttotal: 20s\tremaining: 22.8s\n",
      "467:\tlearn: 0.0014096\ttotal: 20s\tremaining: 22.8s\n",
      "468:\tlearn: 0.0014049\ttotal: 20.1s\tremaining: 22.7s\n",
      "469:\tlearn: 0.0014024\ttotal: 20.1s\tremaining: 22.7s\n",
      "470:\tlearn: 0.0013994\ttotal: 20.1s\tremaining: 22.6s\n",
      "471:\tlearn: 0.0013906\ttotal: 20.2s\tremaining: 22.6s\n",
      "472:\tlearn: 0.0013890\ttotal: 20.2s\tremaining: 22.5s\n",
      "473:\tlearn: 0.0013884\ttotal: 20.2s\tremaining: 22.5s\n",
      "474:\tlearn: 0.0013836\ttotal: 20.3s\tremaining: 22.4s\n",
      "475:\tlearn: 0.0013816\ttotal: 20.3s\tremaining: 22.4s\n",
      "476:\tlearn: 0.0013759\ttotal: 20.4s\tremaining: 22.3s\n",
      "477:\tlearn: 0.0013728\ttotal: 20.4s\tremaining: 22.3s\n",
      "478:\tlearn: 0.0013716\ttotal: 20.5s\tremaining: 22.3s\n",
      "479:\tlearn: 0.0013659\ttotal: 20.5s\tremaining: 22.2s\n",
      "480:\tlearn: 0.0013586\ttotal: 20.6s\tremaining: 22.2s\n",
      "481:\tlearn: 0.0013556\ttotal: 20.6s\tremaining: 22.2s\n",
      "482:\tlearn: 0.0013527\ttotal: 20.7s\tremaining: 22.1s\n",
      "483:\tlearn: 0.0013462\ttotal: 20.7s\tremaining: 22.1s\n",
      "484:\tlearn: 0.0013421\ttotal: 20.7s\tremaining: 22s\n",
      "485:\tlearn: 0.0013393\ttotal: 20.8s\tremaining: 22s\n"
     ]
    },
    {
     "name": "stdout",
     "output_type": "stream",
     "text": [
      "486:\tlearn: 0.0013364\ttotal: 20.8s\tremaining: 21.9s\n",
      "487:\tlearn: 0.0013340\ttotal: 20.9s\tremaining: 21.9s\n",
      "488:\tlearn: 0.0013292\ttotal: 20.9s\tremaining: 21.9s\n",
      "489:\tlearn: 0.0013242\ttotal: 21s\tremaining: 21.8s\n",
      "490:\tlearn: 0.0013166\ttotal: 21s\tremaining: 21.8s\n",
      "491:\tlearn: 0.0013135\ttotal: 21s\tremaining: 21.7s\n",
      "492:\tlearn: 0.0013112\ttotal: 21.1s\tremaining: 21.7s\n",
      "493:\tlearn: 0.0013091\ttotal: 21.1s\tremaining: 21.6s\n",
      "494:\tlearn: 0.0012996\ttotal: 21.2s\tremaining: 21.6s\n",
      "495:\tlearn: 0.0012945\ttotal: 21.2s\tremaining: 21.6s\n",
      "496:\tlearn: 0.0012915\ttotal: 21.3s\tremaining: 21.5s\n",
      "497:\tlearn: 0.0012874\ttotal: 21.3s\tremaining: 21.5s\n",
      "498:\tlearn: 0.0012813\ttotal: 21.4s\tremaining: 21.4s\n",
      "499:\tlearn: 0.0012788\ttotal: 21.4s\tremaining: 21.4s\n",
      "500:\tlearn: 0.0012743\ttotal: 21.4s\tremaining: 21.4s\n",
      "501:\tlearn: 0.0012695\ttotal: 21.5s\tremaining: 21.3s\n",
      "502:\tlearn: 0.0012661\ttotal: 21.5s\tremaining: 21.3s\n",
      "503:\tlearn: 0.0012607\ttotal: 21.6s\tremaining: 21.2s\n",
      "504:\tlearn: 0.0012576\ttotal: 21.6s\tremaining: 21.2s\n",
      "505:\tlearn: 0.0012548\ttotal: 21.7s\tremaining: 21.2s\n",
      "506:\tlearn: 0.0012537\ttotal: 21.7s\tremaining: 21.1s\n",
      "507:\tlearn: 0.0012515\ttotal: 21.8s\tremaining: 21.1s\n",
      "508:\tlearn: 0.0012487\ttotal: 21.8s\tremaining: 21s\n",
      "509:\tlearn: 0.0012419\ttotal: 21.9s\tremaining: 21s\n",
      "510:\tlearn: 0.0012403\ttotal: 21.9s\tremaining: 21s\n",
      "511:\tlearn: 0.0012388\ttotal: 21.9s\tremaining: 20.9s\n",
      "512:\tlearn: 0.0012357\ttotal: 22s\tremaining: 20.9s\n",
      "513:\tlearn: 0.0012326\ttotal: 22s\tremaining: 20.8s\n",
      "514:\tlearn: 0.0012290\ttotal: 22.1s\tremaining: 20.8s\n",
      "515:\tlearn: 0.0012271\ttotal: 22.1s\tremaining: 20.7s\n",
      "516:\tlearn: 0.0012241\ttotal: 22.1s\tremaining: 20.7s\n",
      "517:\tlearn: 0.0012234\ttotal: 22.2s\tremaining: 20.6s\n",
      "518:\tlearn: 0.0012186\ttotal: 22.2s\tremaining: 20.6s\n",
      "519:\tlearn: 0.0012175\ttotal: 22.3s\tremaining: 20.5s\n",
      "520:\tlearn: 0.0012150\ttotal: 22.3s\tremaining: 20.5s\n",
      "521:\tlearn: 0.0012138\ttotal: 22.3s\tremaining: 20.4s\n",
      "522:\tlearn: 0.0012099\ttotal: 22.4s\tremaining: 20.4s\n",
      "523:\tlearn: 0.0012092\ttotal: 22.4s\tremaining: 20.4s\n",
      "524:\tlearn: 0.0012026\ttotal: 22.5s\tremaining: 20.3s\n",
      "525:\tlearn: 0.0011979\ttotal: 22.5s\tremaining: 20.3s\n",
      "526:\tlearn: 0.0011950\ttotal: 22.5s\tremaining: 20.2s\n",
      "527:\tlearn: 0.0011939\ttotal: 22.6s\tremaining: 20.2s\n",
      "528:\tlearn: 0.0011903\ttotal: 22.6s\tremaining: 20.1s\n",
      "529:\tlearn: 0.0011858\ttotal: 22.7s\tremaining: 20.1s\n",
      "530:\tlearn: 0.0011834\ttotal: 22.7s\tremaining: 20.1s\n",
      "531:\tlearn: 0.0011815\ttotal: 22.8s\tremaining: 20s\n",
      "532:\tlearn: 0.0011782\ttotal: 22.8s\tremaining: 20s\n",
      "533:\tlearn: 0.0011743\ttotal: 22.9s\tremaining: 20s\n",
      "534:\tlearn: 0.0011726\ttotal: 22.9s\tremaining: 19.9s\n",
      "535:\tlearn: 0.0011701\ttotal: 23s\tremaining: 19.9s\n",
      "536:\tlearn: 0.0011632\ttotal: 23s\tremaining: 19.9s\n",
      "537:\tlearn: 0.0011540\ttotal: 23.1s\tremaining: 19.8s\n",
      "538:\tlearn: 0.0011519\ttotal: 23.2s\tremaining: 19.8s\n",
      "539:\tlearn: 0.0011506\ttotal: 23.2s\tremaining: 19.8s\n",
      "540:\tlearn: 0.0011477\ttotal: 23.3s\tremaining: 19.7s\n",
      "541:\tlearn: 0.0011471\ttotal: 23.3s\tremaining: 19.7s\n",
      "542:\tlearn: 0.0011415\ttotal: 23.3s\tremaining: 19.6s\n",
      "543:\tlearn: 0.0011361\ttotal: 23.4s\tremaining: 19.6s\n",
      "544:\tlearn: 0.0011330\ttotal: 23.4s\tremaining: 19.6s\n",
      "545:\tlearn: 0.0011311\ttotal: 23.5s\tremaining: 19.5s\n",
      "546:\tlearn: 0.0011250\ttotal: 23.5s\tremaining: 19.5s\n",
      "547:\tlearn: 0.0011202\ttotal: 23.6s\tremaining: 19.4s\n",
      "548:\tlearn: 0.0011190\ttotal: 23.6s\tremaining: 19.4s\n",
      "549:\tlearn: 0.0011104\ttotal: 23.6s\tremaining: 19.4s\n",
      "550:\tlearn: 0.0011076\ttotal: 23.7s\tremaining: 19.3s\n",
      "551:\tlearn: 0.0011048\ttotal: 23.7s\tremaining: 19.3s\n",
      "552:\tlearn: 0.0011035\ttotal: 23.8s\tremaining: 19.2s\n",
      "553:\tlearn: 0.0011012\ttotal: 23.8s\tremaining: 19.2s\n",
      "554:\tlearn: 0.0010987\ttotal: 23.8s\tremaining: 19.1s\n",
      "555:\tlearn: 0.0010946\ttotal: 23.9s\tremaining: 19.1s\n",
      "556:\tlearn: 0.0010918\ttotal: 23.9s\tremaining: 19s\n",
      "557:\tlearn: 0.0010901\ttotal: 24s\tremaining: 19s\n",
      "558:\tlearn: 0.0010848\ttotal: 24s\tremaining: 18.9s\n",
      "559:\tlearn: 0.0010813\ttotal: 24.1s\tremaining: 18.9s\n",
      "560:\tlearn: 0.0010770\ttotal: 24.1s\tremaining: 18.9s\n",
      "561:\tlearn: 0.0010757\ttotal: 24.1s\tremaining: 18.8s\n",
      "562:\tlearn: 0.0010737\ttotal: 24.2s\tremaining: 18.8s\n",
      "563:\tlearn: 0.0010714\ttotal: 24.2s\tremaining: 18.7s\n",
      "564:\tlearn: 0.0010652\ttotal: 24.3s\tremaining: 18.7s\n",
      "565:\tlearn: 0.0010628\ttotal: 24.3s\tremaining: 18.6s\n",
      "566:\tlearn: 0.0010577\ttotal: 24.4s\tremaining: 18.6s\n",
      "567:\tlearn: 0.0010571\ttotal: 24.4s\tremaining: 18.6s\n",
      "568:\tlearn: 0.0010504\ttotal: 24.4s\tremaining: 18.5s\n",
      "569:\tlearn: 0.0010495\ttotal: 24.5s\tremaining: 18.5s\n",
      "570:\tlearn: 0.0010464\ttotal: 24.5s\tremaining: 18.4s\n",
      "571:\tlearn: 0.0010417\ttotal: 24.6s\tremaining: 18.4s\n",
      "572:\tlearn: 0.0010378\ttotal: 24.6s\tremaining: 18.3s\n",
      "573:\tlearn: 0.0010331\ttotal: 24.6s\tremaining: 18.3s\n",
      "574:\tlearn: 0.0010313\ttotal: 24.7s\tremaining: 18.2s\n",
      "575:\tlearn: 0.0010283\ttotal: 24.7s\tremaining: 18.2s\n",
      "576:\tlearn: 0.0010266\ttotal: 24.8s\tremaining: 18.1s\n",
      "577:\tlearn: 0.0010226\ttotal: 24.8s\tremaining: 18.1s\n",
      "578:\tlearn: 0.0010212\ttotal: 24.8s\tremaining: 18.1s\n",
      "579:\tlearn: 0.0010178\ttotal: 24.9s\tremaining: 18s\n",
      "580:\tlearn: 0.0010154\ttotal: 24.9s\tremaining: 18s\n",
      "581:\tlearn: 0.0010133\ttotal: 25s\tremaining: 17.9s\n",
      "582:\tlearn: 0.0010124\ttotal: 25s\tremaining: 17.9s\n",
      "583:\tlearn: 0.0010103\ttotal: 25s\tremaining: 17.8s\n",
      "584:\tlearn: 0.0010027\ttotal: 25.1s\tremaining: 17.8s\n",
      "585:\tlearn: 0.0009990\ttotal: 25.1s\tremaining: 17.7s\n",
      "586:\tlearn: 0.0009947\ttotal: 25.2s\tremaining: 17.7s\n",
      "587:\tlearn: 0.0009941\ttotal: 25.2s\tremaining: 17.6s\n",
      "588:\tlearn: 0.0009922\ttotal: 25.2s\tremaining: 17.6s\n",
      "589:\tlearn: 0.0009899\ttotal: 25.3s\tremaining: 17.6s\n",
      "590:\tlearn: 0.0009884\ttotal: 25.3s\tremaining: 17.5s\n",
      "591:\tlearn: 0.0009857\ttotal: 25.3s\tremaining: 17.5s\n",
      "592:\tlearn: 0.0009844\ttotal: 25.4s\tremaining: 17.4s\n",
      "593:\tlearn: 0.0009834\ttotal: 25.4s\tremaining: 17.4s\n",
      "594:\tlearn: 0.0009831\ttotal: 25.5s\tremaining: 17.3s\n",
      "595:\tlearn: 0.0009797\ttotal: 25.5s\tremaining: 17.3s\n",
      "596:\tlearn: 0.0009783\ttotal: 25.5s\tremaining: 17.2s\n",
      "597:\tlearn: 0.0009771\ttotal: 25.6s\tremaining: 17.2s\n",
      "598:\tlearn: 0.0009749\ttotal: 25.6s\tremaining: 17.2s\n",
      "599:\tlearn: 0.0009736\ttotal: 25.7s\tremaining: 17.1s\n",
      "600:\tlearn: 0.0009724\ttotal: 25.7s\tremaining: 17.1s\n",
      "601:\tlearn: 0.0009705\ttotal: 25.7s\tremaining: 17s\n",
      "602:\tlearn: 0.0009680\ttotal: 25.8s\tremaining: 17s\n",
      "603:\tlearn: 0.0009622\ttotal: 25.8s\tremaining: 16.9s\n",
      "604:\tlearn: 0.0009586\ttotal: 25.9s\tremaining: 16.9s\n",
      "605:\tlearn: 0.0009573\ttotal: 25.9s\tremaining: 16.8s\n",
      "606:\tlearn: 0.0009550\ttotal: 25.9s\tremaining: 16.8s\n",
      "607:\tlearn: 0.0009529\ttotal: 26s\tremaining: 16.8s\n",
      "608:\tlearn: 0.0009515\ttotal: 26s\tremaining: 16.7s\n",
      "609:\tlearn: 0.0009490\ttotal: 26.1s\tremaining: 16.7s\n",
      "610:\tlearn: 0.0009481\ttotal: 26.1s\tremaining: 16.6s\n",
      "611:\tlearn: 0.0009462\ttotal: 26.1s\tremaining: 16.6s\n",
      "612:\tlearn: 0.0009444\ttotal: 26.2s\tremaining: 16.5s\n",
      "613:\tlearn: 0.0009380\ttotal: 26.2s\tremaining: 16.5s\n",
      "614:\tlearn: 0.0009365\ttotal: 26.3s\tremaining: 16.4s\n",
      "615:\tlearn: 0.0009338\ttotal: 26.3s\tremaining: 16.4s\n",
      "616:\tlearn: 0.0009318\ttotal: 26.3s\tremaining: 16.4s\n",
      "617:\tlearn: 0.0009306\ttotal: 26.4s\tremaining: 16.3s\n",
      "618:\tlearn: 0.0009284\ttotal: 26.4s\tremaining: 16.3s\n",
      "619:\tlearn: 0.0009278\ttotal: 26.5s\tremaining: 16.2s\n",
      "620:\tlearn: 0.0009256\ttotal: 26.5s\tremaining: 16.2s\n",
      "621:\tlearn: 0.0009230\ttotal: 26.5s\tremaining: 16.1s\n",
      "622:\tlearn: 0.0009215\ttotal: 26.6s\tremaining: 16.1s\n",
      "623:\tlearn: 0.0009197\ttotal: 26.6s\tremaining: 16s\n",
      "624:\tlearn: 0.0009174\ttotal: 26.6s\tremaining: 16s\n",
      "625:\tlearn: 0.0009148\ttotal: 26.7s\tremaining: 15.9s\n",
      "626:\tlearn: 0.0009133\ttotal: 26.7s\tremaining: 15.9s\n",
      "627:\tlearn: 0.0009105\ttotal: 26.8s\tremaining: 15.9s\n",
      "628:\tlearn: 0.0009083\ttotal: 26.8s\tremaining: 15.8s\n",
      "629:\tlearn: 0.0009042\ttotal: 26.9s\tremaining: 15.8s\n",
      "630:\tlearn: 0.0009023\ttotal: 26.9s\tremaining: 15.7s\n",
      "631:\tlearn: 0.0009003\ttotal: 26.9s\tremaining: 15.7s\n",
      "632:\tlearn: 0.0008965\ttotal: 27s\tremaining: 15.6s\n",
      "633:\tlearn: 0.0008930\ttotal: 27s\tremaining: 15.6s\n",
      "634:\tlearn: 0.0008905\ttotal: 27.1s\tremaining: 15.6s\n",
      "635:\tlearn: 0.0008882\ttotal: 27.1s\tremaining: 15.5s\n",
      "636:\tlearn: 0.0008864\ttotal: 27.1s\tremaining: 15.5s\n",
      "637:\tlearn: 0.0008861\ttotal: 27.2s\tremaining: 15.4s\n",
      "638:\tlearn: 0.0008834\ttotal: 27.2s\tremaining: 15.4s\n",
      "639:\tlearn: 0.0008809\ttotal: 27.3s\tremaining: 15.3s\n",
      "640:\tlearn: 0.0008792\ttotal: 27.3s\tremaining: 15.3s\n",
      "641:\tlearn: 0.0008777\ttotal: 27.4s\tremaining: 15.3s\n",
      "642:\tlearn: 0.0008765\ttotal: 27.4s\tremaining: 15.2s\n",
      "643:\tlearn: 0.0008725\ttotal: 27.4s\tremaining: 15.2s\n",
      "644:\tlearn: 0.0008692\ttotal: 27.5s\tremaining: 15.1s\n",
      "645:\tlearn: 0.0008671\ttotal: 27.5s\tremaining: 15.1s\n"
     ]
    },
    {
     "name": "stdout",
     "output_type": "stream",
     "text": [
      "646:\tlearn: 0.0008633\ttotal: 27.6s\tremaining: 15s\n",
      "647:\tlearn: 0.0008625\ttotal: 27.6s\tremaining: 15s\n",
      "648:\tlearn: 0.0008588\ttotal: 27.6s\tremaining: 14.9s\n",
      "649:\tlearn: 0.0008577\ttotal: 27.7s\tremaining: 14.9s\n",
      "650:\tlearn: 0.0008548\ttotal: 27.7s\tremaining: 14.9s\n",
      "651:\tlearn: 0.0008538\ttotal: 27.8s\tremaining: 14.8s\n",
      "652:\tlearn: 0.0008523\ttotal: 27.8s\tremaining: 14.8s\n",
      "653:\tlearn: 0.0008492\ttotal: 27.9s\tremaining: 14.7s\n",
      "654:\tlearn: 0.0008482\ttotal: 27.9s\tremaining: 14.7s\n",
      "655:\tlearn: 0.0008472\ttotal: 27.9s\tremaining: 14.7s\n",
      "656:\tlearn: 0.0008466\ttotal: 28s\tremaining: 14.6s\n",
      "657:\tlearn: 0.0008453\ttotal: 28s\tremaining: 14.6s\n",
      "658:\tlearn: 0.0008434\ttotal: 28.1s\tremaining: 14.5s\n",
      "659:\tlearn: 0.0008404\ttotal: 28.1s\tremaining: 14.5s\n",
      "660:\tlearn: 0.0008401\ttotal: 28.1s\tremaining: 14.4s\n",
      "661:\tlearn: 0.0008392\ttotal: 28.2s\tremaining: 14.4s\n",
      "662:\tlearn: 0.0008381\ttotal: 28.2s\tremaining: 14.3s\n",
      "663:\tlearn: 0.0008372\ttotal: 28.3s\tremaining: 14.3s\n",
      "664:\tlearn: 0.0008362\ttotal: 28.3s\tremaining: 14.3s\n",
      "665:\tlearn: 0.0008338\ttotal: 28.3s\tremaining: 14.2s\n",
      "666:\tlearn: 0.0008313\ttotal: 28.4s\tremaining: 14.2s\n",
      "667:\tlearn: 0.0008304\ttotal: 28.4s\tremaining: 14.1s\n",
      "668:\tlearn: 0.0008270\ttotal: 28.5s\tremaining: 14.1s\n",
      "669:\tlearn: 0.0008255\ttotal: 28.5s\tremaining: 14s\n",
      "670:\tlearn: 0.0008229\ttotal: 28.5s\tremaining: 14s\n",
      "671:\tlearn: 0.0008223\ttotal: 28.6s\tremaining: 14s\n",
      "672:\tlearn: 0.0008210\ttotal: 28.6s\tremaining: 13.9s\n",
      "673:\tlearn: 0.0008177\ttotal: 28.7s\tremaining: 13.9s\n",
      "674:\tlearn: 0.0008171\ttotal: 28.7s\tremaining: 13.8s\n",
      "675:\tlearn: 0.0008158\ttotal: 28.7s\tremaining: 13.8s\n",
      "676:\tlearn: 0.0008114\ttotal: 28.8s\tremaining: 13.7s\n",
      "677:\tlearn: 0.0008096\ttotal: 28.8s\tremaining: 13.7s\n",
      "678:\tlearn: 0.0008052\ttotal: 28.9s\tremaining: 13.6s\n",
      "679:\tlearn: 0.0008025\ttotal: 28.9s\tremaining: 13.6s\n",
      "680:\tlearn: 0.0008018\ttotal: 28.9s\tremaining: 13.6s\n",
      "681:\tlearn: 0.0008009\ttotal: 29s\tremaining: 13.5s\n",
      "682:\tlearn: 0.0008000\ttotal: 29s\tremaining: 13.5s\n",
      "683:\tlearn: 0.0007996\ttotal: 29.1s\tremaining: 13.4s\n",
      "684:\tlearn: 0.0007984\ttotal: 29.1s\tremaining: 13.4s\n",
      "685:\tlearn: 0.0007977\ttotal: 29.2s\tremaining: 13.4s\n",
      "686:\tlearn: 0.0007971\ttotal: 29.2s\tremaining: 13.3s\n",
      "687:\tlearn: 0.0007947\ttotal: 29.2s\tremaining: 13.3s\n",
      "688:\tlearn: 0.0007936\ttotal: 29.3s\tremaining: 13.2s\n",
      "689:\tlearn: 0.0007928\ttotal: 29.3s\tremaining: 13.2s\n",
      "690:\tlearn: 0.0007912\ttotal: 29.4s\tremaining: 13.1s\n",
      "691:\tlearn: 0.0007894\ttotal: 29.4s\tremaining: 13.1s\n",
      "692:\tlearn: 0.0007881\ttotal: 29.5s\tremaining: 13s\n",
      "693:\tlearn: 0.0007870\ttotal: 29.5s\tremaining: 13s\n",
      "694:\tlearn: 0.0007857\ttotal: 29.5s\tremaining: 13s\n",
      "695:\tlearn: 0.0007821\ttotal: 29.6s\tremaining: 12.9s\n",
      "696:\tlearn: 0.0007806\ttotal: 29.6s\tremaining: 12.9s\n",
      "697:\tlearn: 0.0007799\ttotal: 29.7s\tremaining: 12.8s\n",
      "698:\tlearn: 0.0007792\ttotal: 29.7s\tremaining: 12.8s\n",
      "699:\tlearn: 0.0007787\ttotal: 29.8s\tremaining: 12.8s\n",
      "700:\tlearn: 0.0007777\ttotal: 29.8s\tremaining: 12.7s\n",
      "701:\tlearn: 0.0007765\ttotal: 29.8s\tremaining: 12.7s\n",
      "702:\tlearn: 0.0007748\ttotal: 29.9s\tremaining: 12.6s\n",
      "703:\tlearn: 0.0007743\ttotal: 29.9s\tremaining: 12.6s\n",
      "704:\tlearn: 0.0007726\ttotal: 30s\tremaining: 12.5s\n",
      "705:\tlearn: 0.0007718\ttotal: 30s\tremaining: 12.5s\n",
      "706:\tlearn: 0.0007714\ttotal: 30s\tremaining: 12.5s\n",
      "707:\tlearn: 0.0007704\ttotal: 30.1s\tremaining: 12.4s\n",
      "708:\tlearn: 0.0007639\ttotal: 30.1s\tremaining: 12.4s\n",
      "709:\tlearn: 0.0007629\ttotal: 30.2s\tremaining: 12.3s\n",
      "710:\tlearn: 0.0007627\ttotal: 30.2s\tremaining: 12.3s\n",
      "711:\tlearn: 0.0007620\ttotal: 30.2s\tremaining: 12.2s\n",
      "712:\tlearn: 0.0007608\ttotal: 30.3s\tremaining: 12.2s\n",
      "713:\tlearn: 0.0007597\ttotal: 30.3s\tremaining: 12.1s\n",
      "714:\tlearn: 0.0007585\ttotal: 30.4s\tremaining: 12.1s\n",
      "715:\tlearn: 0.0007581\ttotal: 30.4s\tremaining: 12.1s\n",
      "716:\tlearn: 0.0007574\ttotal: 30.4s\tremaining: 12s\n",
      "717:\tlearn: 0.0007534\ttotal: 30.5s\tremaining: 12s\n",
      "718:\tlearn: 0.0007523\ttotal: 30.5s\tremaining: 11.9s\n",
      "719:\tlearn: 0.0007522\ttotal: 30.6s\tremaining: 11.9s\n",
      "720:\tlearn: 0.0007502\ttotal: 30.6s\tremaining: 11.8s\n",
      "721:\tlearn: 0.0007481\ttotal: 30.6s\tremaining: 11.8s\n",
      "722:\tlearn: 0.0007459\ttotal: 30.7s\tremaining: 11.8s\n",
      "723:\tlearn: 0.0007453\ttotal: 30.7s\tremaining: 11.7s\n",
      "724:\tlearn: 0.0007434\ttotal: 30.8s\tremaining: 11.7s\n",
      "725:\tlearn: 0.0007419\ttotal: 30.8s\tremaining: 11.6s\n",
      "726:\tlearn: 0.0007399\ttotal: 30.9s\tremaining: 11.6s\n",
      "727:\tlearn: 0.0007377\ttotal: 30.9s\tremaining: 11.5s\n",
      "728:\tlearn: 0.0007367\ttotal: 30.9s\tremaining: 11.5s\n",
      "729:\tlearn: 0.0007363\ttotal: 31s\tremaining: 11.5s\n",
      "730:\tlearn: 0.0007360\ttotal: 31s\tremaining: 11.4s\n",
      "731:\tlearn: 0.0007329\ttotal: 31.1s\tremaining: 11.4s\n",
      "732:\tlearn: 0.0007317\ttotal: 31.1s\tremaining: 11.3s\n",
      "733:\tlearn: 0.0007299\ttotal: 31.2s\tremaining: 11.3s\n",
      "734:\tlearn: 0.0007271\ttotal: 31.2s\tremaining: 11.2s\n",
      "735:\tlearn: 0.0007234\ttotal: 31.2s\tremaining: 11.2s\n",
      "736:\tlearn: 0.0007221\ttotal: 31.3s\tremaining: 11.2s\n",
      "737:\tlearn: 0.0007214\ttotal: 31.3s\tremaining: 11.1s\n",
      "738:\tlearn: 0.0007190\ttotal: 31.3s\tremaining: 11.1s\n",
      "739:\tlearn: 0.0007168\ttotal: 31.4s\tremaining: 11s\n",
      "740:\tlearn: 0.0007160\ttotal: 31.4s\tremaining: 11s\n",
      "741:\tlearn: 0.0007114\ttotal: 31.5s\tremaining: 10.9s\n",
      "742:\tlearn: 0.0007087\ttotal: 31.5s\tremaining: 10.9s\n",
      "743:\tlearn: 0.0007063\ttotal: 31.6s\tremaining: 10.9s\n",
      "744:\tlearn: 0.0007038\ttotal: 31.6s\tremaining: 10.8s\n",
      "745:\tlearn: 0.0007033\ttotal: 31.6s\tremaining: 10.8s\n",
      "746:\tlearn: 0.0007007\ttotal: 31.7s\tremaining: 10.7s\n",
      "747:\tlearn: 0.0006994\ttotal: 31.7s\tremaining: 10.7s\n",
      "748:\tlearn: 0.0006974\ttotal: 31.7s\tremaining: 10.6s\n",
      "749:\tlearn: 0.0006967\ttotal: 31.8s\tremaining: 10.6s\n",
      "750:\tlearn: 0.0006961\ttotal: 31.8s\tremaining: 10.6s\n",
      "751:\tlearn: 0.0006944\ttotal: 31.9s\tremaining: 10.5s\n",
      "752:\tlearn: 0.0006922\ttotal: 31.9s\tremaining: 10.5s\n",
      "753:\tlearn: 0.0006911\ttotal: 31.9s\tremaining: 10.4s\n",
      "754:\tlearn: 0.0006890\ttotal: 32s\tremaining: 10.4s\n",
      "755:\tlearn: 0.0006870\ttotal: 32s\tremaining: 10.3s\n",
      "756:\tlearn: 0.0006853\ttotal: 32.1s\tremaining: 10.3s\n",
      "757:\tlearn: 0.0006841\ttotal: 32.1s\tremaining: 10.3s\n",
      "758:\tlearn: 0.0006836\ttotal: 32.1s\tremaining: 10.2s\n",
      "759:\tlearn: 0.0006830\ttotal: 32.2s\tremaining: 10.2s\n",
      "760:\tlearn: 0.0006822\ttotal: 32.2s\tremaining: 10.1s\n",
      "761:\tlearn: 0.0006811\ttotal: 32.3s\tremaining: 10.1s\n",
      "762:\tlearn: 0.0006800\ttotal: 32.3s\tremaining: 10s\n",
      "763:\tlearn: 0.0006797\ttotal: 32.4s\tremaining: 10s\n",
      "764:\tlearn: 0.0006791\ttotal: 32.4s\tremaining: 9.96s\n",
      "765:\tlearn: 0.0006783\ttotal: 32.5s\tremaining: 9.91s\n",
      "766:\tlearn: 0.0006781\ttotal: 32.5s\tremaining: 9.87s\n",
      "767:\tlearn: 0.0006773\ttotal: 32.5s\tremaining: 9.83s\n",
      "768:\tlearn: 0.0006762\ttotal: 32.6s\tremaining: 9.79s\n",
      "769:\tlearn: 0.0006747\ttotal: 32.6s\tremaining: 9.75s\n",
      "770:\tlearn: 0.0006745\ttotal: 32.7s\tremaining: 9.7s\n",
      "771:\tlearn: 0.0006736\ttotal: 32.7s\tremaining: 9.66s\n",
      "772:\tlearn: 0.0006730\ttotal: 32.8s\tremaining: 9.62s\n",
      "773:\tlearn: 0.0006728\ttotal: 32.8s\tremaining: 9.58s\n",
      "774:\tlearn: 0.0006723\ttotal: 32.8s\tremaining: 9.53s\n",
      "775:\tlearn: 0.0006721\ttotal: 32.9s\tremaining: 9.49s\n",
      "776:\tlearn: 0.0006712\ttotal: 32.9s\tremaining: 9.45s\n",
      "777:\tlearn: 0.0006696\ttotal: 33s\tremaining: 9.42s\n",
      "778:\tlearn: 0.0006694\ttotal: 33.1s\tremaining: 9.38s\n",
      "779:\tlearn: 0.0006667\ttotal: 33.1s\tremaining: 9.34s\n",
      "780:\tlearn: 0.0006655\ttotal: 33.2s\tremaining: 9.3s\n",
      "781:\tlearn: 0.0006650\ttotal: 33.2s\tremaining: 9.26s\n",
      "782:\tlearn: 0.0006642\ttotal: 33.3s\tremaining: 9.22s\n",
      "783:\tlearn: 0.0006629\ttotal: 33.3s\tremaining: 9.18s\n",
      "784:\tlearn: 0.0006621\ttotal: 33.4s\tremaining: 9.13s\n",
      "785:\tlearn: 0.0006603\ttotal: 33.4s\tremaining: 9.09s\n",
      "786:\tlearn: 0.0006596\ttotal: 33.4s\tremaining: 9.05s\n",
      "787:\tlearn: 0.0006595\ttotal: 33.5s\tremaining: 9.01s\n",
      "788:\tlearn: 0.0006583\ttotal: 33.5s\tremaining: 8.97s\n",
      "789:\tlearn: 0.0006573\ttotal: 33.6s\tremaining: 8.92s\n",
      "790:\tlearn: 0.0006558\ttotal: 33.6s\tremaining: 8.88s\n",
      "791:\tlearn: 0.0006549\ttotal: 33.7s\tremaining: 8.84s\n",
      "792:\tlearn: 0.0006506\ttotal: 33.7s\tremaining: 8.8s\n",
      "793:\tlearn: 0.0006495\ttotal: 33.7s\tremaining: 8.75s\n",
      "794:\tlearn: 0.0006488\ttotal: 33.8s\tremaining: 8.71s\n",
      "795:\tlearn: 0.0006459\ttotal: 33.8s\tremaining: 8.67s\n",
      "796:\tlearn: 0.0006441\ttotal: 33.9s\tremaining: 8.63s\n",
      "797:\tlearn: 0.0006427\ttotal: 33.9s\tremaining: 8.58s\n",
      "798:\tlearn: 0.0006420\ttotal: 34s\tremaining: 8.54s\n",
      "799:\tlearn: 0.0006397\ttotal: 34s\tremaining: 8.5s\n",
      "800:\tlearn: 0.0006373\ttotal: 34s\tremaining: 8.46s\n",
      "801:\tlearn: 0.0006358\ttotal: 34.1s\tremaining: 8.42s\n",
      "802:\tlearn: 0.0006356\ttotal: 34.1s\tremaining: 8.37s\n",
      "803:\tlearn: 0.0006345\ttotal: 34.2s\tremaining: 8.33s\n",
      "804:\tlearn: 0.0006340\ttotal: 34.2s\tremaining: 8.29s\n",
      "805:\tlearn: 0.0006336\ttotal: 34.3s\tremaining: 8.25s\n",
      "806:\tlearn: 0.0006332\ttotal: 34.3s\tremaining: 8.2s\n"
     ]
    },
    {
     "name": "stdout",
     "output_type": "stream",
     "text": [
      "807:\tlearn: 0.0006330\ttotal: 34.3s\tremaining: 8.16s\n",
      "808:\tlearn: 0.0006309\ttotal: 34.4s\tremaining: 8.12s\n",
      "809:\tlearn: 0.0006299\ttotal: 34.4s\tremaining: 8.07s\n",
      "810:\tlearn: 0.0006274\ttotal: 34.5s\tremaining: 8.03s\n",
      "811:\tlearn: 0.0006266\ttotal: 34.5s\tremaining: 7.99s\n",
      "812:\tlearn: 0.0006261\ttotal: 34.6s\tremaining: 7.95s\n",
      "813:\tlearn: 0.0006254\ttotal: 34.6s\tremaining: 7.91s\n",
      "814:\tlearn: 0.0006247\ttotal: 34.6s\tremaining: 7.86s\n",
      "815:\tlearn: 0.0006236\ttotal: 34.7s\tremaining: 7.82s\n",
      "816:\tlearn: 0.0006233\ttotal: 34.7s\tremaining: 7.78s\n",
      "817:\tlearn: 0.0006224\ttotal: 34.8s\tremaining: 7.73s\n",
      "818:\tlearn: 0.0006213\ttotal: 34.8s\tremaining: 7.69s\n",
      "819:\tlearn: 0.0006200\ttotal: 34.8s\tremaining: 7.65s\n",
      "820:\tlearn: 0.0006190\ttotal: 34.9s\tremaining: 7.61s\n",
      "821:\tlearn: 0.0006173\ttotal: 34.9s\tremaining: 7.56s\n",
      "822:\tlearn: 0.0006162\ttotal: 35s\tremaining: 7.52s\n",
      "823:\tlearn: 0.0006143\ttotal: 35s\tremaining: 7.47s\n",
      "824:\tlearn: 0.0006142\ttotal: 35s\tremaining: 7.43s\n",
      "825:\tlearn: 0.0006125\ttotal: 35.1s\tremaining: 7.39s\n",
      "826:\tlearn: 0.0006099\ttotal: 35.1s\tremaining: 7.35s\n",
      "827:\tlearn: 0.0006092\ttotal: 35.2s\tremaining: 7.3s\n",
      "828:\tlearn: 0.0006082\ttotal: 35.2s\tremaining: 7.26s\n",
      "829:\tlearn: 0.0006077\ttotal: 35.3s\tremaining: 7.22s\n",
      "830:\tlearn: 0.0006074\ttotal: 35.3s\tremaining: 7.18s\n",
      "831:\tlearn: 0.0006056\ttotal: 35.3s\tremaining: 7.13s\n",
      "832:\tlearn: 0.0006050\ttotal: 35.4s\tremaining: 7.09s\n",
      "833:\tlearn: 0.0006030\ttotal: 35.4s\tremaining: 7.05s\n",
      "834:\tlearn: 0.0006028\ttotal: 35.5s\tremaining: 7s\n",
      "835:\tlearn: 0.0006017\ttotal: 35.5s\tremaining: 6.96s\n",
      "836:\tlearn: 0.0006009\ttotal: 35.5s\tremaining: 6.92s\n",
      "837:\tlearn: 0.0006007\ttotal: 35.6s\tremaining: 6.88s\n",
      "838:\tlearn: 0.0006004\ttotal: 35.6s\tremaining: 6.83s\n",
      "839:\tlearn: 0.0005991\ttotal: 35.7s\tremaining: 6.79s\n",
      "840:\tlearn: 0.0005979\ttotal: 35.7s\tremaining: 6.75s\n",
      "841:\tlearn: 0.0005963\ttotal: 35.7s\tremaining: 6.71s\n",
      "842:\tlearn: 0.0005958\ttotal: 35.8s\tremaining: 6.66s\n",
      "843:\tlearn: 0.0005940\ttotal: 35.8s\tremaining: 6.62s\n",
      "844:\tlearn: 0.0005934\ttotal: 35.9s\tremaining: 6.58s\n",
      "845:\tlearn: 0.0005924\ttotal: 35.9s\tremaining: 6.53s\n",
      "846:\tlearn: 0.0005919\ttotal: 35.9s\tremaining: 6.49s\n",
      "847:\tlearn: 0.0005913\ttotal: 36s\tremaining: 6.45s\n",
      "848:\tlearn: 0.0005904\ttotal: 36s\tremaining: 6.41s\n",
      "849:\tlearn: 0.0005898\ttotal: 36.1s\tremaining: 6.36s\n",
      "850:\tlearn: 0.0005892\ttotal: 36.1s\tremaining: 6.32s\n",
      "851:\tlearn: 0.0005888\ttotal: 36.1s\tremaining: 6.28s\n",
      "852:\tlearn: 0.0005883\ttotal: 36.2s\tremaining: 6.24s\n",
      "853:\tlearn: 0.0005881\ttotal: 36.2s\tremaining: 6.19s\n",
      "854:\tlearn: 0.0005874\ttotal: 36.3s\tremaining: 6.15s\n",
      "855:\tlearn: 0.0005862\ttotal: 36.3s\tremaining: 6.11s\n",
      "856:\tlearn: 0.0005851\ttotal: 36.3s\tremaining: 6.06s\n",
      "857:\tlearn: 0.0005834\ttotal: 36.4s\tremaining: 6.02s\n",
      "858:\tlearn: 0.0005823\ttotal: 36.4s\tremaining: 5.98s\n",
      "859:\tlearn: 0.0005822\ttotal: 36.5s\tremaining: 5.93s\n",
      "860:\tlearn: 0.0005806\ttotal: 36.5s\tremaining: 5.89s\n",
      "861:\tlearn: 0.0005800\ttotal: 36.5s\tremaining: 5.85s\n",
      "862:\tlearn: 0.0005791\ttotal: 36.6s\tremaining: 5.81s\n",
      "863:\tlearn: 0.0005786\ttotal: 36.6s\tremaining: 5.76s\n",
      "864:\tlearn: 0.0005779\ttotal: 36.7s\tremaining: 5.72s\n",
      "865:\tlearn: 0.0005770\ttotal: 36.7s\tremaining: 5.68s\n",
      "866:\tlearn: 0.0005754\ttotal: 36.7s\tremaining: 5.64s\n",
      "867:\tlearn: 0.0005739\ttotal: 36.8s\tremaining: 5.59s\n",
      "868:\tlearn: 0.0005731\ttotal: 36.8s\tremaining: 5.55s\n",
      "869:\tlearn: 0.0005718\ttotal: 36.9s\tremaining: 5.51s\n",
      "870:\tlearn: 0.0005699\ttotal: 36.9s\tremaining: 5.47s\n",
      "871:\tlearn: 0.0005691\ttotal: 37s\tremaining: 5.42s\n",
      "872:\tlearn: 0.0005684\ttotal: 37s\tremaining: 5.38s\n",
      "873:\tlearn: 0.0005678\ttotal: 37s\tremaining: 5.34s\n",
      "874:\tlearn: 0.0005670\ttotal: 37.1s\tremaining: 5.3s\n",
      "875:\tlearn: 0.0005660\ttotal: 37.2s\tremaining: 5.26s\n",
      "876:\tlearn: 0.0005636\ttotal: 37.2s\tremaining: 5.22s\n",
      "877:\tlearn: 0.0005630\ttotal: 37.3s\tremaining: 5.18s\n",
      "878:\tlearn: 0.0005619\ttotal: 37.3s\tremaining: 5.14s\n",
      "879:\tlearn: 0.0005616\ttotal: 37.4s\tremaining: 5.09s\n",
      "880:\tlearn: 0.0005603\ttotal: 37.4s\tremaining: 5.05s\n",
      "881:\tlearn: 0.0005597\ttotal: 37.4s\tremaining: 5.01s\n",
      "882:\tlearn: 0.0005592\ttotal: 37.5s\tremaining: 4.97s\n",
      "883:\tlearn: 0.0005587\ttotal: 37.5s\tremaining: 4.92s\n",
      "884:\tlearn: 0.0005579\ttotal: 37.6s\tremaining: 4.88s\n",
      "885:\tlearn: 0.0005574\ttotal: 37.6s\tremaining: 4.84s\n",
      "886:\tlearn: 0.0005563\ttotal: 37.6s\tremaining: 4.8s\n",
      "887:\tlearn: 0.0005561\ttotal: 37.7s\tremaining: 4.75s\n",
      "888:\tlearn: 0.0005546\ttotal: 37.7s\tremaining: 4.71s\n",
      "889:\tlearn: 0.0005538\ttotal: 37.8s\tremaining: 4.67s\n",
      "890:\tlearn: 0.0005525\ttotal: 37.8s\tremaining: 4.63s\n",
      "891:\tlearn: 0.0005506\ttotal: 37.9s\tremaining: 4.58s\n",
      "892:\tlearn: 0.0005495\ttotal: 37.9s\tremaining: 4.54s\n",
      "893:\tlearn: 0.0005490\ttotal: 37.9s\tremaining: 4.5s\n",
      "894:\tlearn: 0.0005471\ttotal: 38s\tremaining: 4.46s\n",
      "895:\tlearn: 0.0005459\ttotal: 38s\tremaining: 4.42s\n",
      "896:\tlearn: 0.0005452\ttotal: 38.1s\tremaining: 4.37s\n",
      "897:\tlearn: 0.0005445\ttotal: 38.1s\tremaining: 4.33s\n",
      "898:\tlearn: 0.0005435\ttotal: 38.2s\tremaining: 4.29s\n",
      "899:\tlearn: 0.0005426\ttotal: 38.2s\tremaining: 4.24s\n",
      "900:\tlearn: 0.0005423\ttotal: 38.2s\tremaining: 4.2s\n",
      "901:\tlearn: 0.0005420\ttotal: 38.3s\tremaining: 4.16s\n",
      "902:\tlearn: 0.0005410\ttotal: 38.3s\tremaining: 4.12s\n",
      "903:\tlearn: 0.0005397\ttotal: 38.4s\tremaining: 4.07s\n",
      "904:\tlearn: 0.0005391\ttotal: 38.4s\tremaining: 4.03s\n",
      "905:\tlearn: 0.0005383\ttotal: 38.4s\tremaining: 3.99s\n",
      "906:\tlearn: 0.0005380\ttotal: 38.5s\tremaining: 3.94s\n",
      "907:\tlearn: 0.0005364\ttotal: 38.5s\tremaining: 3.9s\n",
      "908:\tlearn: 0.0005332\ttotal: 38.6s\tremaining: 3.86s\n",
      "909:\tlearn: 0.0005327\ttotal: 38.6s\tremaining: 3.82s\n",
      "910:\tlearn: 0.0005324\ttotal: 38.7s\tremaining: 3.78s\n",
      "911:\tlearn: 0.0005319\ttotal: 38.7s\tremaining: 3.73s\n",
      "912:\tlearn: 0.0005313\ttotal: 38.7s\tremaining: 3.69s\n",
      "913:\tlearn: 0.0005305\ttotal: 38.8s\tremaining: 3.65s\n",
      "914:\tlearn: 0.0005290\ttotal: 38.8s\tremaining: 3.6s\n",
      "915:\tlearn: 0.0005277\ttotal: 38.9s\tremaining: 3.56s\n",
      "916:\tlearn: 0.0005273\ttotal: 38.9s\tremaining: 3.52s\n",
      "917:\tlearn: 0.0005258\ttotal: 38.9s\tremaining: 3.48s\n",
      "918:\tlearn: 0.0005248\ttotal: 39s\tremaining: 3.44s\n",
      "919:\tlearn: 0.0005247\ttotal: 39s\tremaining: 3.39s\n",
      "920:\tlearn: 0.0005237\ttotal: 39.1s\tremaining: 3.35s\n",
      "921:\tlearn: 0.0005235\ttotal: 39.1s\tremaining: 3.31s\n",
      "922:\tlearn: 0.0005226\ttotal: 39.2s\tremaining: 3.27s\n",
      "923:\tlearn: 0.0005209\ttotal: 39.2s\tremaining: 3.23s\n",
      "924:\tlearn: 0.0005202\ttotal: 39.3s\tremaining: 3.18s\n",
      "925:\tlearn: 0.0005196\ttotal: 39.3s\tremaining: 3.14s\n",
      "926:\tlearn: 0.0005191\ttotal: 39.3s\tremaining: 3.1s\n",
      "927:\tlearn: 0.0005186\ttotal: 39.4s\tremaining: 3.06s\n",
      "928:\tlearn: 0.0005181\ttotal: 39.4s\tremaining: 3.01s\n",
      "929:\tlearn: 0.0005175\ttotal: 39.5s\tremaining: 2.97s\n",
      "930:\tlearn: 0.0005162\ttotal: 39.5s\tremaining: 2.93s\n",
      "931:\tlearn: 0.0005141\ttotal: 39.5s\tremaining: 2.88s\n",
      "932:\tlearn: 0.0005137\ttotal: 39.6s\tremaining: 2.84s\n",
      "933:\tlearn: 0.0005129\ttotal: 39.6s\tremaining: 2.8s\n",
      "934:\tlearn: 0.0005117\ttotal: 39.7s\tremaining: 2.76s\n",
      "935:\tlearn: 0.0005110\ttotal: 39.7s\tremaining: 2.71s\n",
      "936:\tlearn: 0.0005102\ttotal: 39.7s\tremaining: 2.67s\n",
      "937:\tlearn: 0.0005093\ttotal: 39.8s\tremaining: 2.63s\n",
      "938:\tlearn: 0.0005087\ttotal: 39.8s\tremaining: 2.59s\n",
      "939:\tlearn: 0.0005081\ttotal: 39.9s\tremaining: 2.54s\n",
      "940:\tlearn: 0.0005070\ttotal: 39.9s\tremaining: 2.5s\n",
      "941:\tlearn: 0.0005068\ttotal: 39.9s\tremaining: 2.46s\n",
      "942:\tlearn: 0.0005064\ttotal: 40s\tremaining: 2.42s\n",
      "943:\tlearn: 0.0005060\ttotal: 40s\tremaining: 2.37s\n",
      "944:\tlearn: 0.0005055\ttotal: 40.1s\tremaining: 2.33s\n",
      "945:\tlearn: 0.0005053\ttotal: 40.1s\tremaining: 2.29s\n",
      "946:\tlearn: 0.0005039\ttotal: 40.1s\tremaining: 2.25s\n",
      "947:\tlearn: 0.0005033\ttotal: 40.2s\tremaining: 2.2s\n",
      "948:\tlearn: 0.0005026\ttotal: 40.2s\tremaining: 2.16s\n",
      "949:\tlearn: 0.0005021\ttotal: 40.3s\tremaining: 2.12s\n",
      "950:\tlearn: 0.0005018\ttotal: 40.3s\tremaining: 2.08s\n",
      "951:\tlearn: 0.0005012\ttotal: 40.4s\tremaining: 2.04s\n",
      "952:\tlearn: 0.0005005\ttotal: 40.4s\tremaining: 1.99s\n",
      "953:\tlearn: 0.0004997\ttotal: 40.5s\tremaining: 1.95s\n",
      "954:\tlearn: 0.0004995\ttotal: 40.5s\tremaining: 1.91s\n",
      "955:\tlearn: 0.0004992\ttotal: 40.5s\tremaining: 1.86s\n",
      "956:\tlearn: 0.0004991\ttotal: 40.6s\tremaining: 1.82s\n",
      "957:\tlearn: 0.0004984\ttotal: 40.6s\tremaining: 1.78s\n",
      "958:\tlearn: 0.0004983\ttotal: 40.6s\tremaining: 1.74s\n",
      "959:\tlearn: 0.0004971\ttotal: 40.7s\tremaining: 1.69s\n",
      "960:\tlearn: 0.0004960\ttotal: 40.7s\tremaining: 1.65s\n",
      "961:\tlearn: 0.0004950\ttotal: 40.8s\tremaining: 1.61s\n",
      "962:\tlearn: 0.0004949\ttotal: 40.8s\tremaining: 1.57s\n",
      "963:\tlearn: 0.0004947\ttotal: 40.8s\tremaining: 1.52s\n",
      "964:\tlearn: 0.0004943\ttotal: 40.9s\tremaining: 1.48s\n",
      "965:\tlearn: 0.0004939\ttotal: 40.9s\tremaining: 1.44s\n",
      "966:\tlearn: 0.0004927\ttotal: 41s\tremaining: 1.4s\n",
      "967:\tlearn: 0.0004920\ttotal: 41s\tremaining: 1.35s\n"
     ]
    },
    {
     "name": "stdout",
     "output_type": "stream",
     "text": [
      "968:\tlearn: 0.0004908\ttotal: 41s\tremaining: 1.31s\n",
      "969:\tlearn: 0.0004907\ttotal: 41.1s\tremaining: 1.27s\n",
      "970:\tlearn: 0.0004901\ttotal: 41.1s\tremaining: 1.23s\n",
      "971:\tlearn: 0.0004897\ttotal: 41.2s\tremaining: 1.19s\n",
      "972:\tlearn: 0.0004892\ttotal: 41.2s\tremaining: 1.14s\n",
      "973:\tlearn: 0.0004885\ttotal: 41.2s\tremaining: 1.1s\n",
      "974:\tlearn: 0.0004880\ttotal: 41.3s\tremaining: 1.06s\n",
      "975:\tlearn: 0.0004872\ttotal: 41.3s\tremaining: 1.02s\n",
      "976:\tlearn: 0.0004869\ttotal: 41.4s\tremaining: 974ms\n",
      "977:\tlearn: 0.0004861\ttotal: 41.4s\tremaining: 932ms\n",
      "978:\tlearn: 0.0004843\ttotal: 41.5s\tremaining: 890ms\n",
      "979:\tlearn: 0.0004839\ttotal: 41.5s\tremaining: 847ms\n",
      "980:\tlearn: 0.0004835\ttotal: 41.6s\tremaining: 805ms\n",
      "981:\tlearn: 0.0004823\ttotal: 41.6s\tremaining: 763ms\n",
      "982:\tlearn: 0.0004818\ttotal: 41.7s\tremaining: 721ms\n",
      "983:\tlearn: 0.0004812\ttotal: 41.7s\tremaining: 678ms\n",
      "984:\tlearn: 0.0004804\ttotal: 41.7s\tremaining: 636ms\n",
      "985:\tlearn: 0.0004792\ttotal: 41.8s\tremaining: 593ms\n",
      "986:\tlearn: 0.0004778\ttotal: 41.8s\tremaining: 551ms\n",
      "987:\tlearn: 0.0004772\ttotal: 41.9s\tremaining: 508ms\n",
      "988:\tlearn: 0.0004770\ttotal: 41.9s\tremaining: 466ms\n",
      "989:\tlearn: 0.0004766\ttotal: 41.9s\tremaining: 424ms\n",
      "990:\tlearn: 0.0004764\ttotal: 42s\tremaining: 381ms\n",
      "991:\tlearn: 0.0004762\ttotal: 42s\tremaining: 339ms\n",
      "992:\tlearn: 0.0004742\ttotal: 42s\tremaining: 296ms\n",
      "993:\tlearn: 0.0004733\ttotal: 42.1s\tremaining: 254ms\n",
      "994:\tlearn: 0.0004725\ttotal: 42.1s\tremaining: 212ms\n",
      "995:\tlearn: 0.0004721\ttotal: 42.2s\tremaining: 169ms\n",
      "996:\tlearn: 0.0004712\ttotal: 42.2s\tremaining: 127ms\n",
      "997:\tlearn: 0.0004699\ttotal: 42.3s\tremaining: 84.7ms\n",
      "998:\tlearn: 0.0004690\ttotal: 42.3s\tremaining: 42.3ms\n",
      "999:\tlearn: 0.0004683\ttotal: 42.3s\tremaining: 0us\n"
     ]
    }
   ],
   "source": [
    "cb = CatBoostClassifier()\n",
    "cb = cb.fit(X_train, y_train)"
   ]
  },
  {
   "cell_type": "code",
   "execution_count": 35,
   "id": "b4670871-6b23-4f1a-8ffa-ba4da93fdc26",
   "metadata": {},
   "outputs": [
    {
     "data": {
      "text/plain": [
       "array([[0],\n",
       "       [1],\n",
       "       [4],\n",
       "       ...,\n",
       "       [0],\n",
       "       [0],\n",
       "       [0]], dtype=int64)"
      ]
     },
     "execution_count": 35,
     "metadata": {},
     "output_type": "execute_result"
    }
   ],
   "source": [
    "cb_pred = cb.predict(x_test)\n",
    "cb_pred"
   ]
  },
  {
   "cell_type": "code",
   "execution_count": 36,
   "id": "fdff0053-d7aa-427b-9f58-40f68d959a37",
   "metadata": {},
   "outputs": [
    {
     "data": {
      "text/plain": [
       "0.9994840246080572"
      ]
     },
     "execution_count": 36,
     "metadata": {},
     "output_type": "execute_result"
    }
   ],
   "source": [
    "cb_acc = accuracy_score(y_test, cb_pred)\n",
    "cb_acc"
   ]
  },
  {
   "cell_type": "code",
   "execution_count": 37,
   "id": "e4077dda-eb5c-487d-ac4a-6456b84fa6a2",
   "metadata": {},
   "outputs": [
    {
     "data": {
      "text/plain": [
       "<sklearn.metrics._plot.confusion_matrix.ConfusionMatrixDisplay at 0x242433339d0>"
      ]
     },
     "execution_count": 37,
     "metadata": {},
     "output_type": "execute_result"
    },
    {
     "data": {
      "image/png": "[encoded data removed]",
      "text/plain": [
       "<Figure size 640x480 with 2 Axes>"
      ]
     },
     "metadata": {},
     "output_type": "display_data"
    }
   ],
   "source": [
    "cb_cm = confusion_matrix(y_test, cb_pred)\n",
    "ConfusionMatrixDisplay(cb_cm,display_labels=target_names).plot()"
   ]
  },
  {
   "cell_type": "code",
   "execution_count": 38,
   "id": "93d57424-d37e-4576-8031-08356abf967e",
   "metadata": {},
   "outputs": [
    {
     "name": "stdout",
     "output_type": "stream",
     "text": [
      "              precision    recall  f1-score   support\n",
      "\n",
      "      normal       1.00      1.00      1.00      9224\n",
      "         Dos       1.00      1.00      1.00      2373\n",
      "       Probe       0.98      0.99      0.98       199\n",
      "         R2L       0.91      0.77      0.83        13\n",
      "         U2R       1.00      1.00      1.00     13386\n",
      "\n",
      "    accuracy                           1.00     25195\n",
      "   macro avg       0.98      0.95      0.96     25195\n",
      "weighted avg       1.00      1.00      1.00     25195\n",
      "\n"
     ]
    }
   ],
   "source": [
    "print(classification_report(y_test, cb_pred, target_names=target_names))"
   ]
  },
  {
   "cell_type": "code",
   "execution_count": 39,
   "id": "c813cbce-3e85-430b-a2d3-564f2d5488f1",
   "metadata": {},
   "outputs": [],
   "source": [
    "xg = XGBClassifier(n_estimators=100, learning_rate=1, objective='multi:softmax', random_state=42)\n",
    "xg = xg.fit(X_train, y_train)"
   ]
  },
  {
   "cell_type": "code",
   "execution_count": 40,
   "id": "be189fb9-e396-409c-97e0-498e234b3821",
   "metadata": {},
   "outputs": [
    {
     "data": {
      "text/plain": [
       "array([0, 1, 4, ..., 0, 0, 0])"
      ]
     },
     "execution_count": 40,
     "metadata": {},
     "output_type": "execute_result"
    }
   ],
   "source": [
    "xg_pred = xg.predict(x_test)\n",
    "xg_pred"
   ]
  },
  {
   "cell_type": "code",
   "execution_count": 41,
   "id": "c235099d-69b3-4e63-9bfb-12e7c1571b06",
   "metadata": {},
   "outputs": [
    {
     "data": {
      "text/plain": [
       "0.999523715022822"
      ]
     },
     "execution_count": 41,
     "metadata": {},
     "output_type": "execute_result"
    }
   ],
   "source": [
    "xg_acc = accuracy_score(y_test, xg_pred)\n",
    "xg_acc"
   ]
  },
  {
   "cell_type": "code",
   "execution_count": 42,
   "id": "92c10718-476c-42b5-9085-ac1d73722d2a",
   "metadata": {},
   "outputs": [
    {
     "data": {
      "text/plain": [
       "<sklearn.metrics._plot.confusion_matrix.ConfusionMatrixDisplay at 0x242436d08b0>"
      ]
     },
     "execution_count": 42,
     "metadata": {},
     "output_type": "execute_result"
    },
    {
     "data": {
      "image/png": "[encoded data removed]",
      "text/plain": [
       "<Figure size 640x480 with 2 Axes>"
      ]
     },
     "metadata": {},
     "output_type": "display_data"
    }
   ],
   "source": [
    "xg_cm = confusion_matrix(y_test, xg_pred)\n",
    "ConfusionMatrixDisplay(xg_cm,display_labels=target_names).plot()"
   ]
  },
  {
   "cell_type": "code",
   "execution_count": 43,
   "id": "2115f17e-e95a-4dfa-855f-569ad864a03b",
   "metadata": {},
   "outputs": [
    {
     "name": "stdout",
     "output_type": "stream",
     "text": [
      "              precision    recall  f1-score   support\n",
      "\n",
      "      normal       1.00      1.00      1.00      9224\n",
      "         Dos       1.00      1.00      1.00      2373\n",
      "       Probe       0.98      0.99      0.98       199\n",
      "         R2L       0.91      0.77      0.83        13\n",
      "         U2R       1.00      1.00      1.00     13386\n",
      "\n",
      "    accuracy                           1.00     25195\n",
      "   macro avg       0.98      0.95      0.96     25195\n",
      "weighted avg       1.00      1.00      1.00     25195\n",
      "\n"
     ]
    }
   ],
   "source": [
    "print(classification_report(y_test, cb_pred, target_names=target_names))"
   ]
  },
  {
   "cell_type": "code",
   "execution_count": 44,
   "id": "f35e85d8-b1e0-40de-b418-49dbebd95595",
   "metadata": {},
   "outputs": [
    {
     "data": {
      "image/png": "[encoded data removed]",
      "text/plain": [
       "<Figure size 800x600 with 1 Axes>"
      ]
     },
     "metadata": {},
     "output_type": "display_data"
    }
   ],
   "source": [
    "models = ['Naive Bayes', 'Decision Tree', 'Random Forest', 'Catboost', 'XGBoost']\n",
    "accuracies = [gnb_acc, dt_acc, rf_acc, cb_acc, xg_acc]\n",
    "\n",
    "plt.figure(figsize=(8, 6))\n",
    "plt.bar(models, accuracies, color=['skyblue', 'lightgreen', 'gold', 'coral', 'violet'])\n",
    "plt.xlabel('Model Name')\n",
    "plt.ylabel('Accuracy')\n",
    "plt.title('Accuracy Comparison of Machine Learning Models')\n",
    "plt.xticks(rotation=45, ha='right')\n",
    "\n",
    "\n",
    "# Display the bar chart\n",
    "plt.tight_layout()\n",
    "plt.show()"
   ]
  },
  {
   "cell_type": "code",
   "execution_count": 45,
   "id": "24373bcf-1fbc-455e-ab85-0af09621ed01",
   "metadata": {},
   "outputs": [
    {
     "data": {
      "image/png": "[encoded data removed]",
      "text/plain": [
       "<Figure size 800x600 with 1 Axes>"
      ]
     },
     "metadata": {},
     "output_type": "display_data"
    }
   ],
   "source": [
    "models = ['Naive Bayes', 'Decision Tree', 'Random Forest', 'Catboost', 'XGBoost']\n",
    "accuracies = [gnb_acc, dt_acc, rf_acc, cb_acc, xg_acc]\n",
    "\n",
    "plt.figure(figsize=(8, 6))\n",
    "plt.bar(models, accuracies, color=['skyblue', 'lightgreen', 'gold', 'coral', 'violet'])\n",
    "plt.xlabel('Model Name')\n",
    "plt.ylabel('Accuracy')\n",
    "plt.title('Accuracy Comparison of Machine Learning Models')\n",
    "plt.xticks(rotation=45, ha='right')\n",
    "plt.grid(axis='y', linestyle='--', alpha=0.7)\n",
    "\n",
    "# Set y-axis limits to focus on the narrow range\n",
    "plt.ylim(0.997, 1.00)\n",
    "\n",
    "# Display the bar chart\n",
    "plt.tight_layout()\n",
    "plt.show()"
   ]
  },
  {
   "cell_type": "code",
   "execution_count": 46,
   "id": "a9be6620-1efb-4408-9dcb-b3a44398220d",
   "metadata": {},
   "outputs": [],
   "source": [
    "def false_alarm_rate(cm):\n",
    "    true_normal = cm[0,0]\n",
    "    false_attack = cm[0,1] + cm[0,2] + cm[0,3] + cm[0,4]\n",
    "    \n",
    "    return false_attack/(true_normal + false_attack)"
   ]
  },
  {
   "cell_type": "code",
   "execution_count": 47,
   "id": "33795a24-0131-4fb9-9859-28769c19e3aa",
   "metadata": {},
   "outputs": [],
   "source": [
    "gnb_far = false_alarm_rate(gnb_cm)\n",
    "dt_far = false_alarm_rate(dt_cm)\n",
    "rf_far = false_alarm_rate(rf_cm)\n",
    "cb_far = false_alarm_rate(cb_cm)\n",
    "xg_far = false_alarm_rate(xg_cm)"
   ]
  },
  {
   "cell_type": "code",
   "execution_count": 48,
   "id": "afd7ad32-a9a4-4651-ab92-70c12ff44c0b",
   "metadata": {},
   "outputs": [
    {
     "data": {
      "image/png": "[encoded data removed]",
      "text/plain": [
       "<Figure size 800x600 with 1 Axes>"
      ]
     },
     "metadata": {},
     "output_type": "display_data"
    }
   ],
   "source": [
    "models = ['Naive Bayes', 'Decision Tree', 'Random Forest', 'Catboost', 'XGBoost']\n",
    "accuracies = [gnb_far, dt_far, rf_far, cb_far, xg_far]\n",
    "\n",
    "plt.figure(figsize=(8, 6))\n",
    "plt.bar(models, accuracies, color=['skyblue', 'lightgreen', 'gold', 'coral', 'violet'])\n",
    "plt.xlabel('Model Name')\n",
    "plt.ylabel('False Alarm Rate')\n",
    "plt.title('False Alarm Rate Comparison of Machine Learning Models')\n",
    "plt.xticks(rotation=45, ha='right')\n",
    "\n",
    "\n",
    "# Display the bar chart\n",
    "plt.tight_layout()\n",
    "plt.show()"
   ]
  },
  {
   "cell_type": "code",
   "execution_count": 49,
   "id": "b43f2c79-ece1-436d-bd4c-bd7053c384a2",
   "metadata": {},
   "outputs": [
    {
     "data": {
      "image/png": "[encoded data removed]",
      "text/plain": [
       "<Figure size 800x600 with 1 Axes>"
      ]
     },
     "metadata": {},
     "output_type": "display_data"
    }
   ],
   "source": [
    "models = ['Naive Bayes', 'Decision Tree', 'Random Forest', 'Catboost', 'XGBoost']\n",
    "accuracies = [gnb_far, dt_far, rf_far, cb_far, xg_far]\n",
    "\n",
    "plt.figure(figsize=(8, 6))\n",
    "plt.bar(models, accuracies, color=['skyblue', 'lightgreen', 'gold', 'coral', 'violet'])\n",
    "plt.xlabel('Model Name')\n",
    "plt.ylabel('False Alarm Rate')\n",
    "plt.title('False Alarm Rate of Machine Learning Models')\n",
    "plt.xticks(rotation=45, ha='right')\n",
    "plt.grid(axis='y', linestyle='--', alpha=0.7)\n",
    "\n",
    "# Set y-axis limits to focus on the narrow range\n",
    "plt.ylim(0, 0.001)\n",
    "\n",
    "# Display the bar chart\n",
    "plt.tight_layout()\n",
    "plt.show()"
   ]
  },
  {
   "cell_type": "code",
   "execution_count": 50,
   "id": "e7590f00-6060-44a0-a1f1-2d9fd3a5ecf1",
   "metadata": {},
   "outputs": [],
   "source": [
    "import pickle\n",
    "from joblib import dump, load"
   ]
  },
  {
   "cell_type": "code",
   "execution_count": 51,
   "id": "af7f4aff-6156-49a5-8768-f033d8c4e37e",
   "metadata": {},
   "outputs": [],
   "source": [
    "filename = 'best_model.sav'\n",
    "pickle.dump(xg, open(filename, 'wb'))"
   ]
  },
  {
   "cell_type": "code",
   "execution_count": null,
   "id": "9fd1c3f0-d58d-4552-b481-d618fea267e6",
   "metadata": {},
   "outputs": [],
   "source": []
  },
  {
   "cell_type": "code",
   "execution_count": 52,
   "id": "a3b4660e-ace7-44d1-a7ef-ca7fa2088e0f",
   "metadata": {},
   "outputs": [
    {
     "name": "stderr",
     "output_type": "stream",
     "text": [
      "WARNING: No libpcap provider available ! pcap won't be used\n"
     ]
    }
   ],
   "source": [
    "import socket\n",
    "from scapy.all import sniff\n",
    "from unittest.mock import patch\n",
    "\n",
    "import random"
   ]
  },
  {
   "cell_type": "code",
   "execution_count": 53,
   "id": "7ffde1a9-a947-4e17-9df4-1c0263b4453c",
   "metadata": {},
   "outputs": [
    {
     "data": {
      "text/html": [
       "<div>\n",
       "<style scoped>\n",
       "    .dataframe tbody tr th:only-of-type {\n",
       "        vertical-align: middle;\n",
       "    }\n",
       "\n",
       "    .dataframe tbody tr th {\n",
       "        vertical-align: top;\n",
       "    }\n",
       "\n",
       "    .dataframe thead th {\n",
       "        text-align: right;\n",
       "    }\n",
       "</style>\n",
       "<table border=\"1\" class=\"dataframe\">\n",
       "  <thead>\n",
       "    <tr style=\"text-align: right;\">\n",
       "      <th></th>\n",
       "      <th>duration</th>\n",
       "      <th>protocol_type</th>\n",
       "      <th>service</th>\n",
       "      <th>flag</th>\n",
       "      <th>src_bytes</th>\n",
       "      <th>dst_bytes</th>\n",
       "      <th>land</th>\n",
       "      <th>wrong_fragment</th>\n",
       "      <th>urgent</th>\n",
       "      <th>hot</th>\n",
       "      <th>...</th>\n",
       "      <th>dst_host_same_srv_rate</th>\n",
       "      <th>dst_host_diff_srv_rate</th>\n",
       "      <th>dst_host_same_src_port_rate</th>\n",
       "      <th>dst_host_srv_diff_host_rate</th>\n",
       "      <th>dst_host_serror_rate</th>\n",
       "      <th>dst_host_srv_serror_rate</th>\n",
       "      <th>dst_host_rerror_rate</th>\n",
       "      <th>dst_host_srv_rerror_rate</th>\n",
       "      <th>attack</th>\n",
       "      <th>level</th>\n",
       "    </tr>\n",
       "  </thead>\n",
       "  <tbody>\n",
       "    <tr>\n",
       "      <th>0</th>\n",
       "      <td>0</td>\n",
       "      <td>udp</td>\n",
       "      <td>private</td>\n",
       "      <td>SF</td>\n",
       "      <td>44</td>\n",
       "      <td>0</td>\n",
       "      <td>0</td>\n",
       "      <td>0</td>\n",
       "      <td>0</td>\n",
       "      <td>0</td>\n",
       "      <td>...</td>\n",
       "      <td>1.00</td>\n",
       "      <td>0.01</td>\n",
       "      <td>0.01</td>\n",
       "      <td>0.00</td>\n",
       "      <td>0.00</td>\n",
       "      <td>0.00</td>\n",
       "      <td>0.00</td>\n",
       "      <td>0.00</td>\n",
       "      <td>snmpguess</td>\n",
       "      <td>12</td>\n",
       "    </tr>\n",
       "    <tr>\n",
       "      <th>1</th>\n",
       "      <td>0</td>\n",
       "      <td>tcp</td>\n",
       "      <td>telnet</td>\n",
       "      <td>S3</td>\n",
       "      <td>0</td>\n",
       "      <td>44</td>\n",
       "      <td>0</td>\n",
       "      <td>0</td>\n",
       "      <td>0</td>\n",
       "      <td>0</td>\n",
       "      <td>...</td>\n",
       "      <td>0.31</td>\n",
       "      <td>0.61</td>\n",
       "      <td>0.00</td>\n",
       "      <td>0.00</td>\n",
       "      <td>0.21</td>\n",
       "      <td>0.68</td>\n",
       "      <td>0.60</td>\n",
       "      <td>0.00</td>\n",
       "      <td>processtable</td>\n",
       "      <td>18</td>\n",
       "    </tr>\n",
       "    <tr>\n",
       "      <th>2</th>\n",
       "      <td>0</td>\n",
       "      <td>udp</td>\n",
       "      <td>private</td>\n",
       "      <td>SF</td>\n",
       "      <td>53</td>\n",
       "      <td>55</td>\n",
       "      <td>0</td>\n",
       "      <td>0</td>\n",
       "      <td>0</td>\n",
       "      <td>0</td>\n",
       "      <td>...</td>\n",
       "      <td>1.00</td>\n",
       "      <td>0.00</td>\n",
       "      <td>0.87</td>\n",
       "      <td>0.00</td>\n",
       "      <td>0.00</td>\n",
       "      <td>0.00</td>\n",
       "      <td>0.00</td>\n",
       "      <td>0.00</td>\n",
       "      <td>normal</td>\n",
       "      <td>17</td>\n",
       "    </tr>\n",
       "    <tr>\n",
       "      <th>3</th>\n",
       "      <td>0</td>\n",
       "      <td>tcp</td>\n",
       "      <td>private</td>\n",
       "      <td>SH</td>\n",
       "      <td>0</td>\n",
       "      <td>0</td>\n",
       "      <td>0</td>\n",
       "      <td>0</td>\n",
       "      <td>0</td>\n",
       "      <td>0</td>\n",
       "      <td>...</td>\n",
       "      <td>0.06</td>\n",
       "      <td>1.00</td>\n",
       "      <td>1.00</td>\n",
       "      <td>0.00</td>\n",
       "      <td>1.00</td>\n",
       "      <td>1.00</td>\n",
       "      <td>0.00</td>\n",
       "      <td>0.00</td>\n",
       "      <td>nmap</td>\n",
       "      <td>17</td>\n",
       "    </tr>\n",
       "    <tr>\n",
       "      <th>4</th>\n",
       "      <td>0</td>\n",
       "      <td>tcp</td>\n",
       "      <td>http</td>\n",
       "      <td>SF</td>\n",
       "      <td>54540</td>\n",
       "      <td>8314</td>\n",
       "      <td>0</td>\n",
       "      <td>0</td>\n",
       "      <td>0</td>\n",
       "      <td>2</td>\n",
       "      <td>...</td>\n",
       "      <td>0.90</td>\n",
       "      <td>0.01</td>\n",
       "      <td>0.00</td>\n",
       "      <td>0.00</td>\n",
       "      <td>0.00</td>\n",
       "      <td>0.00</td>\n",
       "      <td>0.01</td>\n",
       "      <td>0.00</td>\n",
       "      <td>back</td>\n",
       "      <td>10</td>\n",
       "    </tr>\n",
       "    <tr>\n",
       "      <th>...</th>\n",
       "      <td>...</td>\n",
       "      <td>...</td>\n",
       "      <td>...</td>\n",
       "      <td>...</td>\n",
       "      <td>...</td>\n",
       "      <td>...</td>\n",
       "      <td>...</td>\n",
       "      <td>...</td>\n",
       "      <td>...</td>\n",
       "      <td>...</td>\n",
       "      <td>...</td>\n",
       "      <td>...</td>\n",
       "      <td>...</td>\n",
       "      <td>...</td>\n",
       "      <td>...</td>\n",
       "      <td>...</td>\n",
       "      <td>...</td>\n",
       "      <td>...</td>\n",
       "      <td>...</td>\n",
       "      <td>...</td>\n",
       "      <td>...</td>\n",
       "    </tr>\n",
       "    <tr>\n",
       "      <th>11844</th>\n",
       "      <td>0</td>\n",
       "      <td>udp</td>\n",
       "      <td>domain_u</td>\n",
       "      <td>SF</td>\n",
       "      <td>43</td>\n",
       "      <td>43</td>\n",
       "      <td>0</td>\n",
       "      <td>0</td>\n",
       "      <td>0</td>\n",
       "      <td>0</td>\n",
       "      <td>...</td>\n",
       "      <td>1.00</td>\n",
       "      <td>0.00</td>\n",
       "      <td>0.01</td>\n",
       "      <td>0.00</td>\n",
       "      <td>0.00</td>\n",
       "      <td>0.00</td>\n",
       "      <td>0.00</td>\n",
       "      <td>0.00</td>\n",
       "      <td>normal</td>\n",
       "      <td>18</td>\n",
       "    </tr>\n",
       "    <tr>\n",
       "      <th>11845</th>\n",
       "      <td>0</td>\n",
       "      <td>tcp</td>\n",
       "      <td>http</td>\n",
       "      <td>SF</td>\n",
       "      <td>336</td>\n",
       "      <td>285</td>\n",
       "      <td>0</td>\n",
       "      <td>0</td>\n",
       "      <td>0</td>\n",
       "      <td>0</td>\n",
       "      <td>...</td>\n",
       "      <td>0.92</td>\n",
       "      <td>0.02</td>\n",
       "      <td>0.00</td>\n",
       "      <td>0.00</td>\n",
       "      <td>0.00</td>\n",
       "      <td>0.00</td>\n",
       "      <td>0.05</td>\n",
       "      <td>0.00</td>\n",
       "      <td>normal</td>\n",
       "      <td>18</td>\n",
       "    </tr>\n",
       "    <tr>\n",
       "      <th>11846</th>\n",
       "      <td>1</td>\n",
       "      <td>tcp</td>\n",
       "      <td>telnet</td>\n",
       "      <td>RSTO</td>\n",
       "      <td>0</td>\n",
       "      <td>15</td>\n",
       "      <td>0</td>\n",
       "      <td>0</td>\n",
       "      <td>0</td>\n",
       "      <td>0</td>\n",
       "      <td>...</td>\n",
       "      <td>0.37</td>\n",
       "      <td>0.03</td>\n",
       "      <td>0.01</td>\n",
       "      <td>0.02</td>\n",
       "      <td>0.05</td>\n",
       "      <td>0.08</td>\n",
       "      <td>0.85</td>\n",
       "      <td>0.58</td>\n",
       "      <td>mscan</td>\n",
       "      <td>13</td>\n",
       "    </tr>\n",
       "    <tr>\n",
       "      <th>11847</th>\n",
       "      <td>0</td>\n",
       "      <td>tcp</td>\n",
       "      <td>sunrpc</td>\n",
       "      <td>REJ</td>\n",
       "      <td>0</td>\n",
       "      <td>0</td>\n",
       "      <td>0</td>\n",
       "      <td>0</td>\n",
       "      <td>0</td>\n",
       "      <td>0</td>\n",
       "      <td>...</td>\n",
       "      <td>0.19</td>\n",
       "      <td>0.03</td>\n",
       "      <td>0.01</td>\n",
       "      <td>0.04</td>\n",
       "      <td>0.00</td>\n",
       "      <td>0.00</td>\n",
       "      <td>0.88</td>\n",
       "      <td>1.00</td>\n",
       "      <td>mscan</td>\n",
       "      <td>15</td>\n",
       "    </tr>\n",
       "    <tr>\n",
       "      <th>11848</th>\n",
       "      <td>0</td>\n",
       "      <td>udp</td>\n",
       "      <td>private</td>\n",
       "      <td>SF</td>\n",
       "      <td>41</td>\n",
       "      <td>0</td>\n",
       "      <td>0</td>\n",
       "      <td>0</td>\n",
       "      <td>0</td>\n",
       "      <td>0</td>\n",
       "      <td>...</td>\n",
       "      <td>1.00</td>\n",
       "      <td>0.00</td>\n",
       "      <td>0.00</td>\n",
       "      <td>0.00</td>\n",
       "      <td>0.00</td>\n",
       "      <td>0.00</td>\n",
       "      <td>0.00</td>\n",
       "      <td>0.00</td>\n",
       "      <td>snmpguess</td>\n",
       "      <td>17</td>\n",
       "    </tr>\n",
       "  </tbody>\n",
       "</table>\n",
       "<p>11849 rows × 43 columns</p>\n",
       "</div>"
      ],
      "text/plain": [
       "       duration protocol_type   service  flag  src_bytes  dst_bytes  land  \\\n",
       "0             0           udp   private    SF         44          0     0   \n",
       "1             0           tcp    telnet    S3          0         44     0   \n",
       "2             0           udp   private    SF         53         55     0   \n",
       "3             0           tcp   private    SH          0          0     0   \n",
       "4             0           tcp      http    SF      54540       8314     0   \n",
       "...         ...           ...       ...   ...        ...        ...   ...   \n",
       "11844         0           udp  domain_u    SF         43         43     0   \n",
       "11845         0           tcp      http    SF        336        285     0   \n",
       "11846         1           tcp    telnet  RSTO          0         15     0   \n",
       "11847         0           tcp    sunrpc   REJ          0          0     0   \n",
       "11848         0           udp   private    SF         41          0     0   \n",
       "\n",
       "       wrong_fragment  urgent  hot  ...  dst_host_same_srv_rate  \\\n",
       "0                   0       0    0  ...                    1.00   \n",
       "1                   0       0    0  ...                    0.31   \n",
       "2                   0       0    0  ...                    1.00   \n",
       "3                   0       0    0  ...                    0.06   \n",
       "4                   0       0    2  ...                    0.90   \n",
       "...               ...     ...  ...  ...                     ...   \n",
       "11844               0       0    0  ...                    1.00   \n",
       "11845               0       0    0  ...                    0.92   \n",
       "11846               0       0    0  ...                    0.37   \n",
       "11847               0       0    0  ...                    0.19   \n",
       "11848               0       0    0  ...                    1.00   \n",
       "\n",
       "       dst_host_diff_srv_rate  dst_host_same_src_port_rate  \\\n",
       "0                        0.01                         0.01   \n",
       "1                        0.61                         0.00   \n",
       "2                        0.00                         0.87   \n",
       "3                        1.00                         1.00   \n",
       "4                        0.01                         0.00   \n",
       "...                       ...                          ...   \n",
       "11844                    0.00                         0.01   \n",
       "11845                    0.02                         0.00   \n",
       "11846                    0.03                         0.01   \n",
       "11847                    0.03                         0.01   \n",
       "11848                    0.00                         0.00   \n",
       "\n",
       "       dst_host_srv_diff_host_rate  dst_host_serror_rate  \\\n",
       "0                             0.00                  0.00   \n",
       "1                             0.00                  0.21   \n",
       "2                             0.00                  0.00   \n",
       "3                             0.00                  1.00   \n",
       "4                             0.00                  0.00   \n",
       "...                            ...                   ...   \n",
       "11844                         0.00                  0.00   \n",
       "11845                         0.00                  0.00   \n",
       "11846                         0.02                  0.05   \n",
       "11847                         0.04                  0.00   \n",
       "11848                         0.00                  0.00   \n",
       "\n",
       "       dst_host_srv_serror_rate  dst_host_rerror_rate  \\\n",
       "0                          0.00                  0.00   \n",
       "1                          0.68                  0.60   \n",
       "2                          0.00                  0.00   \n",
       "3                          1.00                  0.00   \n",
       "4                          0.00                  0.01   \n",
       "...                         ...                   ...   \n",
       "11844                      0.00                  0.00   \n",
       "11845                      0.00                  0.05   \n",
       "11846                      0.08                  0.85   \n",
       "11847                      0.00                  0.88   \n",
       "11848                      0.00                  0.00   \n",
       "\n",
       "       dst_host_srv_rerror_rate        attack  level  \n",
       "0                          0.00     snmpguess     12  \n",
       "1                          0.00  processtable     18  \n",
       "2                          0.00        normal     17  \n",
       "3                          0.00          nmap     17  \n",
       "4                          0.00          back     10  \n",
       "...                         ...           ...    ...  \n",
       "11844                      0.00        normal     18  \n",
       "11845                      0.00        normal     18  \n",
       "11846                      0.58         mscan     13  \n",
       "11847                      1.00         mscan     15  \n",
       "11848                      0.00     snmpguess     17  \n",
       "\n",
       "[11849 rows x 43 columns]"
      ]
     },
     "execution_count": 53,
     "metadata": {},
     "output_type": "execute_result"
    }
   ],
   "source": [
    "df_test = pd.read_csv('DATA/KDDTest-21.txt')\n",
    "\n",
    "columns = (['duration','protocol_type','service','flag','src_bytes','dst_bytes','land','wrong_fragment','urgent','hot'\n",
    ",'num_failed_logins','logged_in','num_compromised','root_shell','su_attempted','num_root','num_file_creations'\n",
    ",'num_shells','num_access_files','num_outbound_cmds','is_host_login','is_guest_login','count','srv_count','serror_rate'\n",
    ",'srv_serror_rate','rerror_rate','srv_rerror_rate','same_srv_rate','diff_srv_rate','srv_diff_host_rate','dst_host_count','dst_host_srv_count'\n",
    ",'dst_host_same_srv_rate','dst_host_diff_srv_rate','dst_host_same_src_port_rate','dst_host_srv_diff_host_rate','dst_host_serror_rate'\n",
    ",'dst_host_srv_serror_rate','dst_host_rerror_rate','dst_host_srv_rerror_rate','attack','level'])\n",
    "\n",
    "df_test.columns = columns\n",
    "df_test"
   ]
  },
  {
   "cell_type": "code",
   "execution_count": 54,
   "id": "39936129-99b7-4f1f-b919-45d48ed6fba6",
   "metadata": {},
   "outputs": [],
   "source": [
    "df_test = df_test.drop(['attack', 'level'], axis=1)"
   ]
  },
  {
   "cell_type": "code",
   "execution_count": 55,
   "id": "2caa9870-ab70-457f-bf1a-7ee0b678ad3e",
   "metadata": {},
   "outputs": [],
   "source": [
    "loaded_model = pickle.load(open(filename, 'rb'))"
   ]
  },
  {
   "cell_type": "code",
   "execution_count": 56,
   "id": "e5c7824e-4686-4532-aaf2-4944e053ba18",
   "metadata": {},
   "outputs": [],
   "source": [
    "def intrusion_check(packet):\n",
    "    packet[1] = le_protocol_type.transform([packet[1]])[0]\n",
    "    packet[2] = le_service.transform([packet[2]])[0]\n",
    "    packet[3] = le_flag.transform([packet[3]])[0]\n",
    "    pred = loaded_model.predict(np.reshape(packet, (1, 41)))\n",
    "    predicted = le_attack.inverse_transform(pred)\n",
    "    \n",
    "    return predicted[0]"
   ]
  },
  {
   "cell_type": "code",
   "execution_count": 57,
   "id": "237504a4-58d5-455f-83c8-602ccd0dd35b",
   "metadata": {},
   "outputs": [],
   "source": [
    "def capture_packet(count=float('inf')):\n",
    "    filtered_packets = []\n",
    "\n",
    "    def handle_sniffed_packet(packet):\n",
    "        num = random.randint(0, 11849)\n",
    "        check = intrusion_check(list(df_test.iloc[num]))\n",
    "        if check == 'normal':\n",
    "            filtered_packets.append(packet)\n",
    "            print(f'Packet Safe, From [{packet.src}] To [{packet.dst}]')\n",
    "        else:\n",
    "            print(f'Caution! Found {check}, From [{packet.src}] To [{packet.dst}]')\n",
    "\n",
    "    # Start capturing packets using sniff\n",
    "    sniff(prn=handle_sniffed_packet, count=count)\n",
    "\n",
    "    return filtered_packets"
   ]
  },
  {
   "cell_type": "code",
   "execution_count": 58,
   "id": "c4f892ad-c3e6-4be4-b185-66cc9435c70a",
   "metadata": {},
   "outputs": [
    {
     "ename": "RuntimeError",
     "evalue": "Sniffing and sending packets is not available at layer 2: winpcap is not installed. You may use conf.L3socket orconf.L3socket6 to access layer 3",
     "output_type": "error",
     "traceback": [
      "\u001b[1;31m---------------------------------------------------------------------------\u001b[0m",
      "\u001b[1;31mRuntimeError\u001b[0m                              Traceback (most recent call last)",
      "Cell \u001b[1;32mIn[58], line 2\u001b[0m\n\u001b[0;32m      1\u001b[0m \u001b[38;5;66;03m# Capture 20 packets and receive the safe packets\u001b[39;00m\n\u001b[1;32m----> 2\u001b[0m packets \u001b[38;5;241m=\u001b[39m \u001b[43mcapture_packet\u001b[49m\u001b[43m(\u001b[49m\u001b[38;5;241;43m20\u001b[39;49m\u001b[43m)\u001b[49m\n",
      "Cell \u001b[1;32mIn[57], line 14\u001b[0m, in \u001b[0;36mcapture_packet\u001b[1;34m(count)\u001b[0m\n\u001b[0;32m     11\u001b[0m         \u001b[38;5;28mprint\u001b[39m(\u001b[38;5;124mf\u001b[39m\u001b[38;5;124m'\u001b[39m\u001b[38;5;124mCaution! Found \u001b[39m\u001b[38;5;132;01m{\u001b[39;00mcheck\u001b[38;5;132;01m}\u001b[39;00m\u001b[38;5;124m, From [\u001b[39m\u001b[38;5;132;01m{\u001b[39;00mpacket\u001b[38;5;241m.\u001b[39msrc\u001b[38;5;132;01m}\u001b[39;00m\u001b[38;5;124m] To [\u001b[39m\u001b[38;5;132;01m{\u001b[39;00mpacket\u001b[38;5;241m.\u001b[39mdst\u001b[38;5;132;01m}\u001b[39;00m\u001b[38;5;124m]\u001b[39m\u001b[38;5;124m'\u001b[39m)\n\u001b[0;32m     13\u001b[0m \u001b[38;5;66;03m# Start capturing packets using sniff\u001b[39;00m\n\u001b[1;32m---> 14\u001b[0m \u001b[43msniff\u001b[49m\u001b[43m(\u001b[49m\u001b[43mprn\u001b[49m\u001b[38;5;241;43m=\u001b[39;49m\u001b[43mhandle_sniffed_packet\u001b[49m\u001b[43m,\u001b[49m\u001b[43m \u001b[49m\u001b[43mcount\u001b[49m\u001b[38;5;241;43m=\u001b[39;49m\u001b[43mcount\u001b[49m\u001b[43m)\u001b[49m\n\u001b[0;32m     16\u001b[0m \u001b[38;5;28;01mreturn\u001b[39;00m filtered_packets\n",
      "File \u001b[1;32mD:\\environment\\anaconda3\\envs\\py3.8\\lib\\site-packages\\scapy\\sendrecv.py:1311\u001b[0m, in \u001b[0;36msniff\u001b[1;34m(*args, **kwargs)\u001b[0m\n\u001b[0;32m   1307\u001b[0m \u001b[38;5;129m@conf\u001b[39m\u001b[38;5;241m.\u001b[39mcommands\u001b[38;5;241m.\u001b[39mregister\n\u001b[0;32m   1308\u001b[0m \u001b[38;5;28;01mdef\u001b[39;00m \u001b[38;5;21msniff\u001b[39m(\u001b[38;5;241m*\u001b[39margs, \u001b[38;5;241m*\u001b[39m\u001b[38;5;241m*\u001b[39mkwargs):\n\u001b[0;32m   1309\u001b[0m     \u001b[38;5;66;03m# type: (*Any, **Any) -> PacketList\u001b[39;00m\n\u001b[0;32m   1310\u001b[0m     sniffer \u001b[38;5;241m=\u001b[39m AsyncSniffer()\n\u001b[1;32m-> 1311\u001b[0m     \u001b[43msniffer\u001b[49m\u001b[38;5;241;43m.\u001b[39;49m\u001b[43m_run\u001b[49m\u001b[43m(\u001b[49m\u001b[38;5;241;43m*\u001b[39;49m\u001b[43margs\u001b[49m\u001b[43m,\u001b[49m\u001b[43m \u001b[49m\u001b[38;5;241;43m*\u001b[39;49m\u001b[38;5;241;43m*\u001b[39;49m\u001b[43mkwargs\u001b[49m\u001b[43m)\u001b[49m\n\u001b[0;32m   1312\u001b[0m     \u001b[38;5;28;01mreturn\u001b[39;00m cast(PacketList, sniffer\u001b[38;5;241m.\u001b[39mresults)\n",
      "File \u001b[1;32mD:\\environment\\anaconda3\\envs\\py3.8\\lib\\site-packages\\scapy\\sendrecv.py:1171\u001b[0m, in \u001b[0;36mAsyncSniffer._run\u001b[1;34m(self, count, store, offline, quiet, prn, lfilter, L2socket, timeout, opened_socket, stop_filter, iface, started_callback, session, session_kwargs, **karg)\u001b[0m\n\u001b[0;32m   1169\u001b[0m     \u001b[38;5;28;01melse\u001b[39;00m:\n\u001b[0;32m   1170\u001b[0m         iface \u001b[38;5;241m=\u001b[39m iface \u001b[38;5;129;01mor\u001b[39;00m conf\u001b[38;5;241m.\u001b[39miface\n\u001b[1;32m-> 1171\u001b[0m         sniff_sockets[\u001b[43m_RL2\u001b[49m\u001b[43m(\u001b[49m\u001b[43miface\u001b[49m\u001b[43m)\u001b[49m\u001b[43m(\u001b[49m\u001b[38;5;28;43mtype\u001b[39;49m\u001b[38;5;241;43m=\u001b[39;49m\u001b[43mETH_P_ALL\u001b[49m\u001b[43m,\u001b[49m\u001b[43m \u001b[49m\u001b[43miface\u001b[49m\u001b[38;5;241;43m=\u001b[39;49m\u001b[43miface\u001b[49m\u001b[43m,\u001b[49m\n\u001b[0;32m   1172\u001b[0m \u001b[43m                                  \u001b[49m\u001b[38;5;241;43m*\u001b[39;49m\u001b[38;5;241;43m*\u001b[39;49m\u001b[43mkarg\u001b[49m\u001b[43m)\u001b[49m] \u001b[38;5;241m=\u001b[39m iface\n\u001b[0;32m   1174\u001b[0m \u001b[38;5;66;03m# Get select information from the sockets\u001b[39;00m\n\u001b[0;32m   1175\u001b[0m _main_socket \u001b[38;5;241m=\u001b[39m \u001b[38;5;28mnext\u001b[39m(\u001b[38;5;28miter\u001b[39m(sniff_sockets))\n",
      "File \u001b[1;32mD:\\environment\\anaconda3\\envs\\py3.8\\lib\\site-packages\\scapy\\arch\\windows\\__init__.py:1019\u001b[0m, in \u001b[0;36m_NotAvailableSocket.__init__\u001b[1;34m(self, *args, **kargs)\u001b[0m\n\u001b[0;32m   1017\u001b[0m \u001b[38;5;28;01mdef\u001b[39;00m \u001b[38;5;21m__init__\u001b[39m(\u001b[38;5;28mself\u001b[39m, \u001b[38;5;241m*\u001b[39margs, \u001b[38;5;241m*\u001b[39m\u001b[38;5;241m*\u001b[39mkargs):\n\u001b[0;32m   1018\u001b[0m     \u001b[38;5;66;03m# type: (*Any, **Any) -> None\u001b[39;00m\n\u001b[1;32m-> 1019\u001b[0m     \u001b[38;5;28;01mraise\u001b[39;00m \u001b[38;5;167;01mRuntimeError\u001b[39;00m(\n\u001b[0;32m   1020\u001b[0m         \u001b[38;5;124m\"\u001b[39m\u001b[38;5;124mSniffing and sending packets is not available at layer 2: \u001b[39m\u001b[38;5;124m\"\u001b[39m\n\u001b[0;32m   1021\u001b[0m         \u001b[38;5;124m\"\u001b[39m\u001b[38;5;124mwinpcap is not installed. You may use conf.L3socket or\u001b[39m\u001b[38;5;124m\"\u001b[39m\n\u001b[0;32m   1022\u001b[0m         \u001b[38;5;124m\"\u001b[39m\u001b[38;5;124mconf.L3socket6 to access layer 3\u001b[39m\u001b[38;5;124m\"\u001b[39m\n\u001b[0;32m   1023\u001b[0m     )\n",
      "\u001b[1;31mRuntimeError\u001b[0m: Sniffing and sending packets is not available at layer 2: winpcap is not installed. You may use conf.L3socket orconf.L3socket6 to access layer 3"
     ]
    }
   ],
   "source": [
    "# Capture 20 packets and receive the safe packets\n",
    "packets = capture_packet(20)"
   ]
  },
  {
   "cell_type": "code",
   "execution_count": null,
   "id": "d93215b7-8af9-4ae6-984b-5d717cce9e57",
   "metadata": {},
   "outputs": [],
   "source": [
    "packets[0]"
   ]
  },
  {
   "cell_type": "code",
   "execution_count": null,
   "id": "8a6cb488-843d-454d-9061-c7abc26c7684",
   "metadata": {},
   "outputs": [],
   "source": [
    "# Capture packets until stop button is clicked and receive the safe packets\n",
    "packets = capture_packet()"
   ]
  },
  {
   "cell_type": "code",
   "execution_count": null,
   "id": "542738ba-ff9a-447e-ae0b-2a4a87b5b685",
   "metadata": {},
   "outputs": [],
   "source": []
  }
 ],
 "metadata": {
  "kernelspec": {
   "display_name": "Python [conda env:py3.8]",
   "language": "python",
   "name": "conda-env-py3.8-py"
  },
  "language_info": {
   "codemirror_mode": {
    "name": "ipython",
    "version": 3
   },
   "file_extension": ".py",
   "mimetype": "text/x-python",
   "name": "python",
   "nbconvert_exporter": "python",
   "pygments_lexer": "ipython3",
   "version": "3.8.19"
  }
 },
 "nbformat": 4,
 "nbformat_minor": 5
}
